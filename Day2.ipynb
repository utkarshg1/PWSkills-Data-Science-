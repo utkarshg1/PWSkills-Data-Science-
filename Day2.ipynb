{
 "cells": [
  {
   "cell_type": "markdown",
   "id": "e1057c6f-9e47-4e57-b90c-526b30d87f5a",
   "metadata": {},
   "source": [
    "# PWSkills Day 2 Data Science Class - Utkarsh Gaikwad"
   ]
  },
  {
   "cell_type": "markdown",
   "id": "124ff2c2-dc85-4016-8d61-1919944aabdd",
   "metadata": {},
   "source": [
    "print(123)"
   ]
  },
  {
   "cell_type": "code",
   "execution_count": 2,
   "id": "5257a959-fca7-4c07-b1df-3bd00a91444b",
   "metadata": {},
   "outputs": [
    {
     "name": "stdout",
     "output_type": "stream",
     "text": [
      "My age is : 28\n"
     ]
    }
   ],
   "source": [
    "age = 28\n",
    "print('My age is :',age)"
   ]
  },
  {
   "cell_type": "code",
   "execution_count": 3,
   "id": "a46dc3a3-8bce-4f74-afce-538e6cc05406",
   "metadata": {},
   "outputs": [
    {
     "name": "stdout",
     "output_type": "stream",
     "text": [
      "My age is 28\n"
     ]
    }
   ],
   "source": [
    "#fstring\n",
    "print(f\"My age is {age}\")"
   ]
  },
  {
   "cell_type": "code",
   "execution_count": 4,
   "id": "b6444c17-1c26-4e27-a966-42c0b6e7d4ba",
   "metadata": {},
   "outputs": [
    {
     "name": "stdout",
     "output_type": "stream",
     "text": [
      "My Name is Utkarsh and age is 28\n"
     ]
    }
   ],
   "source": [
    "#format\n",
    "name = 'Utkarsh'\n",
    "age = 28\n",
    "print('My Name is {} and age is {}'.format(name,age))"
   ]
  },
  {
   "cell_type": "code",
   "execution_count": 5,
   "id": "5d18d392-0381-4302-86ee-1e40582a2f04",
   "metadata": {},
   "outputs": [
    {
     "name": "stdout",
     "output_type": "stream",
     "text": [
      "My Name is Utkarsh and age is 28\n"
     ]
    }
   ],
   "source": [
    "# Placeholder\n",
    "print('My Name is {FirstName} and age is {FirstAge}'.format(FirstName=name,FirstAge=age))"
   ]
  },
  {
   "cell_type": "markdown",
   "id": "d8f8156d-2209-42cf-a891-d263dae3c15d",
   "metadata": {},
   "source": [
    "# Control Flow (if statements)"
   ]
  },
  {
   "cell_type": "code",
   "execution_count": 6,
   "id": "0a693237-2303-45ae-b192-175796692142",
   "metadata": {},
   "outputs": [
    {
     "name": "stdin",
     "output_type": "stream",
     "text": [
      "Please Enter your age : 30\n"
     ]
    },
    {
     "name": "stdout",
     "output_type": "stream",
     "text": [
      "You are young blood\n"
     ]
    }
   ],
   "source": [
    "age = input('Please Enter your age :')\n",
    "age = int(age)\n",
    "if age>=18 and age<=45:\n",
    "    print('You are young blood')"
   ]
  },
  {
   "cell_type": "code",
   "execution_count": 12,
   "id": "32555e9e-3566-42be-8582-463fe709b10a",
   "metadata": {},
   "outputs": [
    {
     "name": "stdin",
     "output_type": "stream",
     "text": [
      "Enter the price : 4000\n"
     ]
    },
    {
     "name": "stdout",
     "output_type": "stream",
     "text": [
      "You got 20% off\n",
      "Product price after discount: 3200.0\n"
     ]
    }
   ],
   "source": [
    "price = float(input('Enter the price :'))\n",
    "if price>3000:\n",
    "    print('You got 20% off')\n",
    "    print('Product price after discount:',0.8*price)\n",
    "elif price>=2000 and price<=3000:\n",
    "    print('You got 30% off')\n",
    "    print('Product price after discount:',0.7*price)\n",
    "elif price>=1000 and price<2000:\n",
    "    print('You got 40% off')\n",
    "    print('Product price after discount:',0.6*price)\n",
    "else:\n",
    "    print('You get no discount')\n",
    "    print('Product price with no discount',price)\n"
   ]
  },
  {
   "cell_type": "markdown",
   "id": "5ceca0ea-6c95-48c9-966f-de7058198557",
   "metadata": {},
   "source": [
    "# Loops"
   ]
  },
  {
   "cell_type": "markdown",
   "id": "3afbd88f-4a5c-4cfa-bf9b-8bf77046f9cf",
   "metadata": {},
   "source": [
    "### While Loop with else block"
   ]
  },
  {
   "cell_type": "code",
   "execution_count": 3,
   "id": "d0ff0ed9-2d17-4401-9fa2-89bfc971011e",
   "metadata": {},
   "outputs": [
    {
     "name": "stdout",
     "output_type": "stream",
     "text": [
      "28\n",
      "29\n",
      "30\n",
      "31\n",
      "32\n",
      "33\n",
      "34\n",
      "35\n",
      "36\n",
      "37\n",
      "38\n",
      "39\n",
      "40\n",
      "41\n",
      "42\n",
      "43\n",
      "44\n",
      "45\n",
      "46\n",
      "47\n",
      "48\n",
      "49\n",
      "50\n",
      "51\n",
      "52\n",
      "53\n",
      "54\n",
      "55\n",
      "56\n",
      "57\n",
      "58\n",
      "59\n",
      "60\n",
      "Its time for retirement\n"
     ]
    }
   ],
   "source": [
    "age = 28\n",
    "while age<=60:\n",
    "    print(age)\n",
    "    age = age+1    \n",
    "else:\n",
    "    print('Its time for retirement')"
   ]
  },
  {
   "cell_type": "code",
   "execution_count": 4,
   "id": "c66e975a-70f9-47f3-8bb5-bf361c1b1f8b",
   "metadata": {},
   "outputs": [
    {
     "name": "stdout",
     "output_type": "stream",
     "text": [
      "1000\n",
      "900\n",
      "800\n",
      "700\n",
      "600\n",
      "500\n",
      "400\n",
      "300\n",
      "200\n",
      "100\n",
      "Cash Dispensed\n"
     ]
    }
   ],
   "source": [
    "#Atm with 1000 amount\n",
    "amt = 1000\n",
    "while amt!=0:\n",
    "    print(amt)\n",
    "    amt = amt - 100\n",
    "else:\n",
    "    print('Cash Dispensed')"
   ]
  },
  {
   "cell_type": "markdown",
   "id": "abe927b9-895a-471d-bf2f-8390588de2e5",
   "metadata": {},
   "source": [
    "### For Loop"
   ]
  },
  {
   "cell_type": "code",
   "execution_count": 5,
   "id": "9a9a09d4-d8f5-4d6f-a48c-7282c16d357a",
   "metadata": {},
   "outputs": [],
   "source": [
    "l = ['Utkarsh',1,2,3,'apple','banana']"
   ]
  },
  {
   "cell_type": "code",
   "execution_count": 6,
   "id": "b6c3ef19-eeda-4424-80db-7992f9cd1029",
   "metadata": {},
   "outputs": [
    {
     "data": {
      "text/plain": [
       "list"
      ]
     },
     "execution_count": 6,
     "metadata": {},
     "output_type": "execute_result"
    }
   ],
   "source": [
    "type(l)"
   ]
  },
  {
   "cell_type": "code",
   "execution_count": 7,
   "id": "4199c8b3-8d36-4914-b7b3-84895f1bc1b8",
   "metadata": {},
   "outputs": [
    {
     "data": {
      "text/plain": [
       "'Utkarsh'"
      ]
     },
     "execution_count": 7,
     "metadata": {},
     "output_type": "execute_result"
    }
   ],
   "source": [
    "l[0]"
   ]
  },
  {
   "cell_type": "code",
   "execution_count": 9,
   "id": "9bee4018-56f1-4581-abd2-6301f9ddfe3c",
   "metadata": {},
   "outputs": [
    {
     "data": {
      "text/plain": [
       "3"
      ]
     },
     "execution_count": 9,
     "metadata": {},
     "output_type": "execute_result"
    }
   ],
   "source": [
    "l[3]"
   ]
  },
  {
   "cell_type": "code",
   "execution_count": 12,
   "id": "41c12a13-4574-4c70-979d-b367ad277825",
   "metadata": {},
   "outputs": [
    {
     "name": "stdout",
     "output_type": "stream",
     "text": [
      "Utkarsh \t <class 'str'>\n",
      "1 \t <class 'int'>\n",
      "2 \t <class 'int'>\n",
      "3 \t <class 'int'>\n",
      "apple \t <class 'str'>\n",
      "banana \t <class 'str'>\n"
     ]
    }
   ],
   "source": [
    "for x in l:\n",
    "    print(x,'\\t', type(x))    "
   ]
  },
  {
   "cell_type": "code",
   "execution_count": 19,
   "id": "1ff5e90f-0a54-4b26-8bec-7f7e5fe4c677",
   "metadata": {},
   "outputs": [
    {
     "name": "stdout",
     "output_type": "stream",
     "text": [
      "apple\n",
      "orange\n",
      "cherry\n",
      "banana\n",
      "This is banana\n",
      "grapes\n",
      "strawberry\n"
     ]
    }
   ],
   "source": [
    "fruit_list = ['apple','orange','cherry','banana','grapes','strawberry']\n",
    "for a in fruit_list:\n",
    "    print(a)\n",
    "    if a == 'banana':\n",
    "        print('This is banana')"
   ]
  },
  {
   "cell_type": "code",
   "execution_count": 20,
   "id": "3ce0a769-5df1-4466-9bc9-009a0d1fcc26",
   "metadata": {},
   "outputs": [
    {
     "name": "stdout",
     "output_type": "stream",
     "text": [
      "o\n",
      "r\n",
      "a\n",
      "n\n",
      "g\n",
      "e\n"
     ]
    }
   ],
   "source": [
    "fruit = 'orange'\n",
    "for i in fruit:\n",
    "    print(i)"
   ]
  },
  {
   "cell_type": "code",
   "execution_count": 21,
   "id": "61e30906-4974-44b1-baef-595d34b37218",
   "metadata": {},
   "outputs": [
    {
     "data": {
      "text/plain": [
       "'o'"
      ]
     },
     "execution_count": 21,
     "metadata": {},
     "output_type": "execute_result"
    }
   ],
   "source": [
    "fruit[0]"
   ]
  },
  {
   "cell_type": "code",
   "execution_count": 23,
   "id": "6ea3d427-ee58-4a72-aee2-b313c65f495c",
   "metadata": {},
   "outputs": [
    {
     "data": {
      "text/plain": [
       "'n'"
      ]
     },
     "execution_count": 23,
     "metadata": {},
     "output_type": "execute_result"
    }
   ],
   "source": [
    "fruit[3]"
   ]
  },
  {
   "cell_type": "markdown",
   "id": "57c45c96-7810-451a-9eb5-6d2e0967d843",
   "metadata": {},
   "source": [
    "### Nested Loop"
   ]
  },
  {
   "cell_type": "code",
   "execution_count": 25,
   "id": "c0b062bb-279e-4e0b-a921-a6fe6d026dcd",
   "metadata": {},
   "outputs": [
    {
     "name": "stdout",
     "output_type": "stream",
     "text": [
      "1\n",
      "3\n",
      "5\n",
      "7\n",
      "9\n"
     ]
    }
   ],
   "source": [
    "for i in range(1,10,2):\n",
    "    print(i)"
   ]
  },
  {
   "cell_type": "code",
   "execution_count": 30,
   "id": "1d0ac2f8-b29b-4ea6-9ab7-e74224685da1",
   "metadata": {},
   "outputs": [
    {
     "name": "stdout",
     "output_type": "stream",
     "text": [
      "*\n",
      "**\n",
      "***\n",
      "****\n",
      "*****\n",
      "******\n",
      "*******\n",
      "********\n",
      "*********\n",
      "**********\n"
     ]
    }
   ],
   "source": [
    "n = 10\n",
    "for i in range(0,n):\n",
    "    for j in range(0,i+1):\n",
    "        print('*',end='')\n",
    "    print('\\r')"
   ]
  },
  {
   "cell_type": "code",
   "execution_count": 31,
   "id": "c3e5637c-e863-422c-8d39-258e6c8e2141",
   "metadata": {},
   "outputs": [
    {
     "data": {
      "text/plain": [
       "['apple', 'orange', 'cherry', 'banana', 'grapes', 'strawberry']"
      ]
     },
     "execution_count": 31,
     "metadata": {},
     "output_type": "execute_result"
    }
   ],
   "source": [
    "fruit_list"
   ]
  },
  {
   "cell_type": "code",
   "execution_count": 33,
   "id": "93a70d7c-1093-41b6-aa6a-d52124ffc5c8",
   "metadata": {},
   "outputs": [
    {
     "name": "stdout",
     "output_type": "stream",
     "text": [
      "apple\n",
      "orange\n",
      "cherry\n",
      "This is Banana\n"
     ]
    }
   ],
   "source": [
    "for i in fruit_list:\n",
    "    if i=='banana':\n",
    "        print('This is Banana')\n",
    "        break\n",
    "    print(i)"
   ]
  },
  {
   "cell_type": "code",
   "execution_count": 34,
   "id": "3c2ddcc8-2ddf-43fd-90fe-ff10a36d6406",
   "metadata": {},
   "outputs": [
    {
     "name": "stdout",
     "output_type": "stream",
     "text": [
      "apple\n",
      "orange\n",
      "cherry\n",
      "This is Banana\n",
      "banana\n",
      "grapes\n",
      "strawberry\n"
     ]
    }
   ],
   "source": [
    "for i in fruit_list:\n",
    "    if i=='banana':\n",
    "        print('This is Banana')\n",
    "        pass\n",
    "    print(i)"
   ]
  },
  {
   "cell_type": "code",
   "execution_count": 35,
   "id": "b6a10aaf-763e-4b9b-a413-9e8fc112ab7f",
   "metadata": {},
   "outputs": [
    {
     "name": "stdout",
     "output_type": "stream",
     "text": [
      "apple\n",
      "orange\n",
      "cherry\n",
      "This is Banana\n",
      "grapes\n",
      "strawberry\n"
     ]
    }
   ],
   "source": [
    "for i in fruit_list:\n",
    "    if i=='banana':\n",
    "        print('This is Banana')\n",
    "        continue\n",
    "    print(i)"
   ]
  },
  {
   "cell_type": "code",
   "execution_count": null,
   "id": "d0094da9-ff02-4481-aca2-e024e06af974",
   "metadata": {},
   "outputs": [],
   "source": []
  }
 ],
 "metadata": {
  "kernelspec": {
   "display_name": "Python 3 (ipykernel)",
   "language": "python",
   "name": "python3"
  },
  "language_info": {
   "codemirror_mode": {
    "name": "ipython",
    "version": 3
   },
   "file_extension": ".py",
   "mimetype": "text/x-python",
   "name": "python",
   "nbconvert_exporter": "python",
   "pygments_lexer": "ipython3",
   "version": "3.10.8"
  }
 },
 "nbformat": 4,
 "nbformat_minor": 5
}
