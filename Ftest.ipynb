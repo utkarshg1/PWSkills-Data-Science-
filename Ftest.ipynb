{
 "cells": [
  {
   "cell_type": "markdown",
   "id": "294567d6-8aed-4741-9de4-42e740d870fd",
   "metadata": {},
   "source": [
    "# F-test - Utkarsh Gaikwad"
   ]
  },
  {
   "cell_type": "code",
   "execution_count": 1,
   "id": "092a421e-e840-4b75-bcb4-b12a3b4cf499",
   "metadata": {},
   "outputs": [],
   "source": [
    "# Evidence to say that two population variances are not equal\n",
    "# Check if one worker is better than other\n",
    "worker1 = [18,19,22,25,27,28,41,45,51,55]\n",
    "worker2 = [14,15,15,17,18,22,25,25,27,34]"
   ]
  },
  {
   "cell_type": "code",
   "execution_count": 2,
   "id": "5f7e2af8-30b4-4bcb-a5af-6fd11c79c6c9",
   "metadata": {},
   "outputs": [
    {
     "name": "stdout",
     "output_type": "stream",
     "text": [
      "F Statistic for workers is 4.3871\n"
     ]
    }
   ],
   "source": [
    "# Calculating F test statistic\n",
    "import numpy as np\n",
    "f_stat = np.var(worker1,ddof=1)/np.var(worker2,ddof=1)\n",
    "print(f'F Statistic for workers is {f_stat:.4f}')"
   ]
  },
  {
   "cell_type": "code",
   "execution_count": 3,
   "id": "598781a9-1c1e-4bc9-a8e6-033fc4fa0335",
   "metadata": {},
   "outputs": [],
   "source": [
    "# Degrees of freedom\n",
    "df1 = len(worker1)-1\n",
    "df2 = len(worker2)-1\n",
    "alpha = 0.05"
   ]
  },
  {
   "cell_type": "code",
   "execution_count": 4,
   "id": "d512b146-76e4-408d-9f84-18ddf6a47670",
   "metadata": {},
   "outputs": [
    {
     "name": "stdout",
     "output_type": "stream",
     "text": [
      "F Critical for above problem is 3.1789\n"
     ]
    }
   ],
   "source": [
    "import scipy.stats as stat\n",
    "f_crit = stat.f.ppf(q = 1- alpha, dfn = df1, dfd = df2)\n",
    "print(f'F Critical for above problem is {f_crit:.4f}')"
   ]
  },
  {
   "cell_type": "code",
   "execution_count": 5,
   "id": "9af67109-3c52-4c64-965d-491e38549fe6",
   "metadata": {},
   "outputs": [
    {
     "name": "stdout",
     "output_type": "stream",
     "text": [
      "Reject the Null Hypothesis\n"
     ]
    }
   ],
   "source": [
    "if f_stat > f_crit :\n",
    "    print('Reject the Null Hypothesis')\n",
    "else :\n",
    "    print('Accept the Null Hypothesis')"
   ]
  },
  {
   "cell_type": "code",
   "execution_count": 15,
   "id": "ba955336-2020-4e09-9147-3fbd0112967e",
   "metadata": {},
   "outputs": [],
   "source": [
    "# Calculating interval mean estimates for both workers using t-stats\n",
    "import numpy as np\n",
    "import scipy.stats as stat\n",
    "def estimated_pop_interval(sample,confidence_level=0.95):\n",
    "    # Calculate Sample Mean \n",
    "    sample_mean = np.mean(sample)\n",
    "    \n",
    "    # Calculate Sample Standard Deviation\n",
    "    sample_std = np.std(sample,ddof=1)\n",
    "    \n",
    "    # calculate the t-value for the desired level of confidence and degrees of freedom\n",
    "    alpha = 1 - confidence_level\n",
    "    dof = len(sample) - 1\n",
    "    t_value = stat.t.ppf(1 - alpha/2, dof)\n",
    "    \n",
    "    # calculate the standard error and margin of error\n",
    "    std_error = sample_std / np.sqrt(len(sample))\n",
    "    margin_of_error = t_value * std_error\n",
    "    \n",
    "     # calculate the confidence interval bounds\n",
    "    lower_bound = sample_mean - margin_of_error\n",
    "    upper_bound = sample_mean + margin_of_error\n",
    "\n",
    "    # return the confidence interval as a tuple\n",
    "    return (lower_bound, upper_bound)"
   ]
  },
  {
   "cell_type": "code",
   "execution_count": 20,
   "id": "778c8616-cfd9-46ce-aa69-396452dbd750",
   "metadata": {},
   "outputs": [
    {
     "name": "stdout",
     "output_type": "stream",
     "text": [
      "Worker1 Estimated population mean with 95% confidence is : (23.32,42.88)\n"
     ]
    }
   ],
   "source": [
    "worker1_lower , worker1_upper = estimated_pop_interval(worker1)\n",
    "print(f'Worker1 Estimated population mean with 95% confidence is : ({worker1_lower:.2f},{worker1_upper:.2f})')"
   ]
  },
  {
   "cell_type": "code",
   "execution_count": 22,
   "id": "9492d7dd-5547-4b41-b69e-3e4711a7d4e2",
   "metadata": {},
   "outputs": [
    {
     "name": "stdout",
     "output_type": "stream",
     "text": [
      "Worker2 Estimated population mean with 95% confidence is : (16.53,25.87)\n"
     ]
    }
   ],
   "source": [
    "worker2_lower , worker2_upper = estimated_pop_interval(worker2)\n",
    "print(f'Worker2 Estimated population mean with 95% confidence is : ({worker2_lower:.2f},{worker2_upper:.2f})')"
   ]
  },
  {
   "cell_type": "code",
   "execution_count": null,
   "id": "06edcb8c-ed98-45a5-ba15-27458d9ad856",
   "metadata": {},
   "outputs": [],
   "source": []
  }
 ],
 "metadata": {
  "kernelspec": {
   "display_name": "Python 3 (ipykernel)",
   "language": "python",
   "name": "python3"
  },
  "language_info": {
   "codemirror_mode": {
    "name": "ipython",
    "version": 3
   },
   "file_extension": ".py",
   "mimetype": "text/x-python",
   "name": "python",
   "nbconvert_exporter": "python",
   "pygments_lexer": "ipython3",
   "version": "3.10.8"
  }
 },
 "nbformat": 4,
 "nbformat_minor": 5
}
