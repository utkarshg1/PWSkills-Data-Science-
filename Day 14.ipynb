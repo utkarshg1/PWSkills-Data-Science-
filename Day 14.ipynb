{
 "cells": [
  {
   "cell_type": "markdown",
   "id": "879ca50f-d0be-45a3-be16-4fb7513870b0",
   "metadata": {},
   "source": [
    "# Day 14: Multithreading - Utkarsh Gaikwad"
   ]
  },
  {
   "cell_type": "code",
   "execution_count": 1,
   "id": "70fdd65c-e501-4653-a890-a28babe456e7",
   "metadata": {},
   "outputs": [],
   "source": [
    "import threading"
   ]
  },
  {
   "cell_type": "code",
   "execution_count": 2,
   "id": "83f389d2-27bd-400f-b388-8a1c12652101",
   "metadata": {},
   "outputs": [],
   "source": [
    "def test(string):\n",
    "    print(f'This is my string : {string}')"
   ]
  },
  {
   "cell_type": "code",
   "execution_count": 3,
   "id": "410d3c58-ef6b-4ac6-a3bf-2fb2c359df6d",
   "metadata": {},
   "outputs": [
    {
     "name": "stdout",
     "output_type": "stream",
     "text": [
      "This is my string : Sample\n"
     ]
    }
   ],
   "source": [
    "test('Sample')"
   ]
  },
  {
   "cell_type": "code",
   "execution_count": 4,
   "id": "9710984e-39de-4b5c-ba43-ed3b9395fa2a",
   "metadata": {},
   "outputs": [
    {
     "name": "stdout",
     "output_type": "stream",
     "text": [
      "This is my string : 1\n"
     ]
    }
   ],
   "source": [
    "test(1)"
   ]
  },
  {
   "cell_type": "code",
   "execution_count": 5,
   "id": "fdd4b594-940d-4496-b045-4c65adde839e",
   "metadata": {},
   "outputs": [
    {
     "name": "stdout",
     "output_type": "stream",
     "text": [
      "This is my string : True\n"
     ]
    }
   ],
   "source": [
    "test(True)"
   ]
  },
  {
   "cell_type": "code",
   "execution_count": 6,
   "id": "5cd8de74-4641-43c7-aad5-6841590f9124",
   "metadata": {},
   "outputs": [
    {
     "name": "stdout",
     "output_type": "stream",
     "text": [
      "This is my string : Example\n"
     ]
    }
   ],
   "source": [
    "test('Example')"
   ]
  },
  {
   "cell_type": "code",
   "execution_count": 7,
   "id": "47a7cf21-9c4b-4695-9e5c-1091e310449f",
   "metadata": {},
   "outputs": [],
   "source": [
    "thread = [threading.Thread(target=test,args=(i,))for i in ['Sample',1,True,'Example']]"
   ]
  },
  {
   "cell_type": "code",
   "execution_count": 8,
   "id": "0bd48e59-0e8d-4be7-9022-d8fc0e75dac1",
   "metadata": {},
   "outputs": [
    {
     "data": {
      "text/plain": [
       "[<Thread(Thread-5 (test), initial)>,\n",
       " <Thread(Thread-6 (test), initial)>,\n",
       " <Thread(Thread-7 (test), initial)>,\n",
       " <Thread(Thread-8 (test), initial)>]"
      ]
     },
     "execution_count": 8,
     "metadata": {},
     "output_type": "execute_result"
    }
   ],
   "source": [
    "thread"
   ]
  },
  {
   "cell_type": "code",
   "execution_count": 9,
   "id": "4ce58dc0-cf99-4250-b18a-02d791e89229",
   "metadata": {},
   "outputs": [
    {
     "name": "stdout",
     "output_type": "stream",
     "text": [
      "This is my string : Sample\n",
      "This is my string : 1\n",
      "This is my string : True\n",
      "This is my string : Example\n"
     ]
    }
   ],
   "source": [
    "for t in thread:\n",
    "    t.start()"
   ]
  },
  {
   "cell_type": "code",
   "execution_count": 10,
   "id": "7a7749c3-161a-433a-8d28-53b7961c79a2",
   "metadata": {},
   "outputs": [],
   "source": [
    "import urllib.request\n",
    "\n",
    "def file_download(url, filename):\n",
    "    urllib.request.urlretrieve(url,filename)"
   ]
  },
  {
   "cell_type": "code",
   "execution_count": 11,
   "id": "cad57cc3-9f0f-4a51-b59b-9aaf2ef4c59c",
   "metadata": {},
   "outputs": [],
   "source": [
    "file_download('https://raw.githubusercontent.com/utkarshg1/PWSkills-Assignments/main/Assignment%2012%20-%2013%20February%202023/Assignment12Log.txt','data1.txt')"
   ]
  },
  {
   "cell_type": "code",
   "execution_count": 12,
   "id": "6f90b563-0b15-404f-b488-2f8291842f1b",
   "metadata": {},
   "outputs": [],
   "source": [
    "url_list = ['https://raw.githubusercontent.com/utkarshg1/PWSkills-Assignments/main/Assignment%2012%20-%2013%20February%202023/Assignment12Log.txt','https://raw.githubusercontent.com/utkarshg1/PWSkills-Assignments/main/Assignment%2011%20-%2012%20February%202023/TryExceptLog.txt','https://raw.githubusercontent.com/utkarshg1/PWSkills-Assignments/main/Assignment%2010%20-%20%2010%20February%202023/students.txt']"
   ]
  },
  {
   "cell_type": "code",
   "execution_count": 13,
   "id": "a0eebd9f-8677-46de-a43d-43559da9250a",
   "metadata": {},
   "outputs": [
    {
     "data": {
      "text/plain": [
       "['https://raw.githubusercontent.com/utkarshg1/PWSkills-Assignments/main/Assignment%2012%20-%2013%20February%202023/Assignment12Log.txt',\n",
       " 'https://raw.githubusercontent.com/utkarshg1/PWSkills-Assignments/main/Assignment%2011%20-%2012%20February%202023/TryExceptLog.txt',\n",
       " 'https://raw.githubusercontent.com/utkarshg1/PWSkills-Assignments/main/Assignment%2010%20-%20%2010%20February%202023/students.txt']"
      ]
     },
     "execution_count": 13,
     "metadata": {},
     "output_type": "execute_result"
    }
   ],
   "source": [
    "url_list"
   ]
  },
  {
   "cell_type": "code",
   "execution_count": 14,
   "id": "5815ed1a-c5ee-4d32-8204-03c67f877886",
   "metadata": {},
   "outputs": [],
   "source": [
    "data_file_list = ['data1.txt','data2.txt','data3.txt']"
   ]
  },
  {
   "cell_type": "code",
   "execution_count": 15,
   "id": "c7337d5d-ba71-443f-91b3-8471c28b08fe",
   "metadata": {},
   "outputs": [
    {
     "data": {
      "text/plain": [
       "['data1.txt', 'data2.txt', 'data3.txt']"
      ]
     },
     "execution_count": 15,
     "metadata": {},
     "output_type": "execute_result"
    }
   ],
   "source": [
    "data_file_list"
   ]
  },
  {
   "cell_type": "code",
   "execution_count": 16,
   "id": "7bb757b0-00c8-43ae-8a3d-824f0a401000",
   "metadata": {},
   "outputs": [],
   "source": [
    "thread1 = [threading.Thread(target=file_download, args=(url_list[i],data_file_list[i])) for i in range(len(url_list))]"
   ]
  },
  {
   "cell_type": "code",
   "execution_count": 17,
   "id": "66658a15-c4ef-4f90-b569-b80e7d077595",
   "metadata": {},
   "outputs": [],
   "source": [
    "for t in thread1:\n",
    "    t.start()"
   ]
  },
  {
   "cell_type": "code",
   "execution_count": 18,
   "id": "7efb39e9-30e2-489e-85dd-5905dff0a89a",
   "metadata": {},
   "outputs": [
    {
     "data": {
      "text/plain": [
       "[<Thread(Thread-9 (file_download), started 140241948108352)>,\n",
       " <Thread(Thread-10 (file_download), started 140241939715648)>,\n",
       " <Thread(Thread-11 (file_download), started 140241931322944)>]"
      ]
     },
     "execution_count": 18,
     "metadata": {},
     "output_type": "execute_result"
    }
   ],
   "source": [
    "thread1"
   ]
  },
  {
   "cell_type": "code",
   "execution_count": 19,
   "id": "dd35c3d1-63fe-4be4-b046-36932f69d324",
   "metadata": {},
   "outputs": [],
   "source": [
    "import time"
   ]
  },
  {
   "cell_type": "code",
   "execution_count": 20,
   "id": "2cfe15af-c610-4cb4-b6f1-15a0c4dee201",
   "metadata": {},
   "outputs": [],
   "source": [
    "def square_of_range(x):\n",
    "    for i in range(x):\n",
    "        print(f'Input : {x} , Number : {i+1} , Square : {(i+1)**2}')\n",
    "        time.sleep(1)"
   ]
  },
  {
   "cell_type": "code",
   "execution_count": 21,
   "id": "bcb140b2-d753-4a4e-bb38-a84323177cff",
   "metadata": {},
   "outputs": [
    {
     "name": "stdout",
     "output_type": "stream",
     "text": [
      "Input : 10 , Number : 1 , Square : 1\n",
      "Input : 10 , Number : 2 , Square : 4\n",
      "Input : 10 , Number : 3 , Square : 9\n",
      "Input : 10 , Number : 4 , Square : 16\n",
      "Input : 10 , Number : 5 , Square : 25\n",
      "Input : 10 , Number : 6 , Square : 36\n",
      "Input : 10 , Number : 7 , Square : 49\n",
      "Input : 10 , Number : 8 , Square : 64\n",
      "Input : 10 , Number : 9 , Square : 81\n",
      "Input : 10 , Number : 10 , Square : 100\n"
     ]
    }
   ],
   "source": [
    "square_of_range(10)"
   ]
  },
  {
   "cell_type": "code",
   "execution_count": 30,
   "id": "292703c6-ebc6-4719-a168-0f008ad8a714",
   "metadata": {},
   "outputs": [],
   "source": [
    "thread2 = [threading.Thread(target = square_of_range,args=(i,)) for i in [5,10,15,20]]"
   ]
  },
  {
   "cell_type": "code",
   "execution_count": 31,
   "id": "a8c70dff-c7b2-45c4-919f-d40c56c1c0ba",
   "metadata": {},
   "outputs": [
    {
     "data": {
      "text/plain": [
       "[<Thread(Thread-16 (square_of_range), initial)>,\n",
       " <Thread(Thread-17 (square_of_range), initial)>,\n",
       " <Thread(Thread-18 (square_of_range), initial)>,\n",
       " <Thread(Thread-19 (square_of_range), initial)>]"
      ]
     },
     "execution_count": 31,
     "metadata": {},
     "output_type": "execute_result"
    }
   ],
   "source": [
    "thread2"
   ]
  },
  {
   "cell_type": "code",
   "execution_count": 32,
   "id": "862373fd-6913-4d0c-ae77-10eb22759e44",
   "metadata": {},
   "outputs": [
    {
     "name": "stdout",
     "output_type": "stream",
     "text": [
      "Input : 5 , Number : 1 , Square : 1\n",
      "Input : 10 , Number : 1 , Square : 1\n",
      "Input : 15 , Number : 1 , Square : 1\n",
      "Input : 20 , Number : 1 , Square : 1\n",
      "Input : 5 , Number : 2 , Square : 4\n",
      "Input : 10 , Number : 2 , Square : 4\n",
      "Input : 15 , Number : 2 , Square : 4\n",
      "Input : 20 , Number : 2 , Square : 4\n",
      "Input : 5 , Number : 3 , Square : 9\n",
      "Input : 10 , Number : 3 , Square : 9\n",
      "Input : 15 , Number : 3 , Square : 9\n",
      "Input : 20 , Number : 3 , Square : 9\n",
      "Input : 5 , Number : 4 , Square : 16Input : 15 , Number : 4 , Square : 16\n",
      "Input : 20 , Number : 4 , Square : 16\n",
      "Input : 10 , Number : 4 , Square : 16\n",
      "\n",
      "Input : 15 , Number : 5 , Square : 25\n",
      "Input : 10 , Number : 5 , Square : 25\n",
      "Input : 5 , Number : 5 , Square : 25\n",
      "Input : 20 , Number : 5 , Square : 25\n",
      "Input : 15 , Number : 6 , Square : 36Input : 10 , Number : 6 , Square : 36\n",
      "Input : 20 , Number : 6 , Square : 36\n",
      "\n",
      "Input : 10 , Number : 7 , Square : 49\n",
      "Input : 20 , Number : 7 , Square : 49\n",
      "Input : 15 , Number : 7 , Square : 49\n",
      "Input : 10 , Number : 8 , Square : 64\n",
      "Input : 20 , Number : 8 , Square : 64\n",
      "Input : 15 , Number : 8 , Square : 64\n",
      "Input : 10 , Number : 9 , Square : 81\n",
      "Input : 20 , Number : 9 , Square : 81\n",
      "Input : 15 , Number : 9 , Square : 81\n",
      "Input : 10 , Number : 10 , Square : 100\n",
      "Input : 15 , Number : 10 , Square : 100\n",
      "Input : 20 , Number : 10 , Square : 100\n",
      "Input : 15 , Number : 11 , Square : 121Input : 20 , Number : 11 , Square : 121\n",
      "\n",
      "Input : 20 , Number : 12 , Square : 144\n",
      "Input : 15 , Number : 12 , Square : 144\n",
      "Input : 20 , Number : 13 , Square : 169\n",
      "Input : 15 , Number : 13 , Square : 169\n",
      "Input : 20 , Number : 14 , Square : 196\n",
      "Input : 15 , Number : 14 , Square : 196\n",
      "Input : 20 , Number : 15 , Square : 225\n",
      "Input : 15 , Number : 15 , Square : 225\n",
      "Input : 20 , Number : 16 , Square : 256\n",
      "Input : 20 , Number : 17 , Square : 289\n",
      "Input : 20 , Number : 18 , Square : 324\n",
      "Input : 20 , Number : 19 , Square : 361\n",
      "Input : 20 , Number : 20 , Square : 400\n"
     ]
    }
   ],
   "source": [
    "for t in thread2:\n",
    "    t.start()"
   ]
  },
  {
   "cell_type": "code",
   "execution_count": 38,
   "id": "0d4b43e2-d19a-4f37-8ca8-951b981964bd",
   "metadata": {},
   "outputs": [],
   "source": [
    "shared_var = 0\n",
    "lock_var = threading.Lock()\n",
    "def test3(x):\n",
    "    global shared_var\n",
    "    with lock_var:\n",
    "        shared_var = shared_var + 1\n",
    "        print(f'Value of x : {x} , Value of shared_var : {shared_var}')\n",
    "        time.sleep(1)\n",
    "\n",
    "thread4 = [threading.Thread(target=test3, args=(i,)) for i in [1,2,3,4,4,5,6]]"
   ]
  },
  {
   "cell_type": "code",
   "execution_count": 34,
   "id": "bc9ea9c1-8e0e-4fde-a2f9-b33186efe1ac",
   "metadata": {},
   "outputs": [
    {
     "name": "stdout",
     "output_type": "stream",
     "text": [
      "Value of x : 1 , Value of shared_var : 1\n"
     ]
    }
   ],
   "source": [
    "test3(1)"
   ]
  },
  {
   "cell_type": "code",
   "execution_count": 35,
   "id": "0b664e06-3e67-4941-96cb-f9fe456b1c5c",
   "metadata": {},
   "outputs": [
    {
     "name": "stdout",
     "output_type": "stream",
     "text": [
      "Value of x : 5 , Value of shared_var : 2\n"
     ]
    }
   ],
   "source": [
    "test3(5)"
   ]
  },
  {
   "cell_type": "code",
   "execution_count": 36,
   "id": "5980081f-23f0-45c4-9614-f85d5952873c",
   "metadata": {},
   "outputs": [
    {
     "name": "stdout",
     "output_type": "stream",
     "text": [
      "Value of x : 6 , Value of shared_var : 3\n"
     ]
    }
   ],
   "source": [
    "test3(6)"
   ]
  },
  {
   "cell_type": "code",
   "execution_count": 39,
   "id": "9be7b6af-0780-41aa-99fd-6032d3ec04b7",
   "metadata": {},
   "outputs": [
    {
     "data": {
      "text/plain": [
       "[<Thread(Thread-20 (test3), initial)>,\n",
       " <Thread(Thread-21 (test3), initial)>,\n",
       " <Thread(Thread-22 (test3), initial)>,\n",
       " <Thread(Thread-23 (test3), initial)>,\n",
       " <Thread(Thread-24 (test3), initial)>,\n",
       " <Thread(Thread-25 (test3), initial)>,\n",
       " <Thread(Thread-26 (test3), initial)>]"
      ]
     },
     "execution_count": 39,
     "metadata": {},
     "output_type": "execute_result"
    }
   ],
   "source": [
    "thread4"
   ]
  },
  {
   "cell_type": "code",
   "execution_count": 40,
   "id": "0d145424-bb70-4c53-b15b-3ab21afd3ede",
   "metadata": {},
   "outputs": [
    {
     "name": "stdout",
     "output_type": "stream",
     "text": [
      "Value of x : 1 , Value of shared_var : 1\n",
      "Value of x : 2 , Value of shared_var : 2\n",
      "Value of x : 3 , Value of shared_var : 3\n",
      "Value of x : 4 , Value of shared_var : 4\n",
      "Value of x : 4 , Value of shared_var : 5\n",
      "Value of x : 5 , Value of shared_var : 6\n",
      "Value of x : 6 , Value of shared_var : 7\n"
     ]
    }
   ],
   "source": [
    "for t in thread4:\n",
    "    t.start()"
   ]
  },
  {
   "cell_type": "code",
   "execution_count": null,
   "id": "3944d04b-b217-4821-bb07-00a4fb5003d0",
   "metadata": {},
   "outputs": [],
   "source": []
  }
 ],
 "metadata": {
  "kernelspec": {
   "display_name": "Python 3 (ipykernel)",
   "language": "python",
   "name": "python3"
  },
  "language_info": {
   "codemirror_mode": {
    "name": "ipython",
    "version": 3
   },
   "file_extension": ".py",
   "mimetype": "text/x-python",
   "name": "python",
   "nbconvert_exporter": "python",
   "pygments_lexer": "ipython3",
   "version": "3.10.8"
  }
 },
 "nbformat": 4,
 "nbformat_minor": 5
}
