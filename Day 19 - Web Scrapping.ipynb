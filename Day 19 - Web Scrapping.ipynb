{
 "cells": [
  {
   "cell_type": "markdown",
   "id": "858173a3-3a5e-44a6-a7f4-75a4354921e2",
   "metadata": {},
   "source": [
    "## Web Scraping Flipkart - Utkarsh Gaikwad"
   ]
  },
  {
   "cell_type": "code",
   "execution_count": 1,
   "id": "2ee4aa41-d5cf-45ce-b2b1-af5a49c42b99",
   "metadata": {},
   "outputs": [],
   "source": [
    "import requests\n",
    "from bs4 import BeautifulSoup as bs\n",
    "from urllib.request import urlopen\n",
    "import logging"
   ]
  },
  {
   "cell_type": "code",
   "execution_count": 2,
   "id": "a37fdd3b-6ba9-4189-b08d-0e12e1497bb4",
   "metadata": {},
   "outputs": [],
   "source": [
    "search_query = \"Smartphone\"\n",
    "search_query = search_query.replace(\" \",\"%20\")\n",
    "flipkart_url = \"https://www.flipkart.com/search?q=\"+search_query"
   ]
  },
  {
   "cell_type": "code",
   "execution_count": 3,
   "id": "e8ff79c8-5179-4f5c-bec9-6c3a5be5ae39",
   "metadata": {},
   "outputs": [
    {
     "data": {
      "text/plain": [
       "'https://www.flipkart.com/search?q=Smartphone'"
      ]
     },
     "execution_count": 3,
     "metadata": {},
     "output_type": "execute_result"
    }
   ],
   "source": [
    "flipkart_url\n"
   ]
  },
  {
   "cell_type": "code",
   "execution_count": 4,
   "id": "cb5e2a9e-42b9-4c58-9449-02d187268635",
   "metadata": {},
   "outputs": [],
   "source": [
    "urlclient = urlopen(flipkart_url)"
   ]
  },
  {
   "cell_type": "code",
   "execution_count": 5,
   "id": "eb4b79cc-b124-49f1-85eb-ba6550ec1b2d",
   "metadata": {},
   "outputs": [],
   "source": [
    "flipkart_page = urlclient.read()"
   ]
  },
  {
   "cell_type": "code",
   "execution_count": 6,
   "id": "200beb45-da7e-4d2d-8be9-dbcc92d40447",
   "metadata": {},
   "outputs": [],
   "source": [
    "flipkart_html = bs(flipkart_page,'html.parser')"
   ]
  },
  {
   "cell_type": "code",
   "execution_count": 7,
   "id": "5931bc07-c07c-4481-9ba2-a641602ad2c2",
   "metadata": {},
   "outputs": [],
   "source": [
    "main_div = flipkart_html.find_all(\"div\",{\"class\":\"_2kHMtA\"})"
   ]
  },
  {
   "cell_type": "code",
   "execution_count": 8,
   "id": "0d9a872c-ece5-4778-8584-a0be4f9dd0c1",
   "metadata": {},
   "outputs": [
    {
     "data": {
      "text/plain": [
       "24"
      ]
     },
     "execution_count": 8,
     "metadata": {},
     "output_type": "execute_result"
    }
   ],
   "source": [
    "len(main_div)"
   ]
  },
  {
   "cell_type": "code",
   "execution_count": 9,
   "id": "40b24d75-06ca-448c-a8ae-af7b4cd833fd",
   "metadata": {},
   "outputs": [
    {
     "data": {
      "text/plain": [
       "<div class=\"_2kHMtA\"><a class=\"_1fQZEK\" href=\"/apple-iphone-11-white-128-gb/p/itme32df47ea6742?pid=MOBFWQ6B7KKRXDDS&amp;lid=LSTMOBFWQ6B7KKRXDDSULUZ0N&amp;marketplace=FLIPKART&amp;q=Smartphone&amp;store=tyy%2F4io&amp;srno=s_1_1&amp;otracker=search&amp;fm=organic&amp;iid=a8493862-2009-4721-9fe6-1345890b831f.MOBFWQ6B7KKRXDDS.SEARCH&amp;ppt=None&amp;ppn=None&amp;ssid=w8en0rd4u80000001677003075266&amp;qH=853ca16bda4f3d30\" rel=\"noopener noreferrer\" target=\"_blank\"><div class=\"MIXNux\"><div class=\"_2QcLo-\"><div><div class=\"CXW8mj\" style=\"height:200px;width:200px\"><img alt=\"APPLE iPhone 11 (White, 128 GB)\" class=\"_396cs4\" loading=\"eager\" src=\"https://rukminim1.flixcart.com/image/312/312/k2jbyq80pkrrdj/mobile-refurbished/k/y/d/iphone-11-256-u-mwm82hn-a-apple-0-original-imafkg25mhaztxns.jpeg?q=70\"/></div></div></div><div class=\"_3wLduG\"><div class=\"_3PzNI-\"><span class=\"f3A4_V\"><label class=\"_2iDkf8\"><input class=\"_30VH1S\" readonly=\"\" type=\"checkbox\"/><div class=\"_24_Dny\"></div></label></span><label class=\"_6Up2sF\"><span>Add to Compare</span></label></div></div><div class=\"_2hVSre _3nq8ih\"><div class=\"_36FSn5\"><svg class=\"_1l0elc\" height=\"16\" viewbox=\"0 0 20 16\" width=\"16\" xmlns=\"http://www.w3.org/2000/svg\"><path class=\"eX72wL\" d=\"M8.695 16.682C4.06 12.382 1 9.536 1 6.065 1 3.219 3.178 1 5.95 1c1.566 0 3.069.746 4.05 1.915C10.981 1.745 12.484 1 14.05 1 16.822 1 19 3.22 19 6.065c0 3.471-3.06 6.316-7.695 10.617L10 17.897l-1.305-1.215z\" fill=\"#2874F0\" fill-rule=\"evenodd\" opacity=\".9\" stroke=\"#FFF\"></path></svg></div></div></div><div class=\"_3pLy-c row\"><div class=\"col col-7-12\"><div class=\"_4rR01T\">APPLE iPhone 11 (White, 128 GB)</div><div class=\"gUuXy-\"><span class=\"_1lRcqv\" id=\"productRating_LSTMOBFWQ6B7KKRXDDSULUZ0N_MOBFWQ6B7KKRXDDS_\"><div class=\"_3LWZlK\">4.6<img class=\"_1wB99o\" src=\"data:image/svg+xml;base64,PHN2ZyB4bWxucz0iaHR0cDovL3d3dy53My5vcmcvMjAwMC9zdmciIHdpZHRoPSIxMyIgaGVpZ2h0PSIxMiI+PHBhdGggZmlsbD0iI0ZGRiIgZD0iTTYuNSA5LjQzOWwtMy42NzQgMi4yMy45NC00LjI2LTMuMjEtMi44ODMgNC4yNTQtLjQwNEw2LjUuMTEybDEuNjkgNC4wMSA0LjI1NC40MDQtMy4yMSAyLjg4Mi45NCA0LjI2eiIvPjwvc3ZnPg==\"/></div></span><span class=\"_2_R_DZ\"><span><span>1,83,891 Ratings </span><span class=\"_13vcmD\">&amp;</span><span> 10,799 Reviews</span></span></span></div><div class=\"fMghEO\"><ul class=\"_1xgFaf\"><li class=\"rgWa7D\">128 GB ROM</li><li class=\"rgWa7D\">15.49 cm (6.1 inch) Liquid Retina HD Display</li><li class=\"rgWa7D\">12MP + 12MP | 12MP Front Camera</li><li class=\"rgWa7D\">A13 Bionic Chip Processor</li><li class=\"rgWa7D\">Brand Warranty of 1 Year</li></ul></div></div><div class=\"col col-5-12 nlI3QM\"><div class=\"_3tbKJL\"><div class=\"_25b18c\"><div class=\"_30jeq3 _1_WHN1\">₹46,999</div><div class=\"_3I9_wc _27UcVY\">₹<!-- -->48,900</div><div class=\"_3Ay6Sb\"><span>3% off</span></div></div><div class=\"_3tcB5a p8ucoS\"><div><div class=\"_2Tpdn3\" style=\"color:#000000;font-size:12px;font-weight:400\">Free delivery</div></div></div></div><div class=\"_13J9qT\"><img height=\"21\" src=\"//static-assets-web.flixcart.com/fk-p-linchpin-web/fk-cp-zion/img/fa_62673a.png\"/></div><div class=\"_2ZdXDB\"><div class=\"_3xFhiH\"><div class=\"_2Tpdn3 _18hQoS\" style=\"color:#000000;font-size:14px;font-style:normal;font-weight:400\">Upto </div><div class=\"_2Tpdn3 _18hQoS\" style=\"color:#000000;font-size:14px;font-style:normal;font-weight:700\">₹22,000</div><div class=\"_2Tpdn3 _18hQoS\" style=\"color:#000000;font-size:14px;font-style:normal;font-weight:400\"> Off on Exchange</div></div></div><div class=\"_2ZdXDB\"><div class=\"_3xFhiH\"><div class=\"_2Tpdn3 _18hQoS\" style=\"color:#26A541;font-size:14px;font-weight:700\">Bank Offer</div></div></div></div></div></a></div>"
      ]
     },
     "execution_count": 9,
     "metadata": {},
     "output_type": "execute_result"
    }
   ],
   "source": [
    "main_div[0]"
   ]
  },
  {
   "cell_type": "code",
   "execution_count": 10,
   "id": "4209d587-2493-432d-aae9-effdb7f7943d",
   "metadata": {},
   "outputs": [],
   "source": [
    "anchors = flipkart_html.find_all(\"a\",{\"class\":\"_1fQZEK\"})"
   ]
  },
  {
   "cell_type": "code",
   "execution_count": 11,
   "id": "09cf6095-8856-464a-9384-26ccc6dadc2c",
   "metadata": {},
   "outputs": [
    {
     "data": {
      "text/plain": [
       "'https://www.flipkart.com/apple-iphone-11-white-128-gb/p/itme32df47ea6742?pid=MOBFWQ6B7KKRXDDS&lid=LSTMOBFWQ6B7KKRXDDSULUZ0N&marketplace=FLIPKART&q=Smartphone&store=tyy%2F4io&srno=s_1_1&otracker=search&fm=organic&iid=a8493862-2009-4721-9fe6-1345890b831f.MOBFWQ6B7KKRXDDS.SEARCH&ppt=None&ppn=None&ssid=w8en0rd4u80000001677003075266&qH=853ca16bda4f3d30'"
      ]
     },
     "execution_count": 11,
     "metadata": {},
     "output_type": "execute_result"
    }
   ],
   "source": [
    "\"https://www.flipkart.com\"+anchors[0]['href']"
   ]
  },
  {
   "cell_type": "code",
   "execution_count": 12,
   "id": "2b6119d7-5589-4f6f-a702-b2acf018e823",
   "metadata": {},
   "outputs": [],
   "source": [
    "urls = []\n",
    "for i in anchors:\n",
    "    urls.append(\"https://www.flipkart.com\"+i['href'])"
   ]
  },
  {
   "cell_type": "code",
   "execution_count": 13,
   "id": "03ee2e48-8458-49e6-9b30-c0137f30a29f",
   "metadata": {},
   "outputs": [
    {
     "data": {
      "text/plain": [
       "24"
      ]
     },
     "execution_count": 13,
     "metadata": {},
     "output_type": "execute_result"
    }
   ],
   "source": [
    "len(urls)"
   ]
  },
  {
   "cell_type": "code",
   "execution_count": 14,
   "id": "eb2ff330-9c9f-4b0c-979f-41458ac3d018",
   "metadata": {},
   "outputs": [],
   "source": [
    "product_link = urls[0]"
   ]
  },
  {
   "cell_type": "code",
   "execution_count": 15,
   "id": "5a72f935-8b3f-4ba2-88e2-d5445af5af95",
   "metadata": {},
   "outputs": [],
   "source": [
    "product_request = requests.get(product_link)"
   ]
  },
  {
   "cell_type": "code",
   "execution_count": 16,
   "id": "166ec01b-510a-47fe-b276-e5de4dabf643",
   "metadata": {},
   "outputs": [],
   "source": [
    "product_html = bs(product_request.text,'html.parser')"
   ]
  },
  {
   "cell_type": "code",
   "execution_count": 17,
   "id": "3695550b-8749-4193-bb59-f23d862d62de",
   "metadata": {},
   "outputs": [],
   "source": [
    "reviews_html = product_html.find_all(\"div\",{\"class\":\"t-ZTKy\"})"
   ]
  },
  {
   "cell_type": "code",
   "execution_count": 18,
   "id": "8f4cf358-5e1d-4c95-a68c-634d07df9283",
   "metadata": {},
   "outputs": [
    {
     "data": {
      "text/plain": [
       "'Really satisfied with the Product I received... It’s totally genuine and the packaging was also really good so if ur planning to buy just go for it.'"
      ]
     },
     "execution_count": 18,
     "metadata": {},
     "output_type": "execute_result"
    }
   ],
   "source": [
    "reviews_html[0].div.div.text"
   ]
  },
  {
   "cell_type": "code",
   "execution_count": 19,
   "id": "e771d985-f453-4534-98bb-eee759053aec",
   "metadata": {},
   "outputs": [],
   "source": [
    "product_div_html = product_html.find_all(\"div\",{\"class\":\"col _2wzgFH\"})"
   ]
  },
  {
   "cell_type": "code",
   "execution_count": 20,
   "id": "a2af9735-73f3-4d8f-9417-9fc8882e1b32",
   "metadata": {},
   "outputs": [],
   "source": [
    "person_info_html = product_html.find_all(\"p\",{\"class\":\"_2sc7ZR _2V5EHH\"})"
   ]
  },
  {
   "cell_type": "code",
   "execution_count": 21,
   "id": "0b881c84-d2fc-4725-ae74-b091499f9f75",
   "metadata": {},
   "outputs": [
    {
     "data": {
      "text/plain": [
       "[<p class=\"_2sc7ZR _2V5EHH\">Flipkart Customer</p>,\n",
       " <p class=\"_2sc7ZR _2V5EHH\">Flipkart Customer</p>,\n",
       " <p class=\"_2sc7ZR _2V5EHH\">Manish Raghuvanshi</p>,\n",
       " <p class=\"_2sc7ZR _2V5EHH\">George Haokip</p>,\n",
       " <p class=\"_2sc7ZR _2V5EHH\">Jimly  Gogoi</p>,\n",
       " <p class=\"_2sc7ZR _2V5EHH\">Vamshi  Chakrala </p>,\n",
       " <p class=\"_2sc7ZR _2V5EHH\">Chirag Rajput</p>,\n",
       " <p class=\"_2sc7ZR _2V5EHH\">Vishal Dubey</p>,\n",
       " <p class=\"_2sc7ZR _2V5EHH\">vijay hegde</p>,\n",
       " <p class=\"_2sc7ZR _2V5EHH\">Rahul Verma</p>]"
      ]
     },
     "execution_count": 21,
     "metadata": {},
     "output_type": "execute_result"
    }
   ],
   "source": [
    "person_info_html"
   ]
  },
  {
   "cell_type": "code",
   "execution_count": 22,
   "id": "7a40463c-6e99-46b0-9507-adb012ef67f8",
   "metadata": {},
   "outputs": [
    {
     "data": {
      "text/plain": [
       "10"
      ]
     },
     "execution_count": 22,
     "metadata": {},
     "output_type": "execute_result"
    }
   ],
   "source": [
    "len(reviews_html)"
   ]
  },
  {
   "cell_type": "code",
   "execution_count": 23,
   "id": "a1e90d1c-d9f5-4510-9191-091c0de8a3e8",
   "metadata": {},
   "outputs": [
    {
     "data": {
      "text/plain": [
       "10"
      ]
     },
     "execution_count": 23,
     "metadata": {},
     "output_type": "execute_result"
    }
   ],
   "source": [
    "len(person_info_html)"
   ]
  },
  {
   "cell_type": "code",
   "execution_count": 24,
   "id": "a3294486-d345-4abd-ad87-edae9729e3c3",
   "metadata": {},
   "outputs": [
    {
     "data": {
      "text/plain": [
       "'Flipkart Customer'"
      ]
     },
     "execution_count": 24,
     "metadata": {},
     "output_type": "execute_result"
    }
   ],
   "source": [
    "person_info_html[0].text"
   ]
  },
  {
   "cell_type": "code",
   "execution_count": 25,
   "id": "9718506c-9dac-4726-84dd-0a7571c13b0b",
   "metadata": {},
   "outputs": [],
   "source": [
    "customer_names = []\n",
    "for i in person_info_html:\n",
    "    customer_names.append(i.text)"
   ]
  },
  {
   "cell_type": "code",
   "execution_count": 26,
   "id": "fdfafdb7-d2b2-4004-aac1-bf2f187aa1e4",
   "metadata": {},
   "outputs": [
    {
     "data": {
      "text/plain": [
       "['Flipkart Customer',\n",
       " 'Flipkart Customer',\n",
       " 'Manish Raghuvanshi',\n",
       " 'George Haokip',\n",
       " 'Jimly  Gogoi',\n",
       " 'Vamshi  Chakrala ',\n",
       " 'Chirag Rajput',\n",
       " 'Vishal Dubey',\n",
       " 'vijay hegde',\n",
       " 'Rahul Verma']"
      ]
     },
     "execution_count": 26,
     "metadata": {},
     "output_type": "execute_result"
    }
   ],
   "source": [
    "customer_names"
   ]
  },
  {
   "cell_type": "code",
   "execution_count": 27,
   "id": "bc53c69c-fbdb-4db4-bc2e-28ccd965c97d",
   "metadata": {},
   "outputs": [],
   "source": [
    "rating_html = product_html.find_all(\"div\",{\"class\":\"_3LWZlK _1BLPMq\"})"
   ]
  },
  {
   "cell_type": "code",
   "execution_count": 28,
   "id": "0485b35f-5115-45f5-b4a8-86c4964d5604",
   "metadata": {},
   "outputs": [
    {
     "data": {
      "text/plain": [
       "'5'"
      ]
     },
     "execution_count": 28,
     "metadata": {},
     "output_type": "execute_result"
    }
   ],
   "source": [
    "rating_html[0].text"
   ]
  },
  {
   "cell_type": "code",
   "execution_count": 29,
   "id": "f5fd897d-2ce5-4ca0-aa61-c5a549ce2d14",
   "metadata": {},
   "outputs": [],
   "source": [
    "comment_title_html = product_html.find_all(\"p\", {\"class\":\"_2-N8zT\"})"
   ]
  },
  {
   "cell_type": "code",
   "execution_count": 30,
   "id": "59a09256-48c9-4911-91bc-08fee754fbf8",
   "metadata": {},
   "outputs": [
    {
     "data": {
      "text/plain": [
       "'Simply awesome'"
      ]
     },
     "execution_count": 30,
     "metadata": {},
     "output_type": "execute_result"
    }
   ],
   "source": [
    "comment_title_html[0].text"
   ]
  },
  {
   "cell_type": "code",
   "execution_count": 31,
   "id": "8b2c61cb-8e17-4008-b95c-2f1f5ec98f2f",
   "metadata": {},
   "outputs": [],
   "source": [
    "comment_title = []\n",
    "for i in comment_title_html:\n",
    "    comment_title.append(i.text)"
   ]
  },
  {
   "cell_type": "code",
   "execution_count": 32,
   "id": "8135802e-3e60-4333-a186-4035dbb93571",
   "metadata": {},
   "outputs": [
    {
     "data": {
      "text/plain": [
       "['Simply awesome',\n",
       " 'Perfect product!',\n",
       " 'Best in the market!',\n",
       " 'Value-for-money',\n",
       " 'Highly recommended',\n",
       " 'Worth every penny',\n",
       " 'Perfect product!',\n",
       " 'Highly recommended',\n",
       " 'Pretty good',\n",
       " 'Great product']"
      ]
     },
     "execution_count": 32,
     "metadata": {},
     "output_type": "execute_result"
    }
   ],
   "source": [
    "comment_title"
   ]
  },
  {
   "cell_type": "code",
   "execution_count": 33,
   "id": "9fd034eb-4fd3-4ee9-a8d3-a114fd8b2dea",
   "metadata": {},
   "outputs": [],
   "source": [
    "ratings = []\n",
    "for i in rating_html:\n",
    "    ratings.append(i.text)"
   ]
  },
  {
   "cell_type": "code",
   "execution_count": 34,
   "id": "634a967f-0065-4e4c-8be0-1b2a7ce9957c",
   "metadata": {},
   "outputs": [
    {
     "data": {
      "text/plain": [
       "['5', '5', '5', '4', '5', '5', '5', '5', '4', '5']"
      ]
     },
     "execution_count": 34,
     "metadata": {},
     "output_type": "execute_result"
    }
   ],
   "source": [
    "ratings"
   ]
  },
  {
   "cell_type": "code",
   "execution_count": 35,
   "id": "ac463873-5111-4748-802c-6760397abdab",
   "metadata": {},
   "outputs": [],
   "source": [
    "comment_detail = []\n",
    "for i in reviews_html:\n",
    "    comment_detail.append(i.div.div.text)"
   ]
  },
  {
   "cell_type": "code",
   "execution_count": 36,
   "id": "fbd8cda0-1ddb-4992-ac3a-7c74835700d5",
   "metadata": {},
   "outputs": [
    {
     "data": {
      "text/plain": [
       "['Really satisfied with the Product I received... It’s totally genuine and the packaging was also really good so if ur planning to buy just go for it.',\n",
       " 'Amazing phone with great cameras and better battery which gives you the best performance. I just love the camera .',\n",
       " 'Great iPhone very snappy experience as apple kind. Upgraded from iPhone 7. Pros-Camera top class - Battery top performed -Chipset no need to say as apple kind -Security as you expect from apple - Display super bright industry leading colour   accuracy and super responsive -Build quality as expect from apple sturdy  premium durable beautiful stylish. -Os most stable os in smartphone industry Cons -No 5G-Display is not based on OLED technology -Charger headphones and 1 apple stic...',\n",
       " \"I'm Really happy with the productDelivery was fast as well..it was a gift for my sister and she loved it so much.\",\n",
       " \"It's my first time to use iOS phone and I am loving my upgradation 😍😍 I love the color, I love the assebility of the phone....I need to learn more about its functionality, but as far as I have seen, it's quite easy and it has a lot of functions to work on, specially if you are a content writer or a blogger you get a lot of content creation platforms and they are really amazing. This phone not only for good quality photography but a lot of other task too.😍💯\",\n",
       " 'Previously I was using one plus 3t it was a great phone And then I decided to upgrade I am stuck between Samsung s10 plus or iPhone 11 I have seen the specs and everything were good except the display it’s somewhere between 720-1080 and it’s not even an amoled it’s an LCD display But I decided to go with iPhone because I have never used an IOS device I have Been an android user from the past 9 years I ordered IPhone 11 (128gb) product redMy experience after using 3 weeks 1. The delivery ...',\n",
       " 'Value for money5 star rating Excellent cameraBattery backup full day in single charge.Tougher and water resistant design, glossy back.The screen has excellent brightness and contrast.Apple A13 Bionic is the fastest smartphone chip on the planet.Excellent battery life, fast charging support.Stereo speakers with great quality.',\n",
       " 'What a camera .....just awesome ..you can feel this iPhone just awesome . Good for gaming also ...try pubg in hd it’s just wow',\n",
       " 'I was using Iphone 6s and also Oneplus 6t. Both mobiles were perfectly alright in Photos, gaming, and smooth interface . My 6s mobile getting battery issue. thought upgrade to 11. Really like this mobile of its Internal storage (compare to 6s) , camera and its touch feeling. Its a worth buying mobile for me.',\n",
       " 'Amazing Powerful and Durable Gadget.I’m am very happy with the camera picture quality, Amazing face id unlocked in dark room, Strong battery with perfect screen size as you can carry easily in pocket. This is my third iPhone. I shifted from android Samsung Note series to iPhone because of the strong build quality and peace of mind for next 3-4 years.Don’t think to much just go for it and I suggest you to go for minimum 128gb variant or more 256gb. I’ve attached my puppy pics and no fi...']"
      ]
     },
     "execution_count": 36,
     "metadata": {},
     "output_type": "execute_result"
    }
   ],
   "source": [
    "comment_detail"
   ]
  },
  {
   "cell_type": "code",
   "execution_count": 37,
   "id": "99603f74-978b-4551-9ecf-a14ef46dbeb7",
   "metadata": {},
   "outputs": [],
   "source": [
    "import pandas as pd\n",
    "df_reviews = pd.DataFrame({\"User\":customer_names, \"Rating\":ratings,\"Title\":comment_title,\"Review\":comment_detail})"
   ]
  },
  {
   "cell_type": "code",
   "execution_count": 38,
   "id": "0f94134e-e155-4c1c-b18c-ef11594044f9",
   "metadata": {},
   "outputs": [
    {
     "data": {
      "text/html": [
       "<div>\n",
       "<style scoped>\n",
       "    .dataframe tbody tr th:only-of-type {\n",
       "        vertical-align: middle;\n",
       "    }\n",
       "\n",
       "    .dataframe tbody tr th {\n",
       "        vertical-align: top;\n",
       "    }\n",
       "\n",
       "    .dataframe thead th {\n",
       "        text-align: right;\n",
       "    }\n",
       "</style>\n",
       "<table border=\"1\" class=\"dataframe\">\n",
       "  <thead>\n",
       "    <tr style=\"text-align: right;\">\n",
       "      <th></th>\n",
       "      <th>User</th>\n",
       "      <th>Rating</th>\n",
       "      <th>Title</th>\n",
       "      <th>Review</th>\n",
       "    </tr>\n",
       "  </thead>\n",
       "  <tbody>\n",
       "    <tr>\n",
       "      <th>0</th>\n",
       "      <td>Flipkart Customer</td>\n",
       "      <td>5</td>\n",
       "      <td>Simply awesome</td>\n",
       "      <td>Really satisfied with the Product I received.....</td>\n",
       "    </tr>\n",
       "    <tr>\n",
       "      <th>1</th>\n",
       "      <td>Flipkart Customer</td>\n",
       "      <td>5</td>\n",
       "      <td>Perfect product!</td>\n",
       "      <td>Amazing phone with great cameras and better ba...</td>\n",
       "    </tr>\n",
       "    <tr>\n",
       "      <th>2</th>\n",
       "      <td>Manish Raghuvanshi</td>\n",
       "      <td>5</td>\n",
       "      <td>Best in the market!</td>\n",
       "      <td>Great iPhone very snappy experience as apple k...</td>\n",
       "    </tr>\n",
       "    <tr>\n",
       "      <th>3</th>\n",
       "      <td>George Haokip</td>\n",
       "      <td>4</td>\n",
       "      <td>Value-for-money</td>\n",
       "      <td>I'm Really happy with the productDelivery was ...</td>\n",
       "    </tr>\n",
       "    <tr>\n",
       "      <th>4</th>\n",
       "      <td>Jimly  Gogoi</td>\n",
       "      <td>5</td>\n",
       "      <td>Highly recommended</td>\n",
       "      <td>It's my first time to use iOS phone and I am l...</td>\n",
       "    </tr>\n",
       "    <tr>\n",
       "      <th>5</th>\n",
       "      <td>Vamshi  Chakrala</td>\n",
       "      <td>5</td>\n",
       "      <td>Worth every penny</td>\n",
       "      <td>Previously I was using one plus 3t it was a gr...</td>\n",
       "    </tr>\n",
       "    <tr>\n",
       "      <th>6</th>\n",
       "      <td>Chirag Rajput</td>\n",
       "      <td>5</td>\n",
       "      <td>Perfect product!</td>\n",
       "      <td>Value for money5 star rating Excellent cameraB...</td>\n",
       "    </tr>\n",
       "    <tr>\n",
       "      <th>7</th>\n",
       "      <td>Vishal Dubey</td>\n",
       "      <td>5</td>\n",
       "      <td>Highly recommended</td>\n",
       "      <td>What a camera .....just awesome ..you can feel...</td>\n",
       "    </tr>\n",
       "    <tr>\n",
       "      <th>8</th>\n",
       "      <td>vijay hegde</td>\n",
       "      <td>4</td>\n",
       "      <td>Pretty good</td>\n",
       "      <td>I was using Iphone 6s and also Oneplus 6t. Bot...</td>\n",
       "    </tr>\n",
       "    <tr>\n",
       "      <th>9</th>\n",
       "      <td>Rahul Verma</td>\n",
       "      <td>5</td>\n",
       "      <td>Great product</td>\n",
       "      <td>Amazing Powerful and Durable Gadget.I’m am ver...</td>\n",
       "    </tr>\n",
       "  </tbody>\n",
       "</table>\n",
       "</div>"
      ],
      "text/plain": [
       "                 User Rating                Title  \\\n",
       "0   Flipkart Customer      5       Simply awesome   \n",
       "1   Flipkart Customer      5     Perfect product!   \n",
       "2  Manish Raghuvanshi      5  Best in the market!   \n",
       "3       George Haokip      4      Value-for-money   \n",
       "4        Jimly  Gogoi      5   Highly recommended   \n",
       "5   Vamshi  Chakrala       5    Worth every penny   \n",
       "6       Chirag Rajput      5     Perfect product!   \n",
       "7        Vishal Dubey      5   Highly recommended   \n",
       "8         vijay hegde      4          Pretty good   \n",
       "9         Rahul Verma      5        Great product   \n",
       "\n",
       "                                              Review  \n",
       "0  Really satisfied with the Product I received.....  \n",
       "1  Amazing phone with great cameras and better ba...  \n",
       "2  Great iPhone very snappy experience as apple k...  \n",
       "3  I'm Really happy with the productDelivery was ...  \n",
       "4  It's my first time to use iOS phone and I am l...  \n",
       "5  Previously I was using one plus 3t it was a gr...  \n",
       "6  Value for money5 star rating Excellent cameraB...  \n",
       "7  What a camera .....just awesome ..you can feel...  \n",
       "8  I was using Iphone 6s and also Oneplus 6t. Bot...  \n",
       "9  Amazing Powerful and Durable Gadget.I’m am ver...  "
      ]
     },
     "execution_count": 38,
     "metadata": {},
     "output_type": "execute_result"
    }
   ],
   "source": [
    "df_reviews"
   ]
  },
  {
   "cell_type": "code",
   "execution_count": 39,
   "id": "0d89b1b7-5490-4ff4-b97f-282e35953099",
   "metadata": {},
   "outputs": [],
   "source": [
    "product_name = product_html.find(\"span\",{\"class\":\"B_NuCI\"})"
   ]
  },
  {
   "cell_type": "code",
   "execution_count": 40,
   "id": "84006a54-87dc-483c-b9f7-6346f53d3a17",
   "metadata": {},
   "outputs": [
    {
     "name": "stdout",
     "output_type": "stream",
     "text": [
      "APPLE iPhone 11 (White, 128 GB)\n"
     ]
    }
   ],
   "source": [
    "print(product_name.text)"
   ]
  },
  {
   "cell_type": "code",
   "execution_count": 41,
   "id": "6e3647c0-32a3-42a7-8857-0d59c661d400",
   "metadata": {},
   "outputs": [],
   "source": [
    "average_rating = product_html.find(\"div\",{\"class\":\"_3LWZlK\"})"
   ]
  },
  {
   "cell_type": "code",
   "execution_count": 42,
   "id": "fed9be3d-faee-4d62-80ee-1b4b3de6951c",
   "metadata": {},
   "outputs": [
    {
     "data": {
      "text/plain": [
       "'4.6'"
      ]
     },
     "execution_count": 42,
     "metadata": {},
     "output_type": "execute_result"
    }
   ],
   "source": [
    "average_rating.text"
   ]
  },
  {
   "cell_type": "code",
   "execution_count": null,
   "id": "082b082a-d0f9-4d79-9f91-fe4bdb878140",
   "metadata": {},
   "outputs": [],
   "source": []
  }
 ],
 "metadata": {
  "kernelspec": {
   "display_name": "Python 3 (ipykernel)",
   "language": "python",
   "name": "python3"
  },
  "language_info": {
   "codemirror_mode": {
    "name": "ipython",
    "version": 3
   },
   "file_extension": ".py",
   "mimetype": "text/x-python",
   "name": "python",
   "nbconvert_exporter": "python",
   "pygments_lexer": "ipython3",
   "version": "3.10.8"
  }
 },
 "nbformat": 4,
 "nbformat_minor": 5
}
