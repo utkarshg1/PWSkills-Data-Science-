{
 "cells": [
  {
   "cell_type": "markdown",
   "id": "48e9c13a-513b-42b4-84c8-5a585b7807ea",
   "metadata": {},
   "source": [
    "# Day 7 - Functions Lambda, Map Reduce - Utkarsh Gaikwad"
   ]
  },
  {
   "cell_type": "markdown",
   "id": "006ad52a-5212-45f9-9db4-1ce7faf4500c",
   "metadata": {},
   "source": [
    "# Lambda Function"
   ]
  },
  {
   "cell_type": "code",
   "execution_count": 4,
   "id": "131d57f2-a893-4ee4-9042-ba7aeb610e79",
   "metadata": {},
   "outputs": [],
   "source": [
    "n = 3\n",
    "p = 4"
   ]
  },
  {
   "cell_type": "code",
   "execution_count": 5,
   "id": "0441e88a-d7f7-4843-8371-b2b6bebd3294",
   "metadata": {},
   "outputs": [],
   "source": [
    "def test1(n,p):\n",
    "    return n**p"
   ]
  },
  {
   "cell_type": "code",
   "execution_count": 6,
   "id": "69cfbee7-071f-497d-af65-4446849976c2",
   "metadata": {},
   "outputs": [
    {
     "data": {
      "text/plain": [
       "81"
      ]
     },
     "execution_count": 6,
     "metadata": {},
     "output_type": "execute_result"
    }
   ],
   "source": [
    "test1(3,4)"
   ]
  },
  {
   "cell_type": "code",
   "execution_count": 8,
   "id": "a26b14ca-dadb-4814-a465-85b81ed0ff0f",
   "metadata": {},
   "outputs": [
    {
     "data": {
      "text/plain": [
       "36"
      ]
     },
     "execution_count": 8,
     "metadata": {},
     "output_type": "execute_result"
    }
   ],
   "source": [
    "test1(6,2)"
   ]
  },
  {
   "cell_type": "code",
   "execution_count": 10,
   "id": "6e12cf60-b654-40bb-94f5-bbdf6b9119ca",
   "metadata": {},
   "outputs": [],
   "source": [
    "a = lambda n,p : n**p"
   ]
  },
  {
   "cell_type": "code",
   "execution_count": 11,
   "id": "baeb2249-a172-404f-9595-2fda11ea5ced",
   "metadata": {},
   "outputs": [
    {
     "data": {
      "text/plain": [
       "9"
      ]
     },
     "execution_count": 11,
     "metadata": {},
     "output_type": "execute_result"
    }
   ],
   "source": [
    "a(3,2)"
   ]
  },
  {
   "cell_type": "code",
   "execution_count": 12,
   "id": "4a9b37c2-3acd-4916-9306-24d22ce9385c",
   "metadata": {},
   "outputs": [
    {
     "data": {
      "text/plain": [
       "59049"
      ]
     },
     "execution_count": 12,
     "metadata": {},
     "output_type": "execute_result"
    }
   ],
   "source": [
    "a(9,5)"
   ]
  },
  {
   "cell_type": "code",
   "execution_count": 13,
   "id": "02d53906-a278-46f2-9f1b-9553a49a0108",
   "metadata": {},
   "outputs": [],
   "source": [
    "add = lambda x,y : x+y"
   ]
  },
  {
   "cell_type": "code",
   "execution_count": 14,
   "id": "4a2e81fb-20c1-432a-8a5e-f1fb4416e938",
   "metadata": {},
   "outputs": [
    {
     "data": {
      "text/plain": [
       "7"
      ]
     },
     "execution_count": 14,
     "metadata": {},
     "output_type": "execute_result"
    }
   ],
   "source": [
    "add(3,4)"
   ]
  },
  {
   "cell_type": "code",
   "execution_count": 16,
   "id": "65fa29a0-1e52-4627-b98f-12a6ec1fe56f",
   "metadata": {},
   "outputs": [],
   "source": [
    "c_to_f = lambda c: (9/5)*c + 32"
   ]
  },
  {
   "cell_type": "code",
   "execution_count": 17,
   "id": "c2ff3cb3-8bf7-4a56-bdec-5cc8afd2e470",
   "metadata": {},
   "outputs": [
    {
     "data": {
      "text/plain": [
       "77.0"
      ]
     },
     "execution_count": 17,
     "metadata": {},
     "output_type": "execute_result"
    }
   ],
   "source": [
    "c_to_f(25)"
   ]
  },
  {
   "cell_type": "code",
   "execution_count": 18,
   "id": "ba3ed12b-6ea7-4c50-afd0-df4be39d5f1a",
   "metadata": {},
   "outputs": [],
   "source": [
    "max_two = lambda x,y : x if x>y else y"
   ]
  },
  {
   "cell_type": "code",
   "execution_count": 19,
   "id": "49fcb99e-2c34-4400-9ae2-ac83c94a19ff",
   "metadata": {},
   "outputs": [
    {
     "data": {
      "text/plain": [
       "49"
      ]
     },
     "execution_count": 19,
     "metadata": {},
     "output_type": "execute_result"
    }
   ],
   "source": [
    "max_two(23,49)"
   ]
  },
  {
   "cell_type": "code",
   "execution_count": 20,
   "id": "bbbbbc74-883b-4b9a-a17b-744af3f92a6c",
   "metadata": {},
   "outputs": [
    {
     "data": {
      "text/plain": [
       "48.6"
      ]
     },
     "execution_count": 20,
     "metadata": {},
     "output_type": "execute_result"
    }
   ],
   "source": [
    "max_two(48.6,23)"
   ]
  },
  {
   "cell_type": "code",
   "execution_count": 21,
   "id": "a2a42f7b-553f-4ff4-a567-8910a4272110",
   "metadata": {},
   "outputs": [],
   "source": [
    "s = 'pwskills'"
   ]
  },
  {
   "cell_type": "code",
   "execution_count": 25,
   "id": "20a9721e-b28c-427f-becb-8cf419f8957c",
   "metadata": {},
   "outputs": [],
   "source": [
    "len_str = lambda s : len(s)"
   ]
  },
  {
   "cell_type": "code",
   "execution_count": 26,
   "id": "928cf97f-f66b-4dc3-8deb-0cba9eda16f7",
   "metadata": {},
   "outputs": [
    {
     "data": {
      "text/plain": [
       "8"
      ]
     },
     "execution_count": 26,
     "metadata": {},
     "output_type": "execute_result"
    }
   ],
   "source": [
    "len_str(s)"
   ]
  },
  {
   "cell_type": "code",
   "execution_count": 27,
   "id": "19f2e427-5351-45ab-85bd-156c055a6b83",
   "metadata": {},
   "outputs": [],
   "source": [
    "hypotenuse = lambda a,b : (a*a+b*b)**0.5"
   ]
  },
  {
   "cell_type": "code",
   "execution_count": 28,
   "id": "510397f8-cfd1-4033-a8d4-e0ea363fbf78",
   "metadata": {},
   "outputs": [
    {
     "data": {
      "text/plain": [
       "5.0"
      ]
     },
     "execution_count": 28,
     "metadata": {},
     "output_type": "execute_result"
    }
   ],
   "source": [
    "hypotenuse(3,4)"
   ]
  },
  {
   "cell_type": "markdown",
   "id": "2c7dde65-0cf1-469a-8c3b-b4aca41c2cb7",
   "metadata": {},
   "source": [
    "# Map, Reduce and Filter Function"
   ]
  },
  {
   "cell_type": "code",
   "execution_count": 29,
   "id": "3478ad26-ca69-4d58-94cc-885960634625",
   "metadata": {},
   "outputs": [],
   "source": [
    "l = [1,2,3,4,5,6]"
   ]
  },
  {
   "cell_type": "code",
   "execution_count": 30,
   "id": "aae6e617-fbe4-4607-8cd3-2a8f56d7873f",
   "metadata": {},
   "outputs": [
    {
     "data": {
      "text/plain": [
       "[1, 4, 9, 16, 25, 36]"
      ]
     },
     "execution_count": 30,
     "metadata": {},
     "output_type": "execute_result"
    }
   ],
   "source": [
    "[i*i for i in l]"
   ]
  },
  {
   "cell_type": "code",
   "execution_count": 32,
   "id": "6ba38121-6c3c-4004-92e0-00e261601a0c",
   "metadata": {},
   "outputs": [],
   "source": [
    "def test(l):\n",
    "    n = []\n",
    "    for i in l:\n",
    "        n.append(i*i)\n",
    "    return n"
   ]
  },
  {
   "cell_type": "code",
   "execution_count": 33,
   "id": "8d2ef34c-1711-4f61-abfa-e5a84c700cb8",
   "metadata": {},
   "outputs": [
    {
     "data": {
      "text/plain": [
       "[1, 4, 9, 16, 25, 36]"
      ]
     },
     "execution_count": 33,
     "metadata": {},
     "output_type": "execute_result"
    }
   ],
   "source": [
    "test(l)"
   ]
  },
  {
   "cell_type": "code",
   "execution_count": 34,
   "id": "84527c2b-4990-489e-a12d-6b547c8f614f",
   "metadata": {},
   "outputs": [],
   "source": [
    "def sq(x):\n",
    "    return x*x"
   ]
  },
  {
   "cell_type": "code",
   "execution_count": 36,
   "id": "69d9633d-3752-4fde-8151-516c4a37beab",
   "metadata": {},
   "outputs": [
    {
     "data": {
      "text/plain": [
       "[1, 4, 9, 16, 25, 36]"
      ]
     },
     "execution_count": 36,
     "metadata": {},
     "output_type": "execute_result"
    }
   ],
   "source": [
    "list(map(sq,l))"
   ]
  },
  {
   "cell_type": "code",
   "execution_count": 37,
   "id": "94b2d755-196f-430f-ba53-78daed92cf10",
   "metadata": {},
   "outputs": [
    {
     "data": {
      "text/plain": [
       "[1, 4, 9, 16, 25, 36]"
      ]
     },
     "execution_count": 37,
     "metadata": {},
     "output_type": "execute_result"
    }
   ],
   "source": [
    "list(map(lambda x: x**2,l))"
   ]
  },
  {
   "cell_type": "code",
   "execution_count": 38,
   "id": "5bab4e90-7cb5-43de-8481-d329d67383ff",
   "metadata": {},
   "outputs": [
    {
     "data": {
      "text/plain": [
       "[5, 8, 11, 14, 17, 20]"
      ]
     },
     "execution_count": 38,
     "metadata": {},
     "output_type": "execute_result"
    }
   ],
   "source": [
    "list(map(lambda x: 3*x+2,l))"
   ]
  },
  {
   "cell_type": "code",
   "execution_count": 39,
   "id": "0edda582-bbf2-45b5-a07e-b4f964ee6605",
   "metadata": {},
   "outputs": [
    {
     "data": {
      "text/plain": [
       "['1', '2', '3', '4', '5', '6']"
      ]
     },
     "execution_count": 39,
     "metadata": {},
     "output_type": "execute_result"
    }
   ],
   "source": [
    "list(map(lambda x : str(x),l))"
   ]
  },
  {
   "cell_type": "code",
   "execution_count": 40,
   "id": "0bf8bd10-905c-4895-865a-01e7f63e0901",
   "metadata": {},
   "outputs": [],
   "source": [
    "l1 = [1,2,3,4,5]\n",
    "l2 = [6,7,8,9,10]"
   ]
  },
  {
   "cell_type": "code",
   "execution_count": 42,
   "id": "839cce90-a6eb-4bb0-86e8-abdd4aa48cff",
   "metadata": {},
   "outputs": [
    {
     "data": {
      "text/plain": [
       "[7, 9, 11, 13, 15]"
      ]
     },
     "execution_count": 42,
     "metadata": {},
     "output_type": "execute_result"
    }
   ],
   "source": [
    "list(map(lambda x,y : x+y,l1,l2))"
   ]
  },
  {
   "cell_type": "code",
   "execution_count": 43,
   "id": "c85a02b9-cd81-4163-acad-f62fbe7369d7",
   "metadata": {},
   "outputs": [],
   "source": [
    "f = lambda x,y : x+y"
   ]
  },
  {
   "cell_type": "code",
   "execution_count": 44,
   "id": "da179e52-17dd-4b7e-9b01-3ce8df100a66",
   "metadata": {},
   "outputs": [
    {
     "data": {
      "text/plain": [
       "[7, 9, 11, 13, 15]"
      ]
     },
     "execution_count": 44,
     "metadata": {},
     "output_type": "execute_result"
    }
   ],
   "source": [
    "list(map(f,l1,l2))"
   ]
  },
  {
   "cell_type": "code",
   "execution_count": 46,
   "id": "53320e50-6beb-42dc-8c9f-18f1681367f9",
   "metadata": {},
   "outputs": [
    {
     "data": {
      "text/plain": [
       "['P', 'W', 'S', 'K', 'I', 'L', 'L', 'S']"
      ]
     },
     "execution_count": 46,
     "metadata": {},
     "output_type": "execute_result"
    }
   ],
   "source": [
    "s = \"pwskills\"\n",
    "list(map(lambda x: x.upper(),s))"
   ]
  },
  {
   "cell_type": "markdown",
   "id": "cb942eff-8858-4228-a882-8f43f0714685",
   "metadata": {},
   "source": [
    "# Reduce funtion"
   ]
  },
  {
   "cell_type": "code",
   "execution_count": 50,
   "id": "4b53a329-d50c-4fc1-a924-c267fc8503b8",
   "metadata": {},
   "outputs": [],
   "source": [
    "from functools import reduce"
   ]
  },
  {
   "cell_type": "code",
   "execution_count": 51,
   "id": "9477301c-e8a3-4e59-a654-0ac316c68527",
   "metadata": {},
   "outputs": [],
   "source": [
    "l = [1,2,3,4,5,6]"
   ]
  },
  {
   "cell_type": "code",
   "execution_count": 52,
   "id": "85da66f2-3aa2-4ca6-bdf4-2aa1a4ad1689",
   "metadata": {},
   "outputs": [
    {
     "data": {
      "text/plain": [
       "21"
      ]
     },
     "execution_count": 52,
     "metadata": {},
     "output_type": "execute_result"
    }
   ],
   "source": [
    "reduce(lambda x,y : x+y,l)"
   ]
  },
  {
   "cell_type": "code",
   "execution_count": 54,
   "id": "50e4daec-b17c-451c-8551-6b2b83fe3c6f",
   "metadata": {},
   "outputs": [],
   "source": [
    "def add(x,y):\n",
    "    return x+y"
   ]
  },
  {
   "cell_type": "code",
   "execution_count": 55,
   "id": "e1da310f-ab5d-49fd-b83c-dd43e7a343f5",
   "metadata": {},
   "outputs": [
    {
     "data": {
      "text/plain": [
       "21"
      ]
     },
     "execution_count": 55,
     "metadata": {},
     "output_type": "execute_result"
    }
   ],
   "source": [
    "reduce(add,l)"
   ]
  },
  {
   "cell_type": "code",
   "execution_count": 58,
   "id": "7083a3f8-a5fc-40e8-97cd-f8f34de1935a",
   "metadata": {},
   "outputs": [
    {
     "ename": "SyntaxError",
     "evalue": "duplicate argument 'x' in function definition (1866128836.py, line 1)",
     "output_type": "error",
     "traceback": [
      "\u001b[0;36m  Cell \u001b[0;32mIn[58], line 1\u001b[0;36m\u001b[0m\n\u001b[0;31m    reduce(lambda x,y,x : x+y+z ,l)\u001b[0m\n\u001b[0m                      ^\u001b[0m\n\u001b[0;31mSyntaxError\u001b[0m\u001b[0;31m:\u001b[0m duplicate argument 'x' in function definition\n"
     ]
    }
   ],
   "source": [
    "reduce(lambda x,y,x : x+y+z ,l)"
   ]
  },
  {
   "cell_type": "code",
   "execution_count": 57,
   "id": "7ec8e203-5bbe-4f90-bfc6-ae0d48e95035",
   "metadata": {},
   "outputs": [],
   "source": [
    "# Always use functions with 2 arguments"
   ]
  },
  {
   "cell_type": "code",
   "execution_count": 59,
   "id": "9f51cf61-3331-43fc-8f7c-e4d7490f98ce",
   "metadata": {},
   "outputs": [
    {
     "ename": "TypeError",
     "evalue": "reduce() of empty iterable with no initial value",
     "output_type": "error",
     "traceback": [
      "\u001b[0;31m---------------------------------------------------------------------------\u001b[0m",
      "\u001b[0;31mTypeError\u001b[0m                                 Traceback (most recent call last)",
      "Cell \u001b[0;32mIn[59], line 1\u001b[0m\n\u001b[0;32m----> 1\u001b[0m \u001b[43mreduce\u001b[49m\u001b[43m(\u001b[49m\u001b[38;5;28;43;01mlambda\u001b[39;49;00m\u001b[43m \u001b[49m\u001b[43mx\u001b[49m\u001b[43m,\u001b[49m\u001b[43my\u001b[49m\u001b[43m:\u001b[49m\u001b[43m \u001b[49m\u001b[43mx\u001b[49m\u001b[38;5;241;43m+\u001b[39;49m\u001b[43my\u001b[49m\u001b[43m,\u001b[49m\u001b[43m[\u001b[49m\u001b[43m]\u001b[49m\u001b[43m)\u001b[49m\n",
      "\u001b[0;31mTypeError\u001b[0m: reduce() of empty iterable with no initial value"
     ]
    }
   ],
   "source": [
    "reduce(lambda x,y: x+y,[])"
   ]
  },
  {
   "cell_type": "code",
   "execution_count": 60,
   "id": "ea0a7764-c045-41e5-a133-56545f5144b1",
   "metadata": {},
   "outputs": [
    {
     "data": {
      "text/plain": [
       "1"
      ]
     },
     "execution_count": 60,
     "metadata": {},
     "output_type": "execute_result"
    }
   ],
   "source": [
    "reduce(lambda x,y : x+y,[1])"
   ]
  },
  {
   "cell_type": "code",
   "execution_count": 61,
   "id": "bea04db3-e99a-4423-b02d-c3656cf1b217",
   "metadata": {},
   "outputs": [
    {
     "data": {
      "text/plain": [
       "720"
      ]
     },
     "execution_count": 61,
     "metadata": {},
     "output_type": "execute_result"
    }
   ],
   "source": [
    "reduce(lambda x,y : x*y,l)"
   ]
  },
  {
   "cell_type": "code",
   "execution_count": 62,
   "id": "d49af2d3-e591-4d20-897a-0896625c91a1",
   "metadata": {},
   "outputs": [
    {
     "data": {
      "text/plain": [
       "'123456'"
      ]
     },
     "execution_count": 62,
     "metadata": {},
     "output_type": "execute_result"
    }
   ],
   "source": [
    "reduce(lambda x,y : str(x)+str(y),l)"
   ]
  },
  {
   "cell_type": "code",
   "execution_count": 63,
   "id": "5c0edb41-c940-4cfc-9ce7-135a75ac0218",
   "metadata": {},
   "outputs": [
    {
     "data": {
      "text/plain": [
       "6"
      ]
     },
     "execution_count": 63,
     "metadata": {},
     "output_type": "execute_result"
    }
   ],
   "source": [
    "reduce(lambda x,y: x if x>y else y,l)"
   ]
  },
  {
   "cell_type": "code",
   "execution_count": 64,
   "id": "8d0e9ede-81d9-4d66-afd2-71008c0edb85",
   "metadata": {},
   "outputs": [],
   "source": [
    "l1 = [1,343,322,121,123,21312,213]"
   ]
  },
  {
   "cell_type": "code",
   "execution_count": 65,
   "id": "9a5eec3e-e7c9-4844-b7ce-0d0434f540a2",
   "metadata": {},
   "outputs": [
    {
     "data": {
      "text/plain": [
       "21312"
      ]
     },
     "execution_count": 65,
     "metadata": {},
     "output_type": "execute_result"
    }
   ],
   "source": [
    "reduce(lambda x,y: x if x>y else y,l1)"
   ]
  },
  {
   "cell_type": "markdown",
   "id": "b1589ba1-4c1f-4371-a5d1-799a660067ee",
   "metadata": {},
   "source": [
    "# Filter function"
   ]
  },
  {
   "cell_type": "code",
   "execution_count": 66,
   "id": "92fc394f-750f-413f-8ed0-4670fcb22522",
   "metadata": {},
   "outputs": [
    {
     "data": {
      "text/plain": [
       "<filter at 0x7f383d7c3f70>"
      ]
     },
     "execution_count": 66,
     "metadata": {},
     "output_type": "execute_result"
    }
   ],
   "source": [
    "filter(lambda x: x%2==0,l1)"
   ]
  },
  {
   "cell_type": "code",
   "execution_count": 67,
   "id": "aaf554f7-d0e7-45fe-b5c4-3af8cc6d19ac",
   "metadata": {},
   "outputs": [
    {
     "data": {
      "text/plain": [
       "[322, 21312]"
      ]
     },
     "execution_count": 67,
     "metadata": {},
     "output_type": "execute_result"
    }
   ],
   "source": [
    "list(filter(lambda x: x%2==0,l1))"
   ]
  },
  {
   "cell_type": "code",
   "execution_count": 68,
   "id": "f10db41d-0c34-476e-92ba-05b5f849f4ce",
   "metadata": {},
   "outputs": [
    {
     "data": {
      "text/plain": [
       "[1, 343, 121, 123, 213]"
      ]
     },
     "execution_count": 68,
     "metadata": {},
     "output_type": "execute_result"
    }
   ],
   "source": [
    "list(filter(lambda x: x%2!=0,l1))"
   ]
  },
  {
   "cell_type": "code",
   "execution_count": 70,
   "id": "4009ec0e-1bf6-4514-9aeb-1c6977ca9eeb",
   "metadata": {},
   "outputs": [],
   "source": [
    "l2 = [-2,-3,1,2,-5,-6,7,8,-11,-12,-143,-12,122,234,0]"
   ]
  },
  {
   "cell_type": "code",
   "execution_count": 71,
   "id": "bf5f185a-6bb9-4a62-ae48-0ddf5fff396d",
   "metadata": {},
   "outputs": [
    {
     "data": {
      "text/plain": [
       "[-2, -3, -5, -6, -11, -12, -143, -12]"
      ]
     },
     "execution_count": 71,
     "metadata": {},
     "output_type": "execute_result"
    }
   ],
   "source": [
    "list(filter(lambda x: x<0 ,l2))"
   ]
  },
  {
   "cell_type": "code",
   "execution_count": 72,
   "id": "5b31fbbe-357c-4c91-9649-3cf99089ef03",
   "metadata": {},
   "outputs": [
    {
     "data": {
      "text/plain": [
       "[1, 2, 7, 8, 122, 234, 0]"
      ]
     },
     "execution_count": 72,
     "metadata": {},
     "output_type": "execute_result"
    }
   ],
   "source": [
    "list(filter(lambda x: x>=0 ,l2))"
   ]
  },
  {
   "cell_type": "code",
   "execution_count": 74,
   "id": "22f4d2e4-e362-48fb-95c9-96839fa5b55a",
   "metadata": {},
   "outputs": [],
   "source": [
    "l3 =['Utkarsh','Gaikwad','pwskills','omg!','rat','Data Science','Bibtya','example','cat','dog']"
   ]
  },
  {
   "cell_type": "code",
   "execution_count": 75,
   "id": "4e801a68-d149-44fd-825a-a4b28be29d7e",
   "metadata": {},
   "outputs": [
    {
     "data": {
      "text/plain": [
       "['omg!', 'rat', 'cat', 'dog']"
      ]
     },
     "execution_count": 75,
     "metadata": {},
     "output_type": "execute_result"
    }
   ],
   "source": [
    "list(filter(lambda s : len(s)<6,l3))"
   ]
  },
  {
   "cell_type": "code",
   "execution_count": null,
   "id": "4e2d6a0f-ef68-4536-9983-6c17e688913a",
   "metadata": {},
   "outputs": [],
   "source": []
  }
 ],
 "metadata": {
  "kernelspec": {
   "display_name": "Python 3 (ipykernel)",
   "language": "python",
   "name": "python3"
  },
  "language_info": {
   "codemirror_mode": {
    "name": "ipython",
    "version": 3
   },
   "file_extension": ".py",
   "mimetype": "text/x-python",
   "name": "python",
   "nbconvert_exporter": "python",
   "pygments_lexer": "ipython3",
   "version": "3.10.8"
  }
 },
 "nbformat": 4,
 "nbformat_minor": 5
}
