{
 "cells": [
  {
   "cell_type": "markdown",
   "id": "9962d0c1-dfdb-4df8-ba92-fa53a32378e1",
   "metadata": {},
   "source": [
    "# Exception Handling best practises - Utkarsh Gaikwad"
   ]
  },
  {
   "cell_type": "markdown",
   "id": "f80c84a4-7e4f-4fd8-aa7a-ed32fd5c096a",
   "metadata": {},
   "source": [
    "# 1. List of General Use Exceptions"
   ]
  },
  {
   "cell_type": "code",
   "execution_count": 3,
   "id": "f212eab9-2729-4c7f-a6e2-b16cce63d34f",
   "metadata": {},
   "outputs": [
    {
     "name": "stdout",
     "output_type": "stream",
     "text": [
      "division by zero\n"
     ]
    }
   ],
   "source": [
    "# Division by zero error\n",
    "try:\n",
    "    a = 10\n",
    "    print(a/0)\n",
    "except ZeroDivisionError as e:\n",
    "    print(e)"
   ]
  },
  {
   "cell_type": "code",
   "execution_count": 4,
   "id": "f5e246e3-142d-4835-928b-024cc948c347",
   "metadata": {},
   "outputs": [
    {
     "name": "stdout",
     "output_type": "stream",
     "text": [
      "invalid literal for int() with base 10: 'Utkarsh'\n"
     ]
    }
   ],
   "source": [
    "# Value Error, Type Error\n",
    "try:\n",
    "    int('Utkarsh')\n",
    "except (ValueError, TypeError) as e:\n",
    "    print(e)"
   ]
  },
  {
   "cell_type": "code",
   "execution_count": 6,
   "id": "d4dd7496-a0f4-4dd2-9cdd-33c03e7ce461",
   "metadata": {},
   "outputs": [
    {
     "name": "stdout",
     "output_type": "stream",
     "text": [
      "This will catch Exception\n"
     ]
    }
   ],
   "source": [
    "# Except without arguments\n",
    "# Below is not a good practice\n",
    "try:\n",
    "    int('Utkarsh')\n",
    "except:\n",
    "    print(\"This will catch Exception\")"
   ]
  },
  {
   "cell_type": "code",
   "execution_count": 8,
   "id": "d70ae9de-2fcd-46cb-a664-6b3695892585",
   "metadata": {},
   "outputs": [
    {
     "name": "stdout",
     "output_type": "stream",
     "text": [
      "No module named 'utka'\n"
     ]
    }
   ],
   "source": [
    "# Import error\n",
    "try:\n",
    "    import utka\n",
    "except ImportError as e:\n",
    "    print(e)"
   ]
  },
  {
   "cell_type": "code",
   "execution_count": 9,
   "id": "b097fce5-aa0a-49d9-9705-ed5f35673acd",
   "metadata": {},
   "outputs": [
    {
     "name": "stdout",
     "output_type": "stream",
     "text": [
      "'key6'\n"
     ]
    }
   ],
   "source": [
    "# Key Error\n",
    "try:\n",
    "    d = {1:[3,4,5,6],'utkarsh':7}\n",
    "    d['key6']\n",
    "except KeyError as e:\n",
    "    print(e)"
   ]
  },
  {
   "cell_type": "code",
   "execution_count": 12,
   "id": "91b3f2f0-88b8-49a6-9160-6632dbb5c9a1",
   "metadata": {},
   "outputs": [
    {
     "name": "stdout",
     "output_type": "stream",
     "text": [
      "'str' object has no attribute 'test'\n"
     ]
    }
   ],
   "source": [
    "# Attribute Error\n",
    "try:\n",
    "    \"Example\".test()\n",
    "except AttributeError as e:\n",
    "    print(e)"
   ]
  },
  {
   "cell_type": "code",
   "execution_count": 13,
   "id": "118a033a-aff7-43bb-b864-fc166a498eec",
   "metadata": {},
   "outputs": [
    {
     "name": "stdout",
     "output_type": "stream",
     "text": [
      "list index out of range\n"
     ]
    }
   ],
   "source": [
    "# Index Error\n",
    "try:\n",
    "    l = [1,2,3,4]\n",
    "    l[10]\n",
    "except IndexError as e:\n",
    "    print(e)"
   ]
  },
  {
   "cell_type": "code",
   "execution_count": 14,
   "id": "41cdd67d-cb2a-4cea-bac0-0aa4ee5dd805",
   "metadata": {},
   "outputs": [
    {
     "name": "stdout",
     "output_type": "stream",
     "text": [
      "unsupported operand type(s) for +: 'int' and 'str'\n"
     ]
    }
   ],
   "source": [
    "# Type Error\n",
    "try:\n",
    "    123 + \"Utka\"\n",
    "except TypeError as e:\n",
    "    print(e)"
   ]
  },
  {
   "cell_type": "code",
   "execution_count": 16,
   "id": "043e35f2-3e56-4641-beb2-84bf84c8997c",
   "metadata": {},
   "outputs": [
    {
     "name": "stdout",
     "output_type": "stream",
     "text": [
      "[Errno 2] No such file or directory: 'sample10.txt'\n"
     ]
    }
   ],
   "source": [
    "# File Not Found error\n",
    "try:\n",
    "    with open('sample10.txt','r') as f:\n",
    "        print(f.read())\n",
    "except FileNotFoundError as e:\n",
    "    print(e)"
   ]
  },
  {
   "cell_type": "code",
   "execution_count": 19,
   "id": "45fc2cde-38f0-4074-9a1f-fd095291c87a",
   "metadata": {},
   "outputs": [
    {
     "name": "stdout",
     "output_type": "stream",
     "text": [
      "Test : [Errno 2] No such file or directory: 'sample10.txt'\n"
     ]
    }
   ],
   "source": [
    "# Bad Practice to write superclass exception first always use it last\n",
    "try: \n",
    "    with open('sample10.txt','r') as f:\n",
    "        print(f.read())\n",
    "except Exception as e:\n",
    "    print('Test :',e)\n",
    "except FileNotFoundError as e:\n",
    "    print('File Not Found Exception',e)"
   ]
  },
  {
   "cell_type": "code",
   "execution_count": 20,
   "id": "cd2789d8-62c1-48a4-ac1a-268b67473310",
   "metadata": {},
   "outputs": [],
   "source": [
    "def test(file):\n",
    "    try:\n",
    "        with open(file,'r') as f:\n",
    "            print(f.read())\n",
    "    except FileNotFoundError as e:\n",
    "        print('File Not Found :',e)\n",
    "    except Exception as e:\n",
    "        print('Exception :',e)"
   ]
  },
  {
   "cell_type": "code",
   "execution_count": 21,
   "id": "b0f9d759-ccfb-4ac5-bfaf-144fcd2a3348",
   "metadata": {},
   "outputs": [
    {
     "name": "stdout",
     "output_type": "stream",
     "text": [
      "File Not Found : [Errno 2] No such file or directory: 'sample2.txt'\n"
     ]
    }
   ],
   "source": [
    "test('sample2.txt')"
   ]
  },
  {
   "cell_type": "code",
   "execution_count": 22,
   "id": "f442184e-c2fb-4d57-9ae0-4fbf147fdd7a",
   "metadata": {},
   "outputs": [
    {
     "name": "stdout",
     "output_type": "stream",
     "text": [
      "This is my message\n"
     ]
    }
   ],
   "source": [
    "test('test.txt')"
   ]
  },
  {
   "cell_type": "markdown",
   "id": "6b2430ee-7ef2-4506-b034-6dbcf20b61a6",
   "metadata": {},
   "source": [
    "# 2. Best Practices in Exception Handling"
   ]
  },
  {
   "cell_type": "code",
   "execution_count": 23,
   "id": "11777e28-cdcc-4952-a3df-3294f3495156",
   "metadata": {},
   "outputs": [
    {
     "name": "stdout",
     "output_type": "stream",
     "text": [
      "division by zero\n"
     ]
    }
   ],
   "source": [
    "# Use always specific exceptions\n",
    "# Below is bad practice\n",
    "try:\n",
    "    10/0\n",
    "except Exception as e:\n",
    "    print(e)"
   ]
  },
  {
   "cell_type": "code",
   "execution_count": 24,
   "id": "21749464-74b0-425e-849f-71790ba086b9",
   "metadata": {},
   "outputs": [
    {
     "name": "stdout",
     "output_type": "stream",
     "text": [
      "division by zero\n"
     ]
    }
   ],
   "source": [
    "# Good Practice\n",
    "try:\n",
    "    10/0\n",
    "except ZeroDivisionError as e:\n",
    "    print(e)"
   ]
  },
  {
   "cell_type": "code",
   "execution_count": 25,
   "id": "529247c7-cd6d-424e-ae59-9cb0f5162a3b",
   "metadata": {},
   "outputs": [
    {
     "name": "stdout",
     "output_type": "stream",
     "text": [
      "This is a Zero Division error i.e. a number cannot be divided by zero. division by zero\n"
     ]
    }
   ],
   "source": [
    "# Print always a valid message\n",
    "try:\n",
    "    10/0\n",
    "except ZeroDivisionError as e:\n",
    "    print('This is a Zero Division error i.e. a number cannot be divided by zero.',e)"
   ]
  },
  {
   "cell_type": "code",
   "execution_count": 26,
   "id": "1b33cbbd-eaf7-4e1d-8bab-f9996917aac0",
   "metadata": {},
   "outputs": [],
   "source": [
    "# Always log \n",
    "import logging\n",
    "logging.basicConfig(filename='example.log',level=logging.DEBUG)\n",
    "try:\n",
    "    10/0\n",
    "except ZeroDivisionError as e:\n",
    "    logging.error(f'This is my Zero Division Error which is handled : {e}')"
   ]
  },
  {
   "cell_type": "code",
   "execution_count": 27,
   "id": "a38a7708-563d-49f7-8a40-1fabd9b22eec",
   "metadata": {},
   "outputs": [],
   "source": [
    "# Always avoid to write a multiple unnecessary exception handling\n",
    "try:\n",
    "    10/0\n",
    "except FileNotFoundError as e: \n",
    "    # File Not found error cannot happen in above case hence it is unnecessary\n",
    "    logging.error(f'This is my File not Found Error which is handled : {e}')\n",
    "except AttributeError as e:\n",
    "    # Attribute error cannot happen in above case hence it is unnecessary\n",
    "    logging.error(f'This is my Attribute Error which is handled : {e}')\n",
    "except ZeroDivisionError as e:\n",
    "    # This is the only error which is useful\n",
    "    logging.error(f'This is my Zero Division Error which is handled : {e}')"
   ]
  },
  {
   "cell_type": "code",
   "execution_count": 28,
   "id": "371c9047-5e4c-4fcb-ba61-ca2b38b2d840",
   "metadata": {},
   "outputs": [],
   "source": [
    "# Prepare proper documentation"
   ]
  },
  {
   "cell_type": "code",
   "execution_count": 30,
   "id": "b1e1ed3d-d735-44bb-ba69-2e497a11773d",
   "metadata": {},
   "outputs": [],
   "source": [
    "# Cleanup all the resources\n",
    "try:\n",
    "    with open('sample.txt','w') as f:\n",
    "        f.write('This is my message to sample.txt')\n",
    "except FileNotFoundError as e:\n",
    "    logging.error(f'This is my File not Found Error which is handled : {e}')\n",
    "finally:\n",
    "    f.close()"
   ]
  }
 ],
 "metadata": {
  "kernelspec": {
   "display_name": "Python 3 (ipykernel)",
   "language": "python",
   "name": "python3"
  },
  "language_info": {
   "codemirror_mode": {
    "name": "ipython",
    "version": 3
   },
   "file_extension": ".py",
   "mimetype": "text/x-python",
   "name": "python",
   "nbconvert_exporter": "python",
   "pygments_lexer": "ipython3",
   "version": "3.10.8"
  }
 },
 "nbformat": 4,
 "nbformat_minor": 5
}
