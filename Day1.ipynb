{
 "cells": [
  {
   "cell_type": "code",
   "execution_count": 1,
   "id": "bd594f34-441e-429d-a94a-39651912a7b2",
   "metadata": {},
   "outputs": [],
   "source": [
    "a = 10"
   ]
  },
  {
   "cell_type": "code",
   "execution_count": 2,
   "id": "b99127d1-c8f3-453d-94be-e43006ba7f5d",
   "metadata": {},
   "outputs": [
    {
     "data": {
      "text/plain": [
       "10"
      ]
     },
     "execution_count": 2,
     "metadata": {},
     "output_type": "execute_result"
    }
   ],
   "source": [
    "a"
   ]
  },
  {
   "cell_type": "code",
   "execution_count": 3,
   "id": "d5392c61-6edd-4909-8225-309db73f86f3",
   "metadata": {},
   "outputs": [
    {
     "name": "stdout",
     "output_type": "stream",
     "text": [
      "10\n"
     ]
    }
   ],
   "source": [
    "print(a)"
   ]
  },
  {
   "cell_type": "code",
   "execution_count": 4,
   "id": "d6a2add8-783c-4f62-8a1f-21e751dde71d",
   "metadata": {},
   "outputs": [],
   "source": [
    "b =21"
   ]
  },
  {
   "cell_type": "code",
   "execution_count": 5,
   "id": "9f3d1218-d263-4203-b033-586834eba8b6",
   "metadata": {},
   "outputs": [
    {
     "data": {
      "text/plain": [
       "21"
      ]
     },
     "execution_count": 5,
     "metadata": {},
     "output_type": "execute_result"
    }
   ],
   "source": [
    "b"
   ]
  },
  {
   "cell_type": "markdown",
   "id": "da07b314-76b0-45c5-aed4-1442f504b540",
   "metadata": {},
   "source": [
    "# Heading 1"
   ]
  },
  {
   "cell_type": "markdown",
   "id": "fff4de36-9367-4eba-8408-2ace9953e672",
   "metadata": {},
   "source": [
    "## Heading 2"
   ]
  },
  {
   "cell_type": "markdown",
   "id": "53c0b6ac-ca40-4dcf-9237-e47e12c39ba6",
   "metadata": {},
   "source": [
    "1. Bullet point 1\n",
    "2. Bullet point 2\n",
    "3. Bullet point 3"
   ]
  },
  {
   "cell_type": "code",
   "execution_count": 6,
   "id": "9f8b71e1-acbd-47ab-b5b4-94b958c90ecb",
   "metadata": {},
   "outputs": [
    {
     "name": "stdout",
     "output_type": "stream",
     "text": [
      "23\n"
     ]
    }
   ],
   "source": [
    "# Single Line Comment\n",
    "a = 23\n",
    "print(a)"
   ]
  },
  {
   "cell_type": "code",
   "execution_count": 7,
   "id": "f5a34c0f-bbdd-44ce-b9b8-0cd1f50114c1",
   "metadata": {},
   "outputs": [
    {
     "name": "stdout",
     "output_type": "stream",
     "text": [
      "30\n"
     ]
    }
   ],
   "source": [
    "\"\"\"\n",
    "Multi Line Comment\n",
    "this is Multiline comment\n",
    "\"\"\"\n",
    "b = 30\n",
    "print(b)"
   ]
  },
  {
   "cell_type": "markdown",
   "id": "c4889092-af95-4a7f-9ec7-087cd1abd983",
   "metadata": {},
   "source": [
    "# Variable Decleration"
   ]
  },
  {
   "cell_type": "code",
   "execution_count": 8,
   "id": "30e28f7a-4780-48d4-9974-f9f2d93efff8",
   "metadata": {},
   "outputs": [
    {
     "name": "stdout",
     "output_type": "stream",
     "text": [
      "23\n"
     ]
    }
   ],
   "source": [
    "a = 23\n",
    "print(a)"
   ]
  },
  {
   "cell_type": "code",
   "execution_count": 9,
   "id": "6fa800a3-9901-4bb1-89ce-c6d1d676b6c6",
   "metadata": {},
   "outputs": [
    {
     "name": "stdout",
     "output_type": "stream",
     "text": [
      "My name is Utkarsh \n",
      "I currently work at KPIT\n"
     ]
    }
   ],
   "source": [
    "name = 'Utkarsh'\n",
    "company = 'KPIT'\n",
    "print('My name is',name,'\\nI currently work at',company)"
   ]
  },
  {
   "cell_type": "code",
   "execution_count": 10,
   "id": "f0fa92a4-fc9e-4e28-9148-6a74a92fb018",
   "metadata": {},
   "outputs": [
    {
     "data": {
      "text/plain": [
       "23"
      ]
     },
     "execution_count": 10,
     "metadata": {},
     "output_type": "execute_result"
    }
   ],
   "source": [
    "a"
   ]
  },
  {
   "cell_type": "code",
   "execution_count": 11,
   "id": "4a9ab887-8a97-4d6a-a2f3-2289a6de4596",
   "metadata": {},
   "outputs": [
    {
     "data": {
      "text/plain": [
       "'Utkarsh'"
      ]
     },
     "execution_count": 11,
     "metadata": {},
     "output_type": "execute_result"
    }
   ],
   "source": [
    "name"
   ]
  },
  {
   "cell_type": "code",
   "execution_count": 12,
   "id": "fada718a-2ff0-48cd-8c40-4547ead8a47d",
   "metadata": {},
   "outputs": [
    {
     "data": {
      "text/plain": [
       "'KPIT'"
      ]
     },
     "execution_count": 12,
     "metadata": {},
     "output_type": "execute_result"
    }
   ],
   "source": [
    "company"
   ]
  },
  {
   "cell_type": "code",
   "execution_count": 13,
   "id": "5bb96760-ae7f-4bec-b438-ac32c15c0a81",
   "metadata": {},
   "outputs": [
    {
     "name": "stdout",
     "output_type": "stream",
     "text": [
      "KPIT\n",
      "PWSkills\n"
     ]
    }
   ],
   "source": [
    "# Variables are case sensitive\n",
    "company = 'KPIT'\n",
    "Company = 'PWSkills'\n",
    "print(company)\n",
    "print(Company)"
   ]
  },
  {
   "cell_type": "markdown",
   "id": "0e2c1ac6-8a9c-47fb-8da1-07cea9d04917",
   "metadata": {},
   "source": [
    "# Variable Types"
   ]
  },
  {
   "cell_type": "code",
   "execution_count": 14,
   "id": "97cc5c08-70ad-42db-8fad-21d8f0ea1dce",
   "metadata": {},
   "outputs": [
    {
     "data": {
      "text/plain": [
       "int"
      ]
     },
     "execution_count": 14,
     "metadata": {},
     "output_type": "execute_result"
    }
   ],
   "source": [
    "type(1)"
   ]
  },
  {
   "cell_type": "code",
   "execution_count": 15,
   "id": "73a7397b-d83d-4729-8a6e-e495fefaaef3",
   "metadata": {},
   "outputs": [
    {
     "data": {
      "text/plain": [
       "float"
      ]
     },
     "execution_count": 15,
     "metadata": {},
     "output_type": "execute_result"
    }
   ],
   "source": [
    "type(3.5)"
   ]
  },
  {
   "cell_type": "code",
   "execution_count": 16,
   "id": "bfc84a94-fa04-4a9b-b7db-614bb2ea1088",
   "metadata": {},
   "outputs": [
    {
     "data": {
      "text/plain": [
       "str"
      ]
     },
     "execution_count": 16,
     "metadata": {},
     "output_type": "execute_result"
    }
   ],
   "source": [
    "type('Utkarsh')"
   ]
  },
  {
   "cell_type": "markdown",
   "id": "25341b7d-e780-4917-9047-d19289f6079b",
   "metadata": {},
   "source": [
    "# Typecasting"
   ]
  },
  {
   "cell_type": "code",
   "execution_count": 17,
   "id": "c47218d8-4b8e-4c3e-be3c-d16198c5e2c5",
   "metadata": {},
   "outputs": [
    {
     "data": {
      "text/plain": [
       "True"
      ]
     },
     "execution_count": 17,
     "metadata": {},
     "output_type": "execute_result"
    }
   ],
   "source": [
    "bool(1)"
   ]
  },
  {
   "cell_type": "code",
   "execution_count": 18,
   "id": "99a58aeb-8a78-4238-9da7-2c3fdfe15eb4",
   "metadata": {},
   "outputs": [
    {
     "data": {
      "text/plain": [
       "False"
      ]
     },
     "execution_count": 18,
     "metadata": {},
     "output_type": "execute_result"
    }
   ],
   "source": [
    "bool(0)"
   ]
  },
  {
   "cell_type": "code",
   "execution_count": 19,
   "id": "67258593-d7bf-4f05-aeec-ac1759d8cd7a",
   "metadata": {},
   "outputs": [
    {
     "data": {
      "text/plain": [
       "'1'"
      ]
     },
     "execution_count": 19,
     "metadata": {},
     "output_type": "execute_result"
    }
   ],
   "source": [
    "str(1)"
   ]
  },
  {
   "cell_type": "code",
   "execution_count": 20,
   "id": "e5072bfb-3ff7-4112-a9d9-f1d68bde06dc",
   "metadata": {},
   "outputs": [
    {
     "data": {
      "text/plain": [
       "'12'"
      ]
     },
     "execution_count": 20,
     "metadata": {},
     "output_type": "execute_result"
    }
   ],
   "source": [
    "str(1)+str(2)"
   ]
  }
 ],
 "metadata": {
  "kernelspec": {
   "display_name": "Python 3 (ipykernel)",
   "language": "python",
   "name": "python3"
  },
  "language_info": {
   "codemirror_mode": {
    "name": "ipython",
    "version": 3
   },
   "file_extension": ".py",
   "mimetype": "text/x-python",
   "name": "python",
   "nbconvert_exporter": "python",
   "pygments_lexer": "ipython3",
   "version": "3.10.8"
  }
 },
 "nbformat": 4,
 "nbformat_minor": 5
}
