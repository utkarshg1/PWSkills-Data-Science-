{
 "cells": [
  {
   "cell_type": "markdown",
   "id": "50503608-808e-4f9f-ba6f-67d4fa772d20",
   "metadata": {},
   "source": [
    "# Day 5 - Tuple, Sets and Dictionary - Utkarsh Gaikwad"
   ]
  },
  {
   "cell_type": "markdown",
   "id": "e9b861a1-5495-49a1-af3b-4aa95f8cebd9",
   "metadata": {},
   "source": [
    "# Tuple"
   ]
  },
  {
   "cell_type": "code",
   "execution_count": 1,
   "id": "1244561c-9829-4310-89ea-2427e885982c",
   "metadata": {},
   "outputs": [],
   "source": [
    "t = ()"
   ]
  },
  {
   "cell_type": "code",
   "execution_count": 2,
   "id": "f7391d1c-fd58-437c-beba-9d69027f41f1",
   "metadata": {},
   "outputs": [
    {
     "data": {
      "text/plain": [
       "tuple"
      ]
     },
     "execution_count": 2,
     "metadata": {},
     "output_type": "execute_result"
    }
   ],
   "source": [
    "type(t)"
   ]
  },
  {
   "cell_type": "code",
   "execution_count": 5,
   "id": "9eab9e79-3a31-466c-8b9d-0a33c87dcf99",
   "metadata": {},
   "outputs": [],
   "source": [
    "t1 = (1,2,3,4,5,6.7,1+2j,\"Utkarsh\",True)"
   ]
  },
  {
   "cell_type": "code",
   "execution_count": 6,
   "id": "a25ee4ae-af62-41cb-a08d-6c68463238c4",
   "metadata": {},
   "outputs": [
    {
     "data": {
      "text/plain": [
       "tuple"
      ]
     },
     "execution_count": 6,
     "metadata": {},
     "output_type": "execute_result"
    }
   ],
   "source": [
    "type(t1)"
   ]
  },
  {
   "cell_type": "code",
   "execution_count": 7,
   "id": "a4f7c780-c3b4-4576-b4e6-df134c9ed010",
   "metadata": {},
   "outputs": [
    {
     "data": {
      "text/plain": [
       "list"
      ]
     },
     "execution_count": 7,
     "metadata": {},
     "output_type": "execute_result"
    }
   ],
   "source": [
    "#list example\n",
    "l = [1,3,45]\n",
    "type(l)"
   ]
  },
  {
   "cell_type": "code",
   "execution_count": 8,
   "id": "d31be779-8210-4701-9994-6737012183c5",
   "metadata": {},
   "outputs": [
    {
     "data": {
      "text/plain": [
       "(1, 2, 3, 4, 5, 6.7, (1+2j), 'Utkarsh', True)"
      ]
     },
     "execution_count": 8,
     "metadata": {},
     "output_type": "execute_result"
    }
   ],
   "source": [
    "t1"
   ]
  },
  {
   "cell_type": "code",
   "execution_count": 9,
   "id": "c14fc101-d764-4f1d-a3ed-c3d546f9d03d",
   "metadata": {},
   "outputs": [
    {
     "data": {
      "text/plain": [
       "3"
      ]
     },
     "execution_count": 9,
     "metadata": {},
     "output_type": "execute_result"
    }
   ],
   "source": [
    "t1[2]"
   ]
  },
  {
   "cell_type": "code",
   "execution_count": 10,
   "id": "ac158fc7-0429-4caa-816b-ff6a104d6497",
   "metadata": {},
   "outputs": [
    {
     "data": {
      "text/plain": [
       "(1+2j)"
      ]
     },
     "execution_count": 10,
     "metadata": {},
     "output_type": "execute_result"
    }
   ],
   "source": [
    "t1[6]"
   ]
  },
  {
   "cell_type": "code",
   "execution_count": 11,
   "id": "c19a45f4-02f9-4227-9e08-6d926f10bead",
   "metadata": {},
   "outputs": [
    {
     "data": {
      "text/plain": [
       "(True, 'Utkarsh', (1+2j), 6.7, 5, 4, 3, 2, 1)"
      ]
     },
     "execution_count": 11,
     "metadata": {},
     "output_type": "execute_result"
    }
   ],
   "source": [
    "t1[::-1]"
   ]
  },
  {
   "cell_type": "code",
   "execution_count": 12,
   "id": "522039a9-bd9a-491c-bc27-21894684736e",
   "metadata": {},
   "outputs": [],
   "source": [
    "t1 = t1[::-1]"
   ]
  },
  {
   "cell_type": "code",
   "execution_count": 13,
   "id": "4e0278db-00df-4421-9c6c-37bd5ea7b4ea",
   "metadata": {},
   "outputs": [
    {
     "data": {
      "text/plain": [
       "(True, 'Utkarsh', (1+2j), 6.7, 5, 4, 3, 2, 1)"
      ]
     },
     "execution_count": 13,
     "metadata": {},
     "output_type": "execute_result"
    }
   ],
   "source": [
    "t1"
   ]
  },
  {
   "cell_type": "code",
   "execution_count": 14,
   "id": "34aebe43-f817-407d-bf7f-c62b8c2cffd1",
   "metadata": {},
   "outputs": [
    {
     "data": {
      "text/plain": [
       "(True, 'Utkarsh', (1+2j))"
      ]
     },
     "execution_count": 14,
     "metadata": {},
     "output_type": "execute_result"
    }
   ],
   "source": [
    "t1[:3]"
   ]
  },
  {
   "cell_type": "code",
   "execution_count": 19,
   "id": "13442689-9a4e-4fc7-bb1a-69ef9a8236e5",
   "metadata": {},
   "outputs": [
    {
     "data": {
      "text/plain": [
       "1"
      ]
     },
     "execution_count": 19,
     "metadata": {},
     "output_type": "execute_result"
    }
   ],
   "source": [
    "t1.count(4)"
   ]
  },
  {
   "cell_type": "code",
   "execution_count": 20,
   "id": "8d73885f-2130-43dc-bffa-6a2584489610",
   "metadata": {},
   "outputs": [
    {
     "data": {
      "text/plain": [
       "0"
      ]
     },
     "execution_count": 20,
     "metadata": {},
     "output_type": "execute_result"
    }
   ],
   "source": [
    "t1.count('xyz')"
   ]
  },
  {
   "cell_type": "code",
   "execution_count": 21,
   "id": "dbf1e8df-c7b0-4644-93a6-2757b504b17c",
   "metadata": {},
   "outputs": [
    {
     "data": {
      "text/plain": [
       "5"
      ]
     },
     "execution_count": 21,
     "metadata": {},
     "output_type": "execute_result"
    }
   ],
   "source": [
    "t1.index(4)"
   ]
  },
  {
   "cell_type": "code",
   "execution_count": 22,
   "id": "0bdd68c5-6ab6-4175-b6ed-f1be311d0649",
   "metadata": {},
   "outputs": [
    {
     "data": {
      "text/plain": [
       "0"
      ]
     },
     "execution_count": 22,
     "metadata": {},
     "output_type": "execute_result"
    }
   ],
   "source": [
    "t1.index(True)"
   ]
  },
  {
   "cell_type": "code",
   "execution_count": 24,
   "id": "ba2d51b4-3df6-4cea-9607-a6c24b7ef266",
   "metadata": {},
   "outputs": [
    {
     "data": {
      "text/plain": [
       "0"
      ]
     },
     "execution_count": 24,
     "metadata": {},
     "output_type": "execute_result"
    }
   ],
   "source": [
    "t1.index(1)"
   ]
  },
  {
   "cell_type": "code",
   "execution_count": 25,
   "id": "aadfd2d2-a690-4bbe-960b-34af4f0ab0be",
   "metadata": {},
   "outputs": [
    {
     "data": {
      "text/plain": [
       "1"
      ]
     },
     "execution_count": 25,
     "metadata": {},
     "output_type": "execute_result"
    }
   ],
   "source": [
    "t1.index('Utkarsh')"
   ]
  },
  {
   "cell_type": "code",
   "execution_count": 26,
   "id": "ecc449df-05b8-4d4f-9a22-ab2fa9db93d1",
   "metadata": {},
   "outputs": [
    {
     "data": {
      "text/plain": [
       "2"
      ]
     },
     "execution_count": 26,
     "metadata": {},
     "output_type": "execute_result"
    }
   ],
   "source": [
    "t1.count(1)"
   ]
  },
  {
   "cell_type": "markdown",
   "id": "270bb0c0-7cc4-48af-98e2-ec38e130f68f",
   "metadata": {},
   "source": [
    "#### Tuple is Immutable"
   ]
  },
  {
   "cell_type": "code",
   "execution_count": 27,
   "id": "aeef9cd2-12bf-4ee3-aeac-9941952e15ef",
   "metadata": {},
   "outputs": [
    {
     "ename": "TypeError",
     "evalue": "'tuple' object does not support item assignment",
     "output_type": "error",
     "traceback": [
      "\u001b[0;31m---------------------------------------------------------------------------\u001b[0m",
      "\u001b[0;31mTypeError\u001b[0m                                 Traceback (most recent call last)",
      "Cell \u001b[0;32mIn[27], line 1\u001b[0m\n\u001b[0;32m----> 1\u001b[0m \u001b[43mt1\u001b[49m\u001b[43m[\u001b[49m\u001b[38;5;241;43m0\u001b[39;49m\u001b[43m]\u001b[49m\u001b[38;5;241m=\u001b[39m\u001b[38;5;241m13\u001b[39m\n",
      "\u001b[0;31mTypeError\u001b[0m: 'tuple' object does not support item assignment"
     ]
    }
   ],
   "source": [
    "t1[0]=13"
   ]
  },
  {
   "cell_type": "code",
   "execution_count": 29,
   "id": "50f21b2d-75d5-4725-aa6e-3a57ec63b880",
   "metadata": {},
   "outputs": [
    {
     "name": "stdout",
     "output_type": "stream",
     "text": [
      "True <class 'bool'>\n",
      "Utkarsh <class 'str'>\n",
      "(1+2j) <class 'complex'>\n",
      "6.7 <class 'float'>\n",
      "5 <class 'int'>\n",
      "4 <class 'int'>\n",
      "3 <class 'int'>\n",
      "2 <class 'int'>\n",
      "1 <class 'int'>\n"
     ]
    }
   ],
   "source": [
    "for i in t1:\n",
    "    print(i, type(i))"
   ]
  },
  {
   "cell_type": "code",
   "execution_count": 30,
   "id": "b0fb85c9-4e56-4427-8cc6-b39802ac33d4",
   "metadata": {},
   "outputs": [],
   "source": [
    "t2 = (1,2,3,4,5)"
   ]
  },
  {
   "cell_type": "code",
   "execution_count": 31,
   "id": "6a242c73-902a-4442-95ce-010e5ac84253",
   "metadata": {},
   "outputs": [
    {
     "data": {
      "text/plain": [
       "(1, 2, 3, 4, 5, 1, 2, 3, 4, 5, 1, 2, 3, 4, 5)"
      ]
     },
     "execution_count": 31,
     "metadata": {},
     "output_type": "execute_result"
    }
   ],
   "source": [
    "t2*3"
   ]
  },
  {
   "cell_type": "code",
   "execution_count": 32,
   "id": "007c4ed7-b75d-4efe-a58c-9310a8096724",
   "metadata": {},
   "outputs": [
    {
     "data": {
      "text/plain": [
       "5"
      ]
     },
     "execution_count": 32,
     "metadata": {},
     "output_type": "execute_result"
    }
   ],
   "source": [
    "max(t2)"
   ]
  },
  {
   "cell_type": "code",
   "execution_count": 33,
   "id": "e441fe7a-c1ef-4414-8ea7-b8ae388fc2e9",
   "metadata": {},
   "outputs": [
    {
     "data": {
      "text/plain": [
       "1"
      ]
     },
     "execution_count": 33,
     "metadata": {},
     "output_type": "execute_result"
    }
   ],
   "source": [
    "min(t2)"
   ]
  },
  {
   "cell_type": "code",
   "execution_count": 34,
   "id": "5e29a90e-b37f-47c9-9bda-2079dd5b0be3",
   "metadata": {},
   "outputs": [
    {
     "data": {
      "text/plain": [
       "15"
      ]
     },
     "execution_count": 34,
     "metadata": {},
     "output_type": "execute_result"
    }
   ],
   "source": [
    "sum(t2)"
   ]
  },
  {
   "cell_type": "code",
   "execution_count": 35,
   "id": "a2a77784-61e8-473a-a607-94adf304434d",
   "metadata": {},
   "outputs": [],
   "source": [
    "t1 = (1,2,3,4)\n",
    "t2 = (5,6,7,8,9)"
   ]
  },
  {
   "cell_type": "code",
   "execution_count": 36,
   "id": "05b95888-cdbe-4d9e-838a-756c4d4dd993",
   "metadata": {},
   "outputs": [],
   "source": [
    "t3 = (t1,t2)"
   ]
  },
  {
   "cell_type": "code",
   "execution_count": 37,
   "id": "abc9abb2-7ceb-41f3-bacf-c5ebfe66d893",
   "metadata": {},
   "outputs": [
    {
     "data": {
      "text/plain": [
       "((1, 2, 3, 4), (5, 6, 7, 8, 9))"
      ]
     },
     "execution_count": 37,
     "metadata": {},
     "output_type": "execute_result"
    }
   ],
   "source": [
    "t3"
   ]
  },
  {
   "cell_type": "code",
   "execution_count": 38,
   "id": "a4200816-a979-471a-8272-26bdf2fc89d7",
   "metadata": {},
   "outputs": [],
   "source": [
    "t4 = ((1,2,3,4,5,6),[2,4,6])"
   ]
  },
  {
   "cell_type": "code",
   "execution_count": 39,
   "id": "11b74865-5192-4bb5-adcc-618ed073c0fb",
   "metadata": {},
   "outputs": [],
   "source": [
    "del t4"
   ]
  },
  {
   "cell_type": "code",
   "execution_count": 41,
   "id": "4f9f8665-09e3-49af-a248-46b79487613d",
   "metadata": {},
   "outputs": [
    {
     "ename": "NameError",
     "evalue": "name 't4' is not defined",
     "output_type": "error",
     "traceback": [
      "\u001b[0;31m---------------------------------------------------------------------------\u001b[0m",
      "\u001b[0;31mNameError\u001b[0m                                 Traceback (most recent call last)",
      "Cell \u001b[0;32mIn[41], line 1\u001b[0m\n\u001b[0;32m----> 1\u001b[0m \u001b[43mt4\u001b[49m\n",
      "\u001b[0;31mNameError\u001b[0m: name 't4' is not defined"
     ]
    }
   ],
   "source": [
    "t4"
   ]
  },
  {
   "cell_type": "code",
   "execution_count": 43,
   "id": "09e94436-c134-4ffa-95b2-5b2ad591d94c",
   "metadata": {},
   "outputs": [
    {
     "data": {
      "text/plain": [
       "(1, 2, 3, 4)"
      ]
     },
     "execution_count": 43,
     "metadata": {},
     "output_type": "execute_result"
    }
   ],
   "source": [
    "t1"
   ]
  },
  {
   "cell_type": "code",
   "execution_count": 44,
   "id": "494e5a68-7b53-4661-b4e1-f6ff40b46852",
   "metadata": {},
   "outputs": [
    {
     "data": {
      "text/plain": [
       "4"
      ]
     },
     "execution_count": 44,
     "metadata": {},
     "output_type": "execute_result"
    }
   ],
   "source": [
    "len(t1)"
   ]
  },
  {
   "cell_type": "code",
   "execution_count": 45,
   "id": "211d2bb8-f014-448a-8dfc-b79b3ce85243",
   "metadata": {},
   "outputs": [
    {
     "data": {
      "text/plain": [
       "False"
      ]
     },
     "execution_count": 45,
     "metadata": {},
     "output_type": "execute_result"
    }
   ],
   "source": [
    "'Utkarsh' in t1"
   ]
  },
  {
   "cell_type": "code",
   "execution_count": 46,
   "id": "fa4172c1-7dba-4968-a132-ccdd5e4c8f09",
   "metadata": {},
   "outputs": [
    {
     "data": {
      "text/plain": [
       "True"
      ]
     },
     "execution_count": 46,
     "metadata": {},
     "output_type": "execute_result"
    }
   ],
   "source": [
    "3 in t1"
   ]
  },
  {
   "cell_type": "markdown",
   "id": "f76e610a-9f56-418c-8247-e98cbc8678ca",
   "metadata": {},
   "source": [
    "# Sets"
   ]
  },
  {
   "cell_type": "code",
   "execution_count": 47,
   "id": "c2798d99-38be-4420-a1bc-267463c12189",
   "metadata": {},
   "outputs": [],
   "source": [
    "s = {}"
   ]
  },
  {
   "cell_type": "code",
   "execution_count": 48,
   "id": "64e9b73e-405b-4c19-b1d2-b17c70b0ea8e",
   "metadata": {},
   "outputs": [
    {
     "data": {
      "text/plain": [
       "dict"
      ]
     },
     "execution_count": 48,
     "metadata": {},
     "output_type": "execute_result"
    }
   ],
   "source": [
    "type(s)"
   ]
  },
  {
   "cell_type": "code",
   "execution_count": 49,
   "id": "7c8c78da-9ec7-49ee-96b6-7db5ac06bf61",
   "metadata": {},
   "outputs": [],
   "source": [
    "s1 = {1,2,3,4}"
   ]
  },
  {
   "cell_type": "code",
   "execution_count": 50,
   "id": "5eb47556-c2d0-4a76-bf25-0dfe4d3d962b",
   "metadata": {},
   "outputs": [
    {
     "data": {
      "text/plain": [
       "set"
      ]
     },
     "execution_count": 50,
     "metadata": {},
     "output_type": "execute_result"
    }
   ],
   "source": [
    "type(s1)"
   ]
  },
  {
   "cell_type": "code",
   "execution_count": 51,
   "id": "394324be-4d2a-4930-9617-a8b986da7992",
   "metadata": {},
   "outputs": [],
   "source": [
    "s2 = {1,1,2,2,2,3,3,3,5,5,6}"
   ]
  },
  {
   "cell_type": "code",
   "execution_count": 52,
   "id": "79b63fe7-745e-4748-91dd-47756dcbeb38",
   "metadata": {},
   "outputs": [
    {
     "data": {
      "text/plain": [
       "{1, 2, 3, 5, 6}"
      ]
     },
     "execution_count": 52,
     "metadata": {},
     "output_type": "execute_result"
    }
   ],
   "source": [
    "s2"
   ]
  },
  {
   "cell_type": "code",
   "execution_count": 53,
   "id": "c796e3af-e867-48d7-ab0b-83aa83cbd96e",
   "metadata": {},
   "outputs": [
    {
     "data": {
      "text/plain": [
       "[1, 2, 3, 5, 6]"
      ]
     },
     "execution_count": 53,
     "metadata": {},
     "output_type": "execute_result"
    }
   ],
   "source": [
    "list(s2)"
   ]
  },
  {
   "cell_type": "code",
   "execution_count": 54,
   "id": "224f2105-8242-45ce-8820-a7201baa2149",
   "metadata": {},
   "outputs": [
    {
     "data": {
      "text/plain": [
       "(1, 2, 3, 5, 6)"
      ]
     },
     "execution_count": 54,
     "metadata": {},
     "output_type": "execute_result"
    }
   ],
   "source": [
    "tuple(s2)"
   ]
  },
  {
   "cell_type": "code",
   "execution_count": 55,
   "id": "c40665f5-dda8-4732-85d4-5eb99437a3ab",
   "metadata": {},
   "outputs": [
    {
     "ename": "TypeError",
     "evalue": "unhashable type: 'list'",
     "output_type": "error",
     "traceback": [
      "\u001b[0;31m---------------------------------------------------------------------------\u001b[0m",
      "\u001b[0;31mTypeError\u001b[0m                                 Traceback (most recent call last)",
      "Cell \u001b[0;32mIn[55], line 1\u001b[0m\n\u001b[0;32m----> 1\u001b[0m s3 \u001b[38;5;241m=\u001b[39m {\u001b[38;5;241m1\u001b[39m,\u001b[38;5;241m2\u001b[39m,\u001b[38;5;241m3\u001b[39m,\u001b[38;5;241m4\u001b[39m,[\u001b[38;5;241m1\u001b[39m,\u001b[38;5;241m2\u001b[39m,\u001b[38;5;241m3\u001b[39m,\u001b[38;5;241m4\u001b[39m]}\n",
      "\u001b[0;31mTypeError\u001b[0m: unhashable type: 'list'"
     ]
    }
   ],
   "source": [
    "s3 = {1,2,3,4,[1,2,3,4]}"
   ]
  },
  {
   "cell_type": "code",
   "execution_count": 56,
   "id": "0aa17335-dc43-44c9-8b95-67df048b9126",
   "metadata": {},
   "outputs": [],
   "source": [
    "s4 = {1,2,3,4,(5,6,7)}"
   ]
  },
  {
   "cell_type": "code",
   "execution_count": 57,
   "id": "bcbe71f3-5bbc-4d25-a9b6-f792d16b3f93",
   "metadata": {},
   "outputs": [
    {
     "data": {
      "text/plain": [
       "{(5, 6, 7), 1, 2, 3, 4}"
      ]
     },
     "execution_count": 57,
     "metadata": {},
     "output_type": "execute_result"
    }
   ],
   "source": [
    "s4"
   ]
  },
  {
   "cell_type": "code",
   "execution_count": 58,
   "id": "b20523e4-f5fc-4dcb-bd7d-73be2feeb8ae",
   "metadata": {},
   "outputs": [
    {
     "data": {
      "text/plain": [
       "{2, 3, 4, 'Utkarsh', 'utkarsh'}"
      ]
     },
     "execution_count": 58,
     "metadata": {},
     "output_type": "execute_result"
    }
   ],
   "source": [
    "s5 = {'Utkarsh','utkarsh',2,3,4}\n",
    "s5"
   ]
  },
  {
   "cell_type": "code",
   "execution_count": 59,
   "id": "f535812e-e45e-49dc-b8cb-0387fcac6468",
   "metadata": {},
   "outputs": [],
   "source": [
    "s6 = {'utkarsh','utkarsh',2,3,4}"
   ]
  },
  {
   "cell_type": "code",
   "execution_count": 65,
   "id": "55a31fd5-e549-43f7-96f2-a6be2f88bc3e",
   "metadata": {},
   "outputs": [
    {
     "data": {
      "text/plain": [
       "{2, 3, 4, 'utkarsh'}"
      ]
     },
     "execution_count": 65,
     "metadata": {},
     "output_type": "execute_result"
    }
   ],
   "source": [
    "s6"
   ]
  },
  {
   "cell_type": "code",
   "execution_count": 66,
   "id": "dffcf156-d45c-45e0-b9db-14511090f175",
   "metadata": {},
   "outputs": [
    {
     "ename": "TypeError",
     "evalue": "'set' object is not subscriptable",
     "output_type": "error",
     "traceback": [
      "\u001b[0;31m---------------------------------------------------------------------------\u001b[0m",
      "\u001b[0;31mTypeError\u001b[0m                                 Traceback (most recent call last)",
      "Cell \u001b[0;32mIn[66], line 1\u001b[0m\n\u001b[0;32m----> 1\u001b[0m \u001b[43ms6\u001b[49m\u001b[43m[\u001b[49m\u001b[38;5;241;43m0\u001b[39;49m\u001b[43m]\u001b[49m\n",
      "\u001b[0;31mTypeError\u001b[0m: 'set' object is not subscriptable"
     ]
    }
   ],
   "source": [
    "s6[0]"
   ]
  },
  {
   "cell_type": "code",
   "execution_count": 62,
   "id": "3fafcc7f-bc8d-426e-9e55-0fe7f22a953d",
   "metadata": {},
   "outputs": [
    {
     "ename": "TypeError",
     "evalue": "'set' object is not subscriptable",
     "output_type": "error",
     "traceback": [
      "\u001b[0;31m---------------------------------------------------------------------------\u001b[0m",
      "\u001b[0;31mTypeError\u001b[0m                                 Traceback (most recent call last)",
      "Cell \u001b[0;32mIn[62], line 1\u001b[0m\n\u001b[0;32m----> 1\u001b[0m \u001b[43ms6\u001b[49m\u001b[43m[\u001b[49m\u001b[43m:\u001b[49m\u001b[43m:\u001b[49m\u001b[38;5;241;43m-\u001b[39;49m\u001b[38;5;241;43m1\u001b[39;49m\u001b[43m]\u001b[49m\n",
      "\u001b[0;31mTypeError\u001b[0m: 'set' object is not subscriptable"
     ]
    }
   ],
   "source": [
    "s6[::-1]"
   ]
  },
  {
   "cell_type": "code",
   "execution_count": 63,
   "id": "9cd8c64d-1a6c-4906-94da-e9bb6af5dea9",
   "metadata": {},
   "outputs": [
    {
     "name": "stdout",
     "output_type": "stream",
     "text": [
      "utkarsh\n",
      "2\n",
      "3\n",
      "4\n"
     ]
    }
   ],
   "source": [
    "for i in s6:\n",
    "    print(i)"
   ]
  },
  {
   "cell_type": "code",
   "execution_count": 64,
   "id": "8b4dbd82-0719-4b02-abcd-b3a85199fdce",
   "metadata": {},
   "outputs": [
    {
     "data": {
      "text/plain": [
       "['utkarsh', 2, 3, 4]"
      ]
     },
     "execution_count": 64,
     "metadata": {},
     "output_type": "execute_result"
    }
   ],
   "source": [
    "[i for i in s6]"
   ]
  },
  {
   "cell_type": "code",
   "execution_count": 67,
   "id": "68ad40b7-32ee-446f-a7eb-98a9c3d65602",
   "metadata": {},
   "outputs": [],
   "source": [
    "s6.add(6)"
   ]
  },
  {
   "cell_type": "code",
   "execution_count": 68,
   "id": "7fb76a51-8232-4268-82b3-a476d7190d5c",
   "metadata": {},
   "outputs": [
    {
     "data": {
      "text/plain": [
       "{2, 3, 4, 6, 'utkarsh'}"
      ]
     },
     "execution_count": 68,
     "metadata": {},
     "output_type": "execute_result"
    }
   ],
   "source": [
    "s6"
   ]
  },
  {
   "cell_type": "code",
   "execution_count": 69,
   "id": "64eeeec2-6cf9-476f-be02-f72774c982e4",
   "metadata": {},
   "outputs": [],
   "source": [
    "s6.add(3)"
   ]
  },
  {
   "cell_type": "code",
   "execution_count": 70,
   "id": "c1fc612d-5c42-49e3-8650-6c8033ff282e",
   "metadata": {},
   "outputs": [
    {
     "data": {
      "text/plain": [
       "{2, 3, 4, 6, 'utkarsh'}"
      ]
     },
     "execution_count": 70,
     "metadata": {},
     "output_type": "execute_result"
    }
   ],
   "source": [
    "s6"
   ]
  },
  {
   "cell_type": "code",
   "execution_count": 71,
   "id": "a4b3e0e0-42af-4688-b90c-01934645ab94",
   "metadata": {},
   "outputs": [
    {
     "data": {
      "text/plain": [
       "2"
      ]
     },
     "execution_count": 71,
     "metadata": {},
     "output_type": "execute_result"
    }
   ],
   "source": [
    "s6.pop()"
   ]
  },
  {
   "cell_type": "code",
   "execution_count": 72,
   "id": "f7051405-24f3-408b-b555-819706a96942",
   "metadata": {},
   "outputs": [
    {
     "data": {
      "text/plain": [
       "{3, 4, 6, 'utkarsh'}"
      ]
     },
     "execution_count": 72,
     "metadata": {},
     "output_type": "execute_result"
    }
   ],
   "source": [
    "s6"
   ]
  },
  {
   "cell_type": "code",
   "execution_count": 73,
   "id": "1de077ef-a77e-4d79-88dd-db2a2cefb5f6",
   "metadata": {},
   "outputs": [
    {
     "data": {
      "text/plain": [
       "3"
      ]
     },
     "execution_count": 73,
     "metadata": {},
     "output_type": "execute_result"
    }
   ],
   "source": [
    "s6.pop()"
   ]
  },
  {
   "cell_type": "code",
   "execution_count": 74,
   "id": "8ea3ec7c-975a-4abd-930b-9d1c996667e1",
   "metadata": {},
   "outputs": [],
   "source": [
    "s6.clear()"
   ]
  },
  {
   "cell_type": "code",
   "execution_count": 75,
   "id": "1bf9accf-3bba-4e4d-ba53-227b5c786145",
   "metadata": {},
   "outputs": [
    {
     "data": {
      "text/plain": [
       "set()"
      ]
     },
     "execution_count": 75,
     "metadata": {},
     "output_type": "execute_result"
    }
   ],
   "source": [
    "s6"
   ]
  },
  {
   "cell_type": "code",
   "execution_count": 76,
   "id": "48c4fca7-771c-4d33-b1db-1d9bfb1ac15a",
   "metadata": {},
   "outputs": [],
   "source": [
    "s8 = {1,2,3,4}\n",
    "s9 = {1,2,3,5}"
   ]
  },
  {
   "cell_type": "code",
   "execution_count": 77,
   "id": "39dd34c9-abb7-4d2b-8b42-14b887f64eb9",
   "metadata": {},
   "outputs": [
    {
     "data": {
      "text/plain": [
       "{4}"
      ]
     },
     "execution_count": 77,
     "metadata": {},
     "output_type": "execute_result"
    }
   ],
   "source": [
    "s8.difference(s9)"
   ]
  },
  {
   "cell_type": "code",
   "execution_count": 78,
   "id": "a10a6c46-2e4e-42a9-aeb1-099e546edc67",
   "metadata": {},
   "outputs": [
    {
     "data": {
      "text/plain": [
       "{5}"
      ]
     },
     "execution_count": 78,
     "metadata": {},
     "output_type": "execute_result"
    }
   ],
   "source": [
    "s9.difference(s8)"
   ]
  },
  {
   "cell_type": "code",
   "execution_count": 79,
   "id": "b49d4161-d186-48e5-8508-544c70211205",
   "metadata": {},
   "outputs": [
    {
     "data": {
      "text/plain": [
       "{1, 2, 3}"
      ]
     },
     "execution_count": 79,
     "metadata": {},
     "output_type": "execute_result"
    }
   ],
   "source": [
    "s9.intersection(s8)"
   ]
  },
  {
   "cell_type": "markdown",
   "id": "054e324c-09b9-445a-9cf5-4ac4292f173d",
   "metadata": {},
   "source": [
    "# Dictionary"
   ]
  },
  {
   "cell_type": "code",
   "execution_count": 1,
   "id": "e8ecaaa5-a052-4cf0-a571-60a965fdad2a",
   "metadata": {},
   "outputs": [
    {
     "data": {
      "text/plain": [
       "dict"
      ]
     },
     "execution_count": 1,
     "metadata": {},
     "output_type": "execute_result"
    }
   ],
   "source": [
    "d = {}\n",
    "type(d)"
   ]
  },
  {
   "cell_type": "code",
   "execution_count": 2,
   "id": "1c1bdcd0-c988-4de0-b4a4-a73048538e86",
   "metadata": {},
   "outputs": [],
   "source": [
    "d1 = {'name':'Utkarsh', 'email':'test@gmail.com','number':1234523}"
   ]
  },
  {
   "cell_type": "code",
   "execution_count": 3,
   "id": "30657f09-bef2-44ef-ade6-48e421c14cc0",
   "metadata": {},
   "outputs": [
    {
     "data": {
      "text/plain": [
       "dict"
      ]
     },
     "execution_count": 3,
     "metadata": {},
     "output_type": "execute_result"
    }
   ],
   "source": [
    "type(d1)"
   ]
  },
  {
   "cell_type": "code",
   "execution_count": 6,
   "id": "268881de-2367-42b7-ab7f-9bd5e5a7bb0b",
   "metadata": {},
   "outputs": [
    {
     "data": {
      "text/plain": [
       "{'name': 'Utkarsh', 'email': 'test@gmail.com', 'number': 1234523}"
      ]
     },
     "execution_count": 6,
     "metadata": {},
     "output_type": "execute_result"
    }
   ],
   "source": [
    "d1"
   ]
  },
  {
   "cell_type": "code",
   "execution_count": 4,
   "id": "4a18f349-acbc-476d-92dc-d7810b090fb6",
   "metadata": {},
   "outputs": [],
   "source": [
    "d2 = {'name':'Utkarsh','name':'Bibtya'}"
   ]
  },
  {
   "cell_type": "code",
   "execution_count": 5,
   "id": "946f8a90-a998-4a1e-8b22-5d078f08c8ef",
   "metadata": {},
   "outputs": [
    {
     "data": {
      "text/plain": [
       "{'name': 'Bibtya'}"
      ]
     },
     "execution_count": 5,
     "metadata": {},
     "output_type": "execute_result"
    }
   ],
   "source": [
    "d2"
   ]
  },
  {
   "cell_type": "code",
   "execution_count": 7,
   "id": "42b611ee-633c-4549-baa6-3399b4300367",
   "metadata": {},
   "outputs": [],
   "source": [
    "d3 = {123:'Scoob'}"
   ]
  },
  {
   "cell_type": "code",
   "execution_count": 8,
   "id": "d8badccd-bc48-4f7f-8e8d-aa8d6efcedef",
   "metadata": {},
   "outputs": [
    {
     "data": {
      "text/plain": [
       "{123: 'Scoob'}"
      ]
     },
     "execution_count": 8,
     "metadata": {},
     "output_type": "execute_result"
    }
   ],
   "source": [
    "d3"
   ]
  },
  {
   "cell_type": "code",
   "execution_count": 10,
   "id": "e690c4a0-ef68-488a-9912-433b1e99e1ad",
   "metadata": {},
   "outputs": [
    {
     "data": {
      "text/plain": [
       "{12.5: 'float'}"
      ]
     },
     "execution_count": 10,
     "metadata": {},
     "output_type": "execute_result"
    }
   ],
   "source": [
    "d3 = {12.5:'float'}\n",
    "d3"
   ]
  },
  {
   "cell_type": "code",
   "execution_count": 11,
   "id": "63d57d3d-53a9-4f87-bf6c-fd002b2544a7",
   "metadata": {},
   "outputs": [
    {
     "data": {
      "text/plain": [
       "{True: 'Example'}"
      ]
     },
     "execution_count": 11,
     "metadata": {},
     "output_type": "execute_result"
    }
   ],
   "source": [
    "d3 = {True:'Example'}\n",
    "d3"
   ]
  },
  {
   "cell_type": "code",
   "execution_count": 13,
   "id": "6e329f33-df74-430b-8bc1-8bd4a4fbcdc2",
   "metadata": {},
   "outputs": [
    {
     "ename": "SyntaxError",
     "evalue": "incomplete input (1424685555.py, line 1)",
     "output_type": "error",
     "traceback": [
      "\u001b[0;36m  Cell \u001b[0;32mIn[13], line 1\u001b[0;36m\u001b[0m\n\u001b[0;31m    d3 = {#:'Symbol'}\u001b[0m\n\u001b[0m                     ^\u001b[0m\n\u001b[0;31mSyntaxError\u001b[0m\u001b[0;31m:\u001b[0m incomplete input\n"
     ]
    }
   ],
   "source": [
    "d3 = {#:'Symbol'}"
   ]
  },
  {
   "cell_type": "code",
   "execution_count": 14,
   "id": "c7fdc813-3671-4e2a-8641-6b039a158cc6",
   "metadata": {},
   "outputs": [
    {
     "ename": "TypeError",
     "evalue": "unhashable type: 'list'",
     "output_type": "error",
     "traceback": [
      "\u001b[0;31m---------------------------------------------------------------------------\u001b[0m",
      "\u001b[0;31mTypeError\u001b[0m                                 Traceback (most recent call last)",
      "Cell \u001b[0;32mIn[14], line 1\u001b[0m\n\u001b[0;32m----> 1\u001b[0m d3 \u001b[38;5;241m=\u001b[39m {[\u001b[38;5;241m1\u001b[39m,\u001b[38;5;241m2\u001b[39m,\u001b[38;5;241m3\u001b[39m]:\u001b[38;5;124m'\u001b[39m\u001b[38;5;124ma\u001b[39m\u001b[38;5;124m'\u001b[39m}\n\u001b[1;32m      2\u001b[0m d3\n",
      "\u001b[0;31mTypeError\u001b[0m: unhashable type: 'list'"
     ]
    }
   ],
   "source": [
    "d3 = {[1,2,3]:'a'}\n",
    "d3"
   ]
  },
  {
   "cell_type": "code",
   "execution_count": 15,
   "id": "ce141cdc-49a9-4db6-846d-8b042234b686",
   "metadata": {},
   "outputs": [
    {
     "data": {
      "text/plain": [
       "{(1, 2, 3): 'b'}"
      ]
     },
     "execution_count": 15,
     "metadata": {},
     "output_type": "execute_result"
    }
   ],
   "source": [
    "d3 = {(1,2,3):'b'}\n",
    "d3"
   ]
  },
  {
   "cell_type": "code",
   "execution_count": 16,
   "id": "eb21492d-0315-40e7-9d3e-26a8c7bbbf8d",
   "metadata": {},
   "outputs": [
    {
     "ename": "TypeError",
     "evalue": "unhashable type: 'set'",
     "output_type": "error",
     "traceback": [
      "\u001b[0;31m---------------------------------------------------------------------------\u001b[0m",
      "\u001b[0;31mTypeError\u001b[0m                                 Traceback (most recent call last)",
      "Cell \u001b[0;32mIn[16], line 1\u001b[0m\n\u001b[0;32m----> 1\u001b[0m d4 \u001b[38;5;241m=\u001b[39m {{\u001b[38;5;241m1\u001b[39m,\u001b[38;5;241m2\u001b[39m,\u001b[38;5;241m3\u001b[39m}:\u001b[38;5;124m'\u001b[39m\u001b[38;5;124mc\u001b[39m\u001b[38;5;124m'\u001b[39m}\n",
      "\u001b[0;31mTypeError\u001b[0m: unhashable type: 'set'"
     ]
    }
   ],
   "source": [
    "d4 = {{1,2,3}:'c'}"
   ]
  },
  {
   "cell_type": "code",
   "execution_count": 17,
   "id": "10fc0c3e-7bae-40fa-8adf-f4de4e26e79a",
   "metadata": {},
   "outputs": [
    {
     "ename": "TypeError",
     "evalue": "unhashable type: 'dict'",
     "output_type": "error",
     "traceback": [
      "\u001b[0;31m---------------------------------------------------------------------------\u001b[0m",
      "\u001b[0;31mTypeError\u001b[0m                                 Traceback (most recent call last)",
      "Cell \u001b[0;32mIn[17], line 1\u001b[0m\n\u001b[0;32m----> 1\u001b[0m d5 \u001b[38;5;241m=\u001b[39m {{\u001b[38;5;124m'\u001b[39m\u001b[38;5;124mkey\u001b[39m\u001b[38;5;124m'\u001b[39m:\u001b[38;5;241m123\u001b[39m}:\u001b[38;5;124m'\u001b[39m\u001b[38;5;124mabc\u001b[39m\u001b[38;5;124m'\u001b[39m}\n",
      "\u001b[0;31mTypeError\u001b[0m: unhashable type: 'dict'"
     ]
    }
   ],
   "source": [
    "d5 = {{'key':123}:'abc'}"
   ]
  },
  {
   "cell_type": "code",
   "execution_count": 18,
   "id": "0d6229f1-b013-4a9b-9762-f3ea7522bf7c",
   "metadata": {},
   "outputs": [],
   "source": [
    "d6 = {'course name':['Data Science','Web Dev','Java with DSA and system design']}"
   ]
  },
  {
   "cell_type": "code",
   "execution_count": 19,
   "id": "32452014-6242-46de-aab2-af95548f3049",
   "metadata": {},
   "outputs": [
    {
     "data": {
      "text/plain": [
       "{'course name': ['Data Science', 'Web Dev', 'Java with DSA and system design']}"
      ]
     },
     "execution_count": 19,
     "metadata": {},
     "output_type": "execute_result"
    }
   ],
   "source": [
    "d6"
   ]
  },
  {
   "cell_type": "code",
   "execution_count": 20,
   "id": "6419045b-441a-4b02-ab02-26522c070c0c",
   "metadata": {},
   "outputs": [],
   "source": [
    "d7 = {'key':(1,2,3,4,5)}"
   ]
  },
  {
   "cell_type": "code",
   "execution_count": 21,
   "id": "5e16d11b-24b8-49ea-9b1d-1f28d6f89369",
   "metadata": {},
   "outputs": [
    {
     "data": {
      "text/plain": [
       "{'key': (1, 2, 3, 4, 5)}"
      ]
     },
     "execution_count": 21,
     "metadata": {},
     "output_type": "execute_result"
    }
   ],
   "source": [
    "d7"
   ]
  },
  {
   "cell_type": "code",
   "execution_count": 22,
   "id": "804e3882-2b1b-4013-9209-af2ec35a2392",
   "metadata": {},
   "outputs": [
    {
     "data": {
      "text/plain": [
       "{'key': {1, 2, 3}}"
      ]
     },
     "execution_count": 22,
     "metadata": {},
     "output_type": "execute_result"
    }
   ],
   "source": [
    "d8 = {'key':{1,2,3}}\n",
    "d8"
   ]
  },
  {
   "cell_type": "code",
   "execution_count": 23,
   "id": "f354dce6-01cb-4588-b7a7-90281969a684",
   "metadata": {},
   "outputs": [
    {
     "data": {
      "text/plain": [
       "{'key': {'example': 1, 'sign': -1}}"
      ]
     },
     "execution_count": 23,
     "metadata": {},
     "output_type": "execute_result"
    }
   ],
   "source": [
    "d9 = {'key':{'example':1,'sign':-1}}\n",
    "d9"
   ]
  },
  {
   "cell_type": "code",
   "execution_count": 26,
   "id": "ea7564fa-ea3f-42fc-b874-f50fa53d8d48",
   "metadata": {},
   "outputs": [],
   "source": [
    "d10 = {'course name':['Data Science','Web Dev','JDS'],'name':('Utkarsh','Sourabh','Bala'),'mentor':{'Krish','Sudhanshu','Jennifer'}}"
   ]
  },
  {
   "cell_type": "code",
   "execution_count": 27,
   "id": "cad63f17-3e36-4ffc-9cc8-a337291f4a68",
   "metadata": {},
   "outputs": [
    {
     "data": {
      "text/plain": [
       "{'course name': ['Data Science', 'Web Dev', 'JDS'],\n",
       " 'name': ('Utkarsh', 'Sourabh', 'Bala'),\n",
       " 'mentor': {'Jennifer', 'Krish', 'Sudhanshu'}}"
      ]
     },
     "execution_count": 27,
     "metadata": {},
     "output_type": "execute_result"
    }
   ],
   "source": [
    "d10"
   ]
  },
  {
   "cell_type": "code",
   "execution_count": 30,
   "id": "3b3c4a0f-26eb-417c-8db6-e26f773129e0",
   "metadata": {},
   "outputs": [],
   "source": [
    "d10['Timing']=(8,8,8)"
   ]
  },
  {
   "cell_type": "code",
   "execution_count": 31,
   "id": "17297962-c1a9-4cf2-9b8d-f329fa0ee4c4",
   "metadata": {},
   "outputs": [
    {
     "data": {
      "text/plain": [
       "{'course name': ['Data Science', 'Web Dev', 'JDS'],\n",
       " 'name': ('Utkarsh', 'Sourabh', 'Bala'),\n",
       " 'mentor': {'Jennifer', 'Krish', 'Sudhanshu'},\n",
       " 'Timing': (8, 8, 8)}"
      ]
     },
     "execution_count": 31,
     "metadata": {},
     "output_type": "execute_result"
    }
   ],
   "source": [
    "d10"
   ]
  },
  {
   "cell_type": "code",
   "execution_count": 32,
   "id": "8bcc21c0-c3b1-4360-b3dd-221a83f7a0cc",
   "metadata": {},
   "outputs": [
    {
     "data": {
      "text/plain": [
       "['Data Science', 'Web Dev', 'JDS']"
      ]
     },
     "execution_count": 32,
     "metadata": {},
     "output_type": "execute_result"
    }
   ],
   "source": [
    "d10['course name']"
   ]
  },
  {
   "cell_type": "code",
   "execution_count": 33,
   "id": "f6b97d90-53e9-4ecf-b014-90ca671c0e5f",
   "metadata": {},
   "outputs": [
    {
     "data": {
      "text/plain": [
       "{'Jennifer', 'Krish', 'Sudhanshu'}"
      ]
     },
     "execution_count": 33,
     "metadata": {},
     "output_type": "execute_result"
    }
   ],
   "source": [
    "d10['mentor']"
   ]
  },
  {
   "cell_type": "code",
   "execution_count": 34,
   "id": "272a425c-c83d-4d2d-a09c-6414df57281c",
   "metadata": {},
   "outputs": [
    {
     "ename": "KeyError",
     "evalue": "'key'",
     "output_type": "error",
     "traceback": [
      "\u001b[0;31m---------------------------------------------------------------------------\u001b[0m",
      "\u001b[0;31mKeyError\u001b[0m                                  Traceback (most recent call last)",
      "Cell \u001b[0;32mIn[34], line 1\u001b[0m\n\u001b[0;32m----> 1\u001b[0m \u001b[43md10\u001b[49m\u001b[43m[\u001b[49m\u001b[38;5;124;43m'\u001b[39;49m\u001b[38;5;124;43mkey\u001b[39;49m\u001b[38;5;124;43m'\u001b[39;49m\u001b[43m]\u001b[49m\n",
      "\u001b[0;31mKeyError\u001b[0m: 'key'"
     ]
    }
   ],
   "source": [
    "d10['key']"
   ]
  },
  {
   "cell_type": "code",
   "execution_count": 35,
   "id": "2b5ebc57-30ba-467f-ba26-85c7c4ca05d7",
   "metadata": {},
   "outputs": [],
   "source": [
    "d10['surname']='Gaikwad'"
   ]
  },
  {
   "cell_type": "code",
   "execution_count": 36,
   "id": "8630e3db-810c-40ff-8afc-eb2aa0e3d0b1",
   "metadata": {},
   "outputs": [
    {
     "data": {
      "text/plain": [
       "{'course name': ['Data Science', 'Web Dev', 'JDS'],\n",
       " 'name': ('Utkarsh', 'Sourabh', 'Bala'),\n",
       " 'mentor': {'Jennifer', 'Krish', 'Sudhanshu'},\n",
       " 'Timing': (8, 8, 8),\n",
       " 'surname': 'Gaikwad'}"
      ]
     },
     "execution_count": 36,
     "metadata": {},
     "output_type": "execute_result"
    }
   ],
   "source": [
    "d10"
   ]
  },
  {
   "cell_type": "code",
   "execution_count": 37,
   "id": "2bbafd65-4b20-418e-91a2-bb2cf7fd3fe9",
   "metadata": {},
   "outputs": [
    {
     "data": {
      "text/plain": [
       "'Gaikwad'"
      ]
     },
     "execution_count": 37,
     "metadata": {},
     "output_type": "execute_result"
    }
   ],
   "source": [
    "d10['surname']"
   ]
  },
  {
   "cell_type": "code",
   "execution_count": 38,
   "id": "60438743-127a-4e96-a1bc-6f7292ea103a",
   "metadata": {},
   "outputs": [
    {
     "data": {
      "text/plain": [
       "'GAIKWAD'"
      ]
     },
     "execution_count": 38,
     "metadata": {},
     "output_type": "execute_result"
    }
   ],
   "source": [
    "d10['surname'].upper()"
   ]
  },
  {
   "cell_type": "code",
   "execution_count": 39,
   "id": "db1e9f94-2ef8-4717-83cf-4e09667e24c6",
   "metadata": {},
   "outputs": [
    {
     "data": {
      "text/plain": [
       "{'key': {'example': 1, 'sign': -1}}"
      ]
     },
     "execution_count": 39,
     "metadata": {},
     "output_type": "execute_result"
    }
   ],
   "source": [
    "d9"
   ]
  },
  {
   "cell_type": "code",
   "execution_count": 40,
   "id": "60010159-3cd2-4062-826a-4d6c24a9cc47",
   "metadata": {},
   "outputs": [
    {
     "data": {
      "text/plain": [
       "-1"
      ]
     },
     "execution_count": 40,
     "metadata": {},
     "output_type": "execute_result"
    }
   ],
   "source": [
    "d9['key']['sign']"
   ]
  },
  {
   "cell_type": "code",
   "execution_count": 41,
   "id": "b7b97029-8d32-4692-87e3-5bb4df3f30b6",
   "metadata": {},
   "outputs": [],
   "source": [
    "d9['key1']='abc'"
   ]
  },
  {
   "cell_type": "code",
   "execution_count": 42,
   "id": "a887eaf6-e61e-4fd7-8c4e-b215de337f38",
   "metadata": {},
   "outputs": [
    {
     "data": {
      "text/plain": [
       "{'key': {'example': 1, 'sign': -1}, 'key1': 'abc'}"
      ]
     },
     "execution_count": 42,
     "metadata": {},
     "output_type": "execute_result"
    }
   ],
   "source": [
    "d9"
   ]
  },
  {
   "cell_type": "code",
   "execution_count": 43,
   "id": "f2f2f176-56b7-4c5b-9da3-3ad6d8da03af",
   "metadata": {},
   "outputs": [],
   "source": [
    "del d9['key1']"
   ]
  },
  {
   "cell_type": "code",
   "execution_count": 44,
   "id": "2f5dec5f-9d96-4d95-ab39-cb44b03dd848",
   "metadata": {},
   "outputs": [
    {
     "data": {
      "text/plain": [
       "{'key': {'example': 1, 'sign': -1}}"
      ]
     },
     "execution_count": 44,
     "metadata": {},
     "output_type": "execute_result"
    }
   ],
   "source": [
    "d9"
   ]
  },
  {
   "cell_type": "code",
   "execution_count": 45,
   "id": "bf671b53-1cdb-4d4c-b3c6-265e3ebc25ac",
   "metadata": {},
   "outputs": [],
   "source": [
    "d9.clear()"
   ]
  },
  {
   "cell_type": "code",
   "execution_count": 46,
   "id": "4838cf39-e08a-4385-8721-6d062f52b9fd",
   "metadata": {},
   "outputs": [
    {
     "data": {
      "text/plain": [
       "{}"
      ]
     },
     "execution_count": 46,
     "metadata": {},
     "output_type": "execute_result"
    }
   ],
   "source": [
    "d9"
   ]
  },
  {
   "cell_type": "code",
   "execution_count": 47,
   "id": "01961672-c355-4ae3-885f-f3ee9a881078",
   "metadata": {},
   "outputs": [
    {
     "data": {
      "text/plain": [
       "5"
      ]
     },
     "execution_count": 47,
     "metadata": {},
     "output_type": "execute_result"
    }
   ],
   "source": [
    "len(d10)"
   ]
  },
  {
   "cell_type": "code",
   "execution_count": 48,
   "id": "769e440c-b144-496b-be6b-ec5efb7f0f48",
   "metadata": {},
   "outputs": [
    {
     "data": {
      "text/plain": [
       "{'course name': ['Data Science', 'Web Dev', 'JDS'],\n",
       " 'name': ('Utkarsh', 'Sourabh', 'Bala'),\n",
       " 'mentor': {'Jennifer', 'Krish', 'Sudhanshu'},\n",
       " 'Timing': (8, 8, 8),\n",
       " 'surname': 'Gaikwad'}"
      ]
     },
     "execution_count": 48,
     "metadata": {},
     "output_type": "execute_result"
    }
   ],
   "source": [
    "d10"
   ]
  },
  {
   "cell_type": "code",
   "execution_count": 49,
   "id": "63e38dff-2d83-4037-9758-96bba77670d5",
   "metadata": {},
   "outputs": [
    {
     "data": {
      "text/plain": [
       "dict_keys(['course name', 'name', 'mentor', 'Timing', 'surname'])"
      ]
     },
     "execution_count": 49,
     "metadata": {},
     "output_type": "execute_result"
    }
   ],
   "source": [
    "d10.keys()"
   ]
  },
  {
   "cell_type": "code",
   "execution_count": 50,
   "id": "89b19f5f-ebda-4f35-bc14-7337e6622387",
   "metadata": {},
   "outputs": [
    {
     "data": {
      "text/plain": [
       "dict_values([['Data Science', 'Web Dev', 'JDS'], ('Utkarsh', 'Sourabh', 'Bala'), {'Jennifer', 'Sudhanshu', 'Krish'}, (8, 8, 8), 'Gaikwad'])"
      ]
     },
     "execution_count": 50,
     "metadata": {},
     "output_type": "execute_result"
    }
   ],
   "source": [
    "d10.values()"
   ]
  },
  {
   "cell_type": "code",
   "execution_count": 51,
   "id": "77d2ea55-bb4b-45f8-a2ae-31c073092a9b",
   "metadata": {},
   "outputs": [
    {
     "data": {
      "text/plain": [
       "['course name', 'name', 'mentor', 'Timing', 'surname']"
      ]
     },
     "execution_count": 51,
     "metadata": {},
     "output_type": "execute_result"
    }
   ],
   "source": [
    "list(d10.keys())"
   ]
  },
  {
   "cell_type": "code",
   "execution_count": 53,
   "id": "99d0a8ba-0d2d-4dfc-8e16-c925c71b551d",
   "metadata": {},
   "outputs": [
    {
     "data": {
      "text/plain": [
       "[['Data Science', 'Web Dev', 'JDS'],\n",
       " ('Utkarsh', 'Sourabh', 'Bala'),\n",
       " {'Jennifer', 'Krish', 'Sudhanshu'},\n",
       " (8, 8, 8),\n",
       " 'Gaikwad']"
      ]
     },
     "execution_count": 53,
     "metadata": {},
     "output_type": "execute_result"
    }
   ],
   "source": [
    "list(d10.values())"
   ]
  },
  {
   "cell_type": "code",
   "execution_count": 54,
   "id": "0c0fc724-1d07-4e2f-a85e-3a428f846fea",
   "metadata": {},
   "outputs": [
    {
     "data": {
      "text/plain": [
       "dict_items([('course name', ['Data Science', 'Web Dev', 'JDS']), ('name', ('Utkarsh', 'Sourabh', 'Bala')), ('mentor', {'Jennifer', 'Sudhanshu', 'Krish'}), ('Timing', (8, 8, 8)), ('surname', 'Gaikwad')])"
      ]
     },
     "execution_count": 54,
     "metadata": {},
     "output_type": "execute_result"
    }
   ],
   "source": [
    "d10.items()"
   ]
  },
  {
   "cell_type": "code",
   "execution_count": 55,
   "id": "00547fab-316d-4a47-8de6-4877895319b2",
   "metadata": {},
   "outputs": [
    {
     "data": {
      "text/plain": [
       "[('course name', ['Data Science', 'Web Dev', 'JDS']),\n",
       " ('name', ('Utkarsh', 'Sourabh', 'Bala')),\n",
       " ('mentor', {'Jennifer', 'Krish', 'Sudhanshu'}),\n",
       " ('Timing', (8, 8, 8)),\n",
       " ('surname', 'Gaikwad')]"
      ]
     },
     "execution_count": 55,
     "metadata": {},
     "output_type": "execute_result"
    }
   ],
   "source": [
    "list(d10.items())"
   ]
  },
  {
   "cell_type": "code",
   "execution_count": 56,
   "id": "86d5b123-786a-4eb0-afd7-38964145e247",
   "metadata": {},
   "outputs": [],
   "source": [
    "d11 = d10.copy()"
   ]
  },
  {
   "cell_type": "code",
   "execution_count": 57,
   "id": "37c6cf10-35ac-41c7-99e3-95d268667ed9",
   "metadata": {},
   "outputs": [
    {
     "data": {
      "text/plain": [
       "{'course name': ['Data Science', 'Web Dev', 'JDS'],\n",
       " 'name': ('Utkarsh', 'Sourabh', 'Bala'),\n",
       " 'mentor': {'Jennifer', 'Krish', 'Sudhanshu'},\n",
       " 'Timing': (8, 8, 8),\n",
       " 'surname': 'Gaikwad'}"
      ]
     },
     "execution_count": 57,
     "metadata": {},
     "output_type": "execute_result"
    }
   ],
   "source": [
    "d11"
   ]
  },
  {
   "cell_type": "code",
   "execution_count": 59,
   "id": "d3a1597f-7ce1-4722-84c3-dde6edda0c96",
   "metadata": {},
   "outputs": [
    {
     "data": {
      "text/plain": [
       "['course name', 'name', 'mentor', 'Timing', 'surname']"
      ]
     },
     "execution_count": 59,
     "metadata": {},
     "output_type": "execute_result"
    }
   ],
   "source": [
    "[i for i in d11]"
   ]
  },
  {
   "cell_type": "code",
   "execution_count": 60,
   "id": "09da417a-53f1-4180-9ff8-34809f10ce30",
   "metadata": {},
   "outputs": [],
   "source": [
    "del d10['surname']"
   ]
  },
  {
   "cell_type": "code",
   "execution_count": 61,
   "id": "cf037e3d-ffcb-4ba3-94a4-fb1df6164896",
   "metadata": {},
   "outputs": [
    {
     "data": {
      "text/plain": [
       "{'course name': ['Data Science', 'Web Dev', 'JDS'],\n",
       " 'name': ('Utkarsh', 'Sourabh', 'Bala'),\n",
       " 'mentor': {'Jennifer', 'Krish', 'Sudhanshu'},\n",
       " 'Timing': (8, 8, 8)}"
      ]
     },
     "execution_count": 61,
     "metadata": {},
     "output_type": "execute_result"
    }
   ],
   "source": [
    "d10"
   ]
  },
  {
   "cell_type": "code",
   "execution_count": 62,
   "id": "49b42e2a-75ac-47f7-872b-448ca05f7422",
   "metadata": {},
   "outputs": [
    {
     "data": {
      "text/plain": [
       "{'course name': ['Data Science', 'Web Dev', 'JDS'],\n",
       " 'name': ('Utkarsh', 'Sourabh', 'Bala'),\n",
       " 'mentor': {'Jennifer', 'Krish', 'Sudhanshu'},\n",
       " 'Timing': (8, 8, 8),\n",
       " 'surname': 'Gaikwad'}"
      ]
     },
     "execution_count": 62,
     "metadata": {},
     "output_type": "execute_result"
    }
   ],
   "source": [
    "d11"
   ]
  },
  {
   "cell_type": "code",
   "execution_count": 63,
   "id": "3dda4f52-0ca7-4c79-8d78-74abda247b32",
   "metadata": {},
   "outputs": [
    {
     "data": {
      "text/plain": [
       "(8, 8, 8)"
      ]
     },
     "execution_count": 63,
     "metadata": {},
     "output_type": "execute_result"
    }
   ],
   "source": [
    "d10.pop('Timing')"
   ]
  },
  {
   "cell_type": "code",
   "execution_count": 64,
   "id": "d4c505ae-52f7-473b-ba2f-187dc9f1b9c8",
   "metadata": {},
   "outputs": [
    {
     "data": {
      "text/plain": [
       "{'course name': ['Data Science', 'Web Dev', 'JDS'],\n",
       " 'name': ('Utkarsh', 'Sourabh', 'Bala'),\n",
       " 'mentor': {'Jennifer', 'Krish', 'Sudhanshu'}}"
      ]
     },
     "execution_count": 64,
     "metadata": {},
     "output_type": "execute_result"
    }
   ],
   "source": [
    "d10"
   ]
  },
  {
   "cell_type": "code",
   "execution_count": 65,
   "id": "f2541e89-e12f-4e3e-b7e6-48695ee0a5f6",
   "metadata": {},
   "outputs": [
    {
     "data": {
      "text/plain": [
       "{'Jennifer', 'Krish', 'Sudhanshu'}"
      ]
     },
     "execution_count": 65,
     "metadata": {},
     "output_type": "execute_result"
    }
   ],
   "source": [
    "d10.pop('mentor')"
   ]
  },
  {
   "cell_type": "code",
   "execution_count": 66,
   "id": "6107f3bb-9e56-4727-9ed8-8d9443d1cd3e",
   "metadata": {},
   "outputs": [
    {
     "data": {
      "text/plain": [
       "{'course name': ['Data Science', 'Web Dev', 'JDS'],\n",
       " 'name': ('Utkarsh', 'Sourabh', 'Bala')}"
      ]
     },
     "execution_count": 66,
     "metadata": {},
     "output_type": "execute_result"
    }
   ],
   "source": [
    "d10"
   ]
  },
  {
   "cell_type": "code",
   "execution_count": 2,
   "id": "2aa0b5b1-4b35-4c38-ad53-4c9a5e69d469",
   "metadata": {},
   "outputs": [
    {
     "data": {
      "text/plain": [
       "{1: ('a', 'b', 'c'), 2: ('a', 'b', 'c'), 3: ('a', 'b', 'c')}"
      ]
     },
     "execution_count": 2,
     "metadata": {},
     "output_type": "execute_result"
    }
   ],
   "source": [
    "d = {}\n",
    "d.fromkeys((1,2,3),('a','b','c'))"
   ]
  },
  {
   "cell_type": "code",
   "execution_count": 3,
   "id": "5e2e0bfd-2eed-4581-b7f5-87330e67ee69",
   "metadata": {},
   "outputs": [],
   "source": [
    "d12 = {'key1':'value1','key2':'value2'}\n",
    "d13 = {'key3':'value3','key4':'value4'}"
   ]
  },
  {
   "cell_type": "code",
   "execution_count": 4,
   "id": "3ecb95ec-3c29-405e-917a-ac10cb128edc",
   "metadata": {},
   "outputs": [
    {
     "data": {
      "text/plain": [
       "({'key1': 'value1', 'key2': 'value2'}, {'key3': 'value3', 'key4': 'value4'})"
      ]
     },
     "execution_count": 4,
     "metadata": {},
     "output_type": "execute_result"
    }
   ],
   "source": [
    "(d12,d13)"
   ]
  },
  {
   "cell_type": "code",
   "execution_count": 6,
   "id": "b012d3f6-d62c-4879-b26e-2793df0abf65",
   "metadata": {},
   "outputs": [],
   "source": [
    "d12.update(d13)"
   ]
  },
  {
   "cell_type": "code",
   "execution_count": 7,
   "id": "d130edfb-c7f4-4cfc-b75f-95e8488c4ca8",
   "metadata": {},
   "outputs": [
    {
     "data": {
      "text/plain": [
       "{'key1': 'value1', 'key2': 'value2', 'key3': 'value3', 'key4': 'value4'}"
      ]
     },
     "execution_count": 7,
     "metadata": {},
     "output_type": "execute_result"
    }
   ],
   "source": [
    "d12"
   ]
  },
  {
   "cell_type": "code",
   "execution_count": 8,
   "id": "f94445fa-fae1-46ff-915b-1e59a31f24f6",
   "metadata": {},
   "outputs": [
    {
     "data": {
      "text/plain": [
       "{'key3': 'value3', 'key4': 'value4'}"
      ]
     },
     "execution_count": 8,
     "metadata": {},
     "output_type": "execute_result"
    }
   ],
   "source": [
    "d13"
   ]
  },
  {
   "cell_type": "code",
   "execution_count": 9,
   "id": "e875f0e0-8894-45f0-80b5-021d043f6173",
   "metadata": {},
   "outputs": [],
   "source": [
    "d13.update(d12)"
   ]
  },
  {
   "cell_type": "code",
   "execution_count": 10,
   "id": "3039d530-1314-454d-a8dd-aea045bdd550",
   "metadata": {},
   "outputs": [
    {
     "data": {
      "text/plain": [
       "{'key3': 'value3', 'key4': 'value4', 'key1': 'value1', 'key2': 'value2'}"
      ]
     },
     "execution_count": 10,
     "metadata": {},
     "output_type": "execute_result"
    }
   ],
   "source": [
    "d13"
   ]
  },
  {
   "cell_type": "code",
   "execution_count": 11,
   "id": "d4a669eb-9296-4d06-a3ec-bda70c52a0d0",
   "metadata": {},
   "outputs": [],
   "source": [
    "d13.get('utk')"
   ]
  },
  {
   "cell_type": "code",
   "execution_count": 12,
   "id": "66578b87-f9ba-499e-b312-03a718301128",
   "metadata": {},
   "outputs": [
    {
     "data": {
      "text/plain": [
       "'value1'"
      ]
     },
     "execution_count": 12,
     "metadata": {},
     "output_type": "execute_result"
    }
   ],
   "source": [
    "d13.get('key1')"
   ]
  },
  {
   "cell_type": "code",
   "execution_count": 13,
   "id": "f23b84e5-fcd9-41cb-8019-5a6f129165b2",
   "metadata": {},
   "outputs": [
    {
     "data": {
      "text/plain": [
       "'value1'"
      ]
     },
     "execution_count": 13,
     "metadata": {},
     "output_type": "execute_result"
    }
   ],
   "source": [
    "d13['key1']"
   ]
  },
  {
   "cell_type": "code",
   "execution_count": 14,
   "id": "dc8a8e86-660c-4174-b873-d4c29d90e988",
   "metadata": {},
   "outputs": [
    {
     "ename": "KeyError",
     "evalue": "'utk'",
     "output_type": "error",
     "traceback": [
      "\u001b[0;31m---------------------------------------------------------------------------\u001b[0m",
      "\u001b[0;31mKeyError\u001b[0m                                  Traceback (most recent call last)",
      "Cell \u001b[0;32mIn[14], line 1\u001b[0m\n\u001b[0;32m----> 1\u001b[0m \u001b[43md13\u001b[49m\u001b[43m[\u001b[49m\u001b[38;5;124;43m'\u001b[39;49m\u001b[38;5;124;43mutk\u001b[39;49m\u001b[38;5;124;43m'\u001b[39;49m\u001b[43m]\u001b[49m\n",
      "\u001b[0;31mKeyError\u001b[0m: 'utk'"
     ]
    }
   ],
   "source": [
    "d13['utk']"
   ]
  },
  {
   "cell_type": "code",
   "execution_count": 16,
   "id": "3e5e4afb-b73c-4131-999b-1f53eac9162f",
   "metadata": {},
   "outputs": [
    {
     "data": {
      "text/plain": [
       "{1: 1, 2: 4, 3: 9, 4: 16, 5: 25, 6: 36, 7: 49, 8: 64, 9: 81, 10: 100}"
      ]
     },
     "execution_count": 16,
     "metadata": {},
     "output_type": "execute_result"
    }
   ],
   "source": [
    "{i:i**2 for i in range(1,11)}"
   ]
  },
  {
   "cell_type": "code",
   "execution_count": 17,
   "id": "eae1600a-659e-435d-89d4-7de6e1fb5697",
   "metadata": {},
   "outputs": [
    {
     "data": {
      "text/plain": [
       "{1: 5, 2: 7, 3: 9, 4: 11, 5: 13, 6: 15, 7: 17, 8: 19, 9: 21, 10: 23}"
      ]
     },
     "execution_count": 17,
     "metadata": {},
     "output_type": "execute_result"
    }
   ],
   "source": [
    "{i:2*i+3 for i in range(1,11)}"
   ]
  },
  {
   "cell_type": "code",
   "execution_count": 23,
   "id": "5afcf9b4-3feb-4f5c-90e5-d6af09cf4b86",
   "metadata": {},
   "outputs": [],
   "source": [
    "from math import log10\n",
    "d14 = {i: log10(i) for i in range(1,11)}"
   ]
  },
  {
   "cell_type": "code",
   "execution_count": 21,
   "id": "2b96bee6-0796-427d-89a8-5129ed39f87e",
   "metadata": {},
   "outputs": [
    {
     "data": {
      "text/plain": [
       "{'key3': 'value3', 'key4': 'value4', 'key1': 'value1', 'key2': 'value2'}"
      ]
     },
     "execution_count": 21,
     "metadata": {},
     "output_type": "execute_result"
    }
   ],
   "source": [
    "d13"
   ]
  },
  {
   "cell_type": "code",
   "execution_count": 22,
   "id": "339e382f-d905-45f1-a677-0a62fce80638",
   "metadata": {},
   "outputs": [
    {
     "data": {
      "text/plain": [
       "True"
      ]
     },
     "execution_count": 22,
     "metadata": {},
     "output_type": "execute_result"
    }
   ],
   "source": [
    "'key3' in d13"
   ]
  },
  {
   "cell_type": "code",
   "execution_count": 24,
   "id": "8cccabea-f6c7-4699-af19-9a55a8a629a4",
   "metadata": {},
   "outputs": [
    {
     "data": {
      "text/plain": [
       "{1: 0.0,\n",
       " 2: 0.3010299956639812,\n",
       " 3: 0.47712125471966244,\n",
       " 4: 0.6020599913279624,\n",
       " 5: 0.6989700043360189,\n",
       " 6: 0.7781512503836436,\n",
       " 7: 0.8450980400142568,\n",
       " 8: 0.9030899869919435,\n",
       " 9: 0.9542425094393249,\n",
       " 10: 1.0}"
      ]
     },
     "execution_count": 24,
     "metadata": {},
     "output_type": "execute_result"
    }
   ],
   "source": [
    "d14"
   ]
  },
  {
   "cell_type": "code",
   "execution_count": 29,
   "id": "19be0a83-42e2-4bd3-ad03-8ebac6693768",
   "metadata": {},
   "outputs": [
    {
     "name": "stdout",
     "output_type": "stream",
     "text": [
      "2 : 0.3010299956639812\n",
      "4 : 0.6020599913279624\n",
      "6 : 0.7781512503836436\n",
      "8 : 0.9030899869919435\n",
      "10 : 1.0\n"
     ]
    }
   ],
   "source": [
    "for i in d14.keys():\n",
    "    if i%2==0:\n",
    "        print(i,':',d14[i])"
   ]
  }
 ],
 "metadata": {
  "kernelspec": {
   "display_name": "Python 3 (ipykernel)",
   "language": "python",
   "name": "python3"
  },
  "language_info": {
   "codemirror_mode": {
    "name": "ipython",
    "version": 3
   },
   "file_extension": ".py",
   "mimetype": "text/x-python",
   "name": "python",
   "nbconvert_exporter": "python",
   "pygments_lexer": "ipython3",
   "version": "3.10.8"
  }
 },
 "nbformat": 4,
 "nbformat_minor": 5
}
