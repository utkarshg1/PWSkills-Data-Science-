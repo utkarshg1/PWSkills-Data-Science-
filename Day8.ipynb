{
 "cells": [
  {
   "cell_type": "markdown",
   "id": "c9b0f858-af61-4062-b6aa-2f47f7b6b541",
   "metadata": {},
   "source": [
    "# Day 8 - OOPS - Utkarsh Gaikwad"
   ]
  },
  {
   "cell_type": "markdown",
   "id": "b03f15e8-e519-42c6-bb41-01e0b60c4da1",
   "metadata": {},
   "source": [
    "# OOPS - Object Oriented Programming System"
   ]
  },
  {
   "cell_type": "code",
   "execution_count": 1,
   "id": "73070015-8994-415f-9691-e4786a50394e",
   "metadata": {},
   "outputs": [
    {
     "name": "stdout",
     "output_type": "stream",
     "text": [
      "<class 'int'>\n"
     ]
    }
   ],
   "source": [
    "a = 23\n",
    "print(type(a))"
   ]
  },
  {
   "cell_type": "code",
   "execution_count": 2,
   "id": "1889b719-aebf-4721-ab73-e9b7a670166b",
   "metadata": {},
   "outputs": [
    {
     "name": "stdout",
     "output_type": "stream",
     "text": [
      "<class 'str'>\n"
     ]
    }
   ],
   "source": [
    "b = 'pwskills'\n",
    "print(type(b))"
   ]
  },
  {
   "cell_type": "code",
   "execution_count": 3,
   "id": "d24a532d-5dbe-42cc-8b5d-af080fe5f31b",
   "metadata": {},
   "outputs": [
    {
     "ename": "SyntaxError",
     "evalue": "incomplete input (3527747674.py, line 1)",
     "output_type": "error",
     "traceback": [
      "\u001b[0;36m  Cell \u001b[0;32mIn[3], line 1\u001b[0;36m\u001b[0m\n\u001b[0;31m    class test:\u001b[0m\n\u001b[0m               ^\u001b[0m\n\u001b[0;31mSyntaxError\u001b[0m\u001b[0;31m:\u001b[0m incomplete input\n"
     ]
    }
   ],
   "source": [
    "class test:"
   ]
  },
  {
   "cell_type": "code",
   "execution_count": 4,
   "id": "f87e9755-940d-4c19-a6b0-10fd8f7a0438",
   "metadata": {},
   "outputs": [],
   "source": [
    "class test:\n",
    "    pass"
   ]
  },
  {
   "cell_type": "code",
   "execution_count": 10,
   "id": "92e62a81-30ae-4c51-8c88-60a426971832",
   "metadata": {},
   "outputs": [],
   "source": [
    "a = test() #a is object of class test"
   ]
  },
  {
   "cell_type": "code",
   "execution_count": 11,
   "id": "2ba8889e-e52d-4ba0-bf12-651aa09f5bf0",
   "metadata": {},
   "outputs": [
    {
     "name": "stdout",
     "output_type": "stream",
     "text": [
      "<class '__main__.test'>\n"
     ]
    }
   ],
   "source": [
    "print(type(a))"
   ]
  },
  {
   "cell_type": "code",
   "execution_count": 15,
   "id": "3c75c465-819f-488e-8eee-8ba6f9af172e",
   "metadata": {},
   "outputs": [],
   "source": [
    "class pwskills:\n",
    "    \n",
    "    def welcome_msg(self):\n",
    "        print('Welcome to PWSkills Student')"
   ]
  },
  {
   "cell_type": "code",
   "execution_count": 16,
   "id": "6e2f08ad-9c7c-4669-a3a3-5cb67a74c890",
   "metadata": {},
   "outputs": [],
   "source": [
    "utkarsh = pwskills()"
   ]
  },
  {
   "cell_type": "code",
   "execution_count": 17,
   "id": "991419c0-a27c-41f8-9d02-52965fc6361f",
   "metadata": {},
   "outputs": [
    {
     "name": "stdout",
     "output_type": "stream",
     "text": [
      "Welcome to PWSkills Student\n"
     ]
    }
   ],
   "source": [
    "utkarsh.welcome_msg()"
   ]
  },
  {
   "cell_type": "code",
   "execution_count": 18,
   "id": "0d4c19fd-c296-43eb-a2fd-27ea38266d70",
   "metadata": {},
   "outputs": [
    {
     "name": "stdout",
     "output_type": "stream",
     "text": [
      "Welcome to PWSkills Student\n"
     ]
    }
   ],
   "source": [
    "krish = pwskills()\n",
    "krish.welcome_msg()"
   ]
  },
  {
   "cell_type": "code",
   "execution_count": 26,
   "id": "9efbbe16-1a69-48bc-b3a4-958c25c9aefb",
   "metadata": {},
   "outputs": [],
   "source": [
    "class pwskills1:\n",
    "    \n",
    "    def __init__(self, phone_number,email_id,student_id):\n",
    "        self.phone_number =phone_number\n",
    "        self.email_id = email_id\n",
    "        self.student_id = student_id\n",
    "    \n",
    "    def student_details(self):\n",
    "        return self.phone_number, self.email_id, self.student_id"
   ]
  },
  {
   "cell_type": "code",
   "execution_count": 27,
   "id": "08e56a97-9d66-4cd4-9d8d-17498fd7b2f6",
   "metadata": {},
   "outputs": [],
   "source": [
    "utkarsh = pwskills1(12345,'test@test.com',4567)"
   ]
  },
  {
   "cell_type": "code",
   "execution_count": 28,
   "id": "10053830-5567-4bf8-ac2b-8c665e098a44",
   "metadata": {},
   "outputs": [
    {
     "data": {
      "text/plain": [
       "12345"
      ]
     },
     "execution_count": 28,
     "metadata": {},
     "output_type": "execute_result"
    }
   ],
   "source": [
    "utkarsh.phone_number"
   ]
  },
  {
   "cell_type": "code",
   "execution_count": 29,
   "id": "665c72ba-8369-4eb1-b519-2c60faeb65c8",
   "metadata": {},
   "outputs": [
    {
     "data": {
      "text/plain": [
       "'test@test.com'"
      ]
     },
     "execution_count": 29,
     "metadata": {},
     "output_type": "execute_result"
    }
   ],
   "source": [
    "utkarsh.email_id"
   ]
  },
  {
   "cell_type": "code",
   "execution_count": 30,
   "id": "e10fbd4c-5d77-449e-b8a3-b7fee2465836",
   "metadata": {},
   "outputs": [
    {
     "data": {
      "text/plain": [
       "4567"
      ]
     },
     "execution_count": 30,
     "metadata": {},
     "output_type": "execute_result"
    }
   ],
   "source": [
    "utkarsh.student_id"
   ]
  },
  {
   "cell_type": "code",
   "execution_count": 31,
   "id": "6e0f6323-8598-43e5-86e4-d3a487f1dc5f",
   "metadata": {},
   "outputs": [
    {
     "data": {
      "text/plain": [
       "(12345, 'test@test.com', 4567)"
      ]
     },
     "execution_count": 31,
     "metadata": {},
     "output_type": "execute_result"
    }
   ],
   "source": [
    "utkarsh.student_details()"
   ]
  },
  {
   "cell_type": "code",
   "execution_count": 32,
   "id": "0ee636e1-b67c-4a3c-8672-c899eb5eef3b",
   "metadata": {},
   "outputs": [],
   "source": [
    "kevin = pwskills1(1231231,'kevin@test.co.in',102)"
   ]
  },
  {
   "cell_type": "code",
   "execution_count": 33,
   "id": "9145b669-8d58-479e-83e2-15f204dee32f",
   "metadata": {},
   "outputs": [
    {
     "data": {
      "text/plain": [
       "(1231231, 'kevin@test.co.in', 102)"
      ]
     },
     "execution_count": 33,
     "metadata": {},
     "output_type": "execute_result"
    }
   ],
   "source": [
    "kevin.student_details()"
   ]
  },
  {
   "cell_type": "code",
   "execution_count": 34,
   "id": "b3369f32-a10b-4240-8725-51e70e740dd1",
   "metadata": {},
   "outputs": [
    {
     "data": {
      "text/plain": [
       "'kevin@test.co.in'"
      ]
     },
     "execution_count": 34,
     "metadata": {},
     "output_type": "execute_result"
    }
   ],
   "source": [
    "kevin.email_id"
   ]
  },
  {
   "cell_type": "code",
   "execution_count": 35,
   "id": "0fa93243-a3a4-494d-b6c9-04e00b4ebdf8",
   "metadata": {},
   "outputs": [],
   "source": [
    "class pwskills2:\n",
    "    \n",
    "    def __init__(utk, phone_number,email_id,student_id):\n",
    "        utk.phone_number =phone_number\n",
    "        utk.email_id = email_id\n",
    "        utk.student_id = student_id\n",
    "    \n",
    "    def student_details(utk):\n",
    "        return utk.phone_number, utk.email_id, utk.student_id"
   ]
  },
  {
   "cell_type": "code",
   "execution_count": 36,
   "id": "d67f99da-1682-4fa5-8789-5c103a47536c",
   "metadata": {},
   "outputs": [],
   "source": [
    "aditi = pwskills2(123123213,'example@pwskills.com',104)"
   ]
  },
  {
   "cell_type": "code",
   "execution_count": 37,
   "id": "e3e73d82-7de3-4a2b-aff2-87bff37327cd",
   "metadata": {},
   "outputs": [
    {
     "data": {
      "text/plain": [
       "123123213"
      ]
     },
     "execution_count": 37,
     "metadata": {},
     "output_type": "execute_result"
    }
   ],
   "source": [
    "aditi.phone_number"
   ]
  },
  {
   "cell_type": "code",
   "execution_count": 38,
   "id": "a3f57db4-e59f-4dd3-8c73-d949bd8190b4",
   "metadata": {},
   "outputs": [
    {
     "data": {
      "text/plain": [
       "(123123213, 'example@pwskills.com', 104)"
      ]
     },
     "execution_count": 38,
     "metadata": {},
     "output_type": "execute_result"
    }
   ],
   "source": [
    "aditi.student_details()"
   ]
  },
  {
   "cell_type": "code",
   "execution_count": 47,
   "id": "54d64ea0-01f1-438b-b3ad-4fcc779678a9",
   "metadata": {},
   "outputs": [],
   "source": [
    "class pwskills3:\n",
    "    \n",
    "    def __init__(utk, phone_number,email_id,student_id):\n",
    "        utk.phone_number1 =phone_number\n",
    "        utk.email_id = email_id\n",
    "        utk.student_id = student_id\n",
    "    \n",
    "    def student_details(utk):\n",
    "        return utk.phone_number1, utk.email_id, utk.student_id"
   ]
  },
  {
   "cell_type": "code",
   "execution_count": 48,
   "id": "c28664ba-241b-47b4-877d-09935e144f0b",
   "metadata": {},
   "outputs": [],
   "source": [
    "baban = pwskills3(2131231213,'baban@test.com',123)"
   ]
  },
  {
   "cell_type": "code",
   "execution_count": 42,
   "id": "91d9ca3b-51e0-4f2f-b291-3c3a23b798bd",
   "metadata": {},
   "outputs": [
    {
     "ename": "AttributeError",
     "evalue": "'pwskills3' object has no attribute 'phone_number'",
     "output_type": "error",
     "traceback": [
      "\u001b[0;31m---------------------------------------------------------------------------\u001b[0m",
      "\u001b[0;31mAttributeError\u001b[0m                            Traceback (most recent call last)",
      "Cell \u001b[0;32mIn[42], line 1\u001b[0m\n\u001b[0;32m----> 1\u001b[0m \u001b[43mbaban\u001b[49m\u001b[38;5;241;43m.\u001b[39;49m\u001b[43mphone_number\u001b[49m\n",
      "\u001b[0;31mAttributeError\u001b[0m: 'pwskills3' object has no attribute 'phone_number'"
     ]
    }
   ],
   "source": [
    "baban.phone_number"
   ]
  },
  {
   "cell_type": "code",
   "execution_count": 43,
   "id": "297dec01-1687-4edc-9b91-a4e8eea6465d",
   "metadata": {},
   "outputs": [
    {
     "data": {
      "text/plain": [
       "2131231213"
      ]
     },
     "execution_count": 43,
     "metadata": {},
     "output_type": "execute_result"
    }
   ],
   "source": [
    "baban.phone_number1"
   ]
  },
  {
   "cell_type": "code",
   "execution_count": 49,
   "id": "39a3f400-dd65-4df2-ba2a-97294e29a67a",
   "metadata": {},
   "outputs": [
    {
     "data": {
      "text/plain": [
       "(2131231213, 'baban@test.com', 123)"
      ]
     },
     "execution_count": 49,
     "metadata": {},
     "output_type": "execute_result"
    }
   ],
   "source": [
    "baban.student_details()"
   ]
  },
  {
   "cell_type": "code",
   "execution_count": null,
   "id": "47cd553e-8324-44da-8a7a-3706cdf95c7b",
   "metadata": {},
   "outputs": [],
   "source": []
  }
 ],
 "metadata": {
  "kernelspec": {
   "display_name": "Python 3 (ipykernel)",
   "language": "python",
   "name": "python3"
  },
  "language_info": {
   "codemirror_mode": {
    "name": "ipython",
    "version": 3
   },
   "file_extension": ".py",
   "mimetype": "text/x-python",
   "name": "python",
   "nbconvert_exporter": "python",
   "pygments_lexer": "ipython3",
   "version": "3.10.8"
  }
 },
 "nbformat": 4,
 "nbformat_minor": 5
}
