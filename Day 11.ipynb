{
 "cells": [
  {
   "cell_type": "markdown",
   "id": "afcdd8c7-5537-49ee-aec2-81192a2ba3df",
   "metadata": {},
   "source": [
    "# Day 11 - File Handling with logging and Debugger - Utkarsh Gaikwad"
   ]
  },
  {
   "cell_type": "markdown",
   "id": "0d0beccb-6203-4a22-b69a-4c67d0872443",
   "metadata": {},
   "source": [
    "# 1. Working with files"
   ]
  },
  {
   "cell_type": "code",
   "execution_count": 1,
   "id": "5b165122-ee7c-4ac4-b6a1-06c5fc691f07",
   "metadata": {},
   "outputs": [
    {
     "name": "stdout",
     "output_type": "stream",
     "text": [
      "Help on function open in module io:\n",
      "\n",
      "open(file, mode='r', buffering=-1, encoding=None, errors=None, newline=None, closefd=True, opener=None)\n",
      "    Open file and return a stream.  Raise OSError upon failure.\n",
      "    \n",
      "    file is either a text or byte string giving the name (and the path\n",
      "    if the file isn't in the current working directory) of the file to\n",
      "    be opened or an integer file descriptor of the file to be\n",
      "    wrapped. (If a file descriptor is given, it is closed when the\n",
      "    returned I/O object is closed, unless closefd is set to False.)\n",
      "    \n",
      "    mode is an optional string that specifies the mode in which the file\n",
      "    is opened. It defaults to 'r' which means open for reading in text\n",
      "    mode.  Other common values are 'w' for writing (truncating the file if\n",
      "    it already exists), 'x' for creating and writing to a new file, and\n",
      "    'a' for appending (which on some Unix systems, means that all writes\n",
      "    append to the end of the file regardless of the current seek position).\n",
      "    In text mode, if encoding is not specified the encoding used is platform\n",
      "    dependent: locale.getpreferredencoding(False) is called to get the\n",
      "    current locale encoding. (For reading and writing raw bytes use binary\n",
      "    mode and leave encoding unspecified.) The available modes are:\n",
      "    \n",
      "    ========= ===============================================================\n",
      "    Character Meaning\n",
      "    --------- ---------------------------------------------------------------\n",
      "    'r'       open for reading (default)\n",
      "    'w'       open for writing, truncating the file first\n",
      "    'x'       create a new file and open it for writing\n",
      "    'a'       open for writing, appending to the end of the file if it exists\n",
      "    'b'       binary mode\n",
      "    't'       text mode (default)\n",
      "    '+'       open a disk file for updating (reading and writing)\n",
      "    'U'       universal newline mode (deprecated)\n",
      "    ========= ===============================================================\n",
      "    \n",
      "    The default mode is 'rt' (open for reading text). For binary random\n",
      "    access, the mode 'w+b' opens and truncates the file to 0 bytes, while\n",
      "    'r+b' opens the file without truncation. The 'x' mode implies 'w' and\n",
      "    raises an `FileExistsError` if the file already exists.\n",
      "    \n",
      "    Python distinguishes between files opened in binary and text modes,\n",
      "    even when the underlying operating system doesn't. Files opened in\n",
      "    binary mode (appending 'b' to the mode argument) return contents as\n",
      "    bytes objects without any decoding. In text mode (the default, or when\n",
      "    't' is appended to the mode argument), the contents of the file are\n",
      "    returned as strings, the bytes having been first decoded using a\n",
      "    platform-dependent encoding or using the specified encoding if given.\n",
      "    \n",
      "    'U' mode is deprecated and will raise an exception in future versions\n",
      "    of Python.  It has no effect in Python 3.  Use newline to control\n",
      "    universal newlines mode.\n",
      "    \n",
      "    buffering is an optional integer used to set the buffering policy.\n",
      "    Pass 0 to switch buffering off (only allowed in binary mode), 1 to select\n",
      "    line buffering (only usable in text mode), and an integer > 1 to indicate\n",
      "    the size of a fixed-size chunk buffer.  When no buffering argument is\n",
      "    given, the default buffering policy works as follows:\n",
      "    \n",
      "    * Binary files are buffered in fixed-size chunks; the size of the buffer\n",
      "      is chosen using a heuristic trying to determine the underlying device's\n",
      "      \"block size\" and falling back on `io.DEFAULT_BUFFER_SIZE`.\n",
      "      On many systems, the buffer will typically be 4096 or 8192 bytes long.\n",
      "    \n",
      "    * \"Interactive\" text files (files for which isatty() returns True)\n",
      "      use line buffering.  Other text files use the policy described above\n",
      "      for binary files.\n",
      "    \n",
      "    encoding is the name of the encoding used to decode or encode the\n",
      "    file. This should only be used in text mode. The default encoding is\n",
      "    platform dependent, but any encoding supported by Python can be\n",
      "    passed.  See the codecs module for the list of supported encodings.\n",
      "    \n",
      "    errors is an optional string that specifies how encoding errors are to\n",
      "    be handled---this argument should not be used in binary mode. Pass\n",
      "    'strict' to raise a ValueError exception if there is an encoding error\n",
      "    (the default of None has the same effect), or pass 'ignore' to ignore\n",
      "    errors. (Note that ignoring encoding errors can lead to data loss.)\n",
      "    See the documentation for codecs.register or run 'help(codecs.Codec)'\n",
      "    for a list of the permitted encoding error strings.\n",
      "    \n",
      "    newline controls how universal newlines works (it only applies to text\n",
      "    mode). It can be None, '', '\\n', '\\r', and '\\r\\n'.  It works as\n",
      "    follows:\n",
      "    \n",
      "    * On input, if newline is None, universal newlines mode is\n",
      "      enabled. Lines in the input can end in '\\n', '\\r', or '\\r\\n', and\n",
      "      these are translated into '\\n' before being returned to the\n",
      "      caller. If it is '', universal newline mode is enabled, but line\n",
      "      endings are returned to the caller untranslated. If it has any of\n",
      "      the other legal values, input lines are only terminated by the given\n",
      "      string, and the line ending is returned to the caller untranslated.\n",
      "    \n",
      "    * On output, if newline is None, any '\\n' characters written are\n",
      "      translated to the system default line separator, os.linesep. If\n",
      "      newline is '' or '\\n', no translation takes place. If newline is any\n",
      "      of the other legal values, any '\\n' characters written are translated\n",
      "      to the given string.\n",
      "    \n",
      "    If closefd is False, the underlying file descriptor will be kept open\n",
      "    when the file is closed. This does not work when a file name is given\n",
      "    and must be True in that case.\n",
      "    \n",
      "    A custom opener can be used by passing a callable as *opener*. The\n",
      "    underlying file descriptor for the file object is then obtained by\n",
      "    calling *opener* with (*file*, *flags*). *opener* must return an open\n",
      "    file descriptor (passing os.open as *opener* results in functionality\n",
      "    similar to passing None).\n",
      "    \n",
      "    open() returns a file object whose type depends on the mode, and\n",
      "    through which the standard file operations such as reading and writing\n",
      "    are performed. When open() is used to open a file in a text mode ('w',\n",
      "    'r', 'wt', 'rt', etc.), it returns a TextIOWrapper. When used to open\n",
      "    a file in a binary mode, the returned class varies: in read binary\n",
      "    mode, it returns a BufferedReader; in write binary and append binary\n",
      "    modes, it returns a BufferedWriter, and in read/write mode, it returns\n",
      "    a BufferedRandom.\n",
      "    \n",
      "    It is also possible to use a string or bytearray as a file for both\n",
      "    reading and writing. For strings StringIO can be used like a file\n",
      "    opened in a text mode, and for bytes a BytesIO can be used like a file\n",
      "    opened in a binary mode.\n",
      "\n"
     ]
    }
   ],
   "source": [
    "help(open)"
   ]
  },
  {
   "cell_type": "code",
   "execution_count": 2,
   "id": "9aaf435c-8421-41c6-8f30-0bdec11f90cf",
   "metadata": {},
   "outputs": [],
   "source": [
    "f = open('test.txt','w')"
   ]
  },
  {
   "cell_type": "code",
   "execution_count": 3,
   "id": "1a240205-f7b5-41b1-882b-73f3b30c90b7",
   "metadata": {},
   "outputs": [
    {
     "data": {
      "text/plain": [
       "'/home/jovyan/work'"
      ]
     },
     "execution_count": 3,
     "metadata": {},
     "output_type": "execute_result"
    }
   ],
   "source": [
    "pwd"
   ]
  },
  {
   "cell_type": "code",
   "execution_count": 4,
   "id": "28c896bd-9b72-4d7e-a449-ea6ab0a139d2",
   "metadata": {},
   "outputs": [
    {
     "name": "stdout",
     "output_type": "stream",
     "text": [
      "'Day 10.ipynb'   Day5.ipynb              PandasOptimize.ipynb\n",
      "'Day 11.ipynb'  'Day6 Functions.ipynb'   README.md\n",
      " Day1.ipynb      Day7.ipynb              sample-code.ipynb\n",
      " Day2.ipynb      Day8.ipynb              test.txt\n",
      " Day4.ipynb      Day9.ipynb              Untitled.ipynb\n"
     ]
    }
   ],
   "source": [
    "ls"
   ]
  },
  {
   "cell_type": "code",
   "execution_count": 5,
   "id": "d10d5c96-ccaa-47e8-a277-8a7bd518e6ca",
   "metadata": {},
   "outputs": [
    {
     "name": "stdout",
     "output_type": "stream",
     "text": [
      "total 304\n",
      "-rw-r--r-- 1 jovyan users  3151 Jan 29 14:49  sample-code.ipynb\n",
      "-rw-r--r-- 1 jovyan users   198 Jan 29 14:49  README.md\n",
      "-rw-r--r-- 1 jovyan users  8262 Jan 31 12:28  Day1.ipynb\n",
      "-rw-r--r-- 1 jovyan users 12607 Jan 31 12:32  Day2.ipynb\n",
      "-rw-r--r-- 1 jovyan users 22314 Feb  1 18:13  Day4.ipynb\n",
      "-rw-r--r-- 1 jovyan users 65276 Feb  2 19:40  Day5.ipynb\n",
      "-rw-r--r-- 1 jovyan users 31537 Feb  3 18:08 'Day6 Functions.ipynb'\n",
      "-rw-r--r-- 1 jovyan users 19525 Feb  4 14:48  Day7.ipynb\n",
      "-rw-r--r-- 1 jovyan users 10961 Feb  5 19:23  Day8.ipynb\n",
      "-rw-r--r-- 1 jovyan users  4067 Feb  6 17:06  Untitled.ipynb\n",
      "-rw-r--r-- 1 jovyan users 17053 Feb  8 15:52  Day9.ipynb\n",
      "-rw-r--r-- 1 jovyan users 40901 Feb 10 11:54 'Day 10.ipynb'\n",
      "-rw-r--r-- 1 jovyan users 37073 Feb 10 23:01  PandasOptimize.ipynb\n",
      "-rw-r--r-- 1 jovyan users     0 Feb 11 11:28  test.txt\n",
      "-rw-r--r-- 1 jovyan users  9996 Feb 11 11:28 'Day 11.ipynb'\n"
     ]
    }
   ],
   "source": [
    "ls -lrt"
   ]
  },
  {
   "cell_type": "code",
   "execution_count": 6,
   "id": "d8be18cd-418b-4460-bda3-f0b04000a6f2",
   "metadata": {},
   "outputs": [
    {
     "data": {
      "text/plain": [
       "36"
      ]
     },
     "execution_count": 6,
     "metadata": {},
     "output_type": "execute_result"
    }
   ],
   "source": [
    "f.write('This is my first operation on a file')"
   ]
  },
  {
   "cell_type": "code",
   "execution_count": 7,
   "id": "2fd285ce-ee21-4a30-bb4c-644972646792",
   "metadata": {},
   "outputs": [],
   "source": [
    "f.close()"
   ]
  },
  {
   "cell_type": "code",
   "execution_count": 8,
   "id": "8e3915e1-7ecd-4b33-89c6-584997834982",
   "metadata": {},
   "outputs": [],
   "source": [
    "# Append operation\n",
    "f = open('test.txt','a')\n",
    "f.write('\\nThis text is appended to the file')\n",
    "f.close()"
   ]
  },
  {
   "cell_type": "code",
   "execution_count": 10,
   "id": "06a545ae-c32d-47c0-ae07-94b50b5da8b7",
   "metadata": {},
   "outputs": [
    {
     "name": "stdout",
     "output_type": "stream",
     "text": [
      "This is my first operation on a file\n",
      "This text is appended to the file\n"
     ]
    }
   ],
   "source": [
    "# Read operation\n",
    "f = open('test.txt','r')\n",
    "print(f.read())"
   ]
  },
  {
   "cell_type": "code",
   "execution_count": 12,
   "id": "edc4e2fb-af94-49f0-a3bf-ec1ae612e85e",
   "metadata": {},
   "outputs": [
    {
     "data": {
      "text/plain": [
       "''"
      ]
     },
     "execution_count": 12,
     "metadata": {},
     "output_type": "execute_result"
    }
   ],
   "source": [
    "f.read()"
   ]
  },
  {
   "cell_type": "code",
   "execution_count": 13,
   "id": "db978944-34d1-4266-b27c-6ba79d6bfc98",
   "metadata": {},
   "outputs": [
    {
     "data": {
      "text/plain": [
       "0"
      ]
     },
     "execution_count": 13,
     "metadata": {},
     "output_type": "execute_result"
    }
   ],
   "source": [
    "f.seek(0)"
   ]
  },
  {
   "cell_type": "code",
   "execution_count": 14,
   "id": "cfe07259-3a13-401c-889e-cf0959fe1771",
   "metadata": {},
   "outputs": [
    {
     "name": "stdout",
     "output_type": "stream",
     "text": [
      "This is my first operation on a file\n",
      "This text is appended to the file\n"
     ]
    }
   ],
   "source": [
    "print(f.read())"
   ]
  },
  {
   "cell_type": "code",
   "execution_count": 15,
   "id": "a7d86168-7437-48be-9a5a-75d241c27a43",
   "metadata": {},
   "outputs": [
    {
     "data": {
      "text/plain": [
       "10"
      ]
     },
     "execution_count": 15,
     "metadata": {},
     "output_type": "execute_result"
    }
   ],
   "source": [
    "f.seek(10)"
   ]
  },
  {
   "cell_type": "code",
   "execution_count": 16,
   "id": "048d375a-2958-4031-8ea1-cdd6f9e20808",
   "metadata": {},
   "outputs": [
    {
     "name": "stdout",
     "output_type": "stream",
     "text": [
      " first operation on a file\n",
      "This text is appended to the file\n"
     ]
    }
   ],
   "source": [
    "print(f.read())"
   ]
  },
  {
   "cell_type": "code",
   "execution_count": 17,
   "id": "ca6363bf-56e2-4202-a1a2-222db2126d69",
   "metadata": {},
   "outputs": [],
   "source": [
    "data1 = open('test.txt','r')"
   ]
  },
  {
   "cell_type": "code",
   "execution_count": 18,
   "id": "69dc3a8b-2f64-4b4e-92a9-16083533e20a",
   "metadata": {},
   "outputs": [
    {
     "name": "stdout",
     "output_type": "stream",
     "text": [
      "This is my first operation on a file\n",
      "\n",
      "This text is appended to the file\n"
     ]
    }
   ],
   "source": [
    "for i in data1:\n",
    "    print(i)"
   ]
  },
  {
   "cell_type": "code",
   "execution_count": 19,
   "id": "a007b311-050e-4351-84a2-ff1ad4b157e2",
   "metadata": {},
   "outputs": [
    {
     "data": {
      "text/plain": [
       "70"
      ]
     },
     "execution_count": 19,
     "metadata": {},
     "output_type": "execute_result"
    }
   ],
   "source": [
    "# Checking filesize\n",
    "import os\n",
    "os.path.getsize('test.txt')"
   ]
  },
  {
   "cell_type": "code",
   "execution_count": 23,
   "id": "6de108f1-8f40-4d16-9239-9ba0757a13fa",
   "metadata": {},
   "outputs": [
    {
     "data": {
      "text/plain": [
       "'new_test.txt'"
      ]
     },
     "execution_count": 23,
     "metadata": {},
     "output_type": "execute_result"
    }
   ],
   "source": [
    "# Copying file\n",
    "import shutil\n",
    "shutil.copy('test.txt','new_test.txt')"
   ]
  },
  {
   "cell_type": "code",
   "execution_count": 24,
   "id": "ed974a46-0765-410b-8fa9-f9914400790a",
   "metadata": {},
   "outputs": [],
   "source": [
    "# Deleting file\n",
    "os.remove('new_test.txt')"
   ]
  },
  {
   "cell_type": "code",
   "execution_count": 25,
   "id": "a15fef53-baee-4814-b59e-98650021460b",
   "metadata": {},
   "outputs": [
    {
     "name": "stdout",
     "output_type": "stream",
     "text": [
      "This is my first operation on a file\n",
      "This text is appended to the file\n"
     ]
    }
   ],
   "source": [
    "# Opening file with open statement\n",
    "with open('test.txt','r') as f:\n",
    "    print(f.read())"
   ]
  },
  {
   "cell_type": "code",
   "execution_count": 26,
   "id": "dba16ec1-3a18-474a-bb1e-9e240501dd8e",
   "metadata": {},
   "outputs": [],
   "source": [
    "# renaming the file\n",
    "os.rename('test.txt','test1.txt')"
   ]
  },
  {
   "cell_type": "markdown",
   "id": "e185be42-74da-4481-9fff-a2f39853f1a3",
   "metadata": {},
   "source": [
    "# 2. Read and Write files"
   ]
  },
  {
   "cell_type": "code",
   "execution_count": 28,
   "id": "3c4be94b-1f43-4a60-8e6a-4e69c373f44f",
   "metadata": {},
   "outputs": [],
   "source": [
    "data = {\n",
    "    'name':'Utkarsh',\n",
    "    'mail_id':'test@test.com',\n",
    "    'phone_number':293021104,\n",
    "    'favourite_subjects':['calculus','Heat Transfer','Design of Machine Elements','Mechanical Engineering']\n",
    "}"
   ]
  },
  {
   "cell_type": "code",
   "execution_count": 30,
   "id": "45c9d13d-7b0b-492e-8c2b-695528f743e7",
   "metadata": {},
   "outputs": [],
   "source": [
    "# writing json\n",
    "import json\n",
    "with open('test2.json','w') as f:\n",
    "    json.dump(data,f)"
   ]
  },
  {
   "cell_type": "code",
   "execution_count": 31,
   "id": "07de776b-db8a-417c-b8ad-50eb0b6ec707",
   "metadata": {},
   "outputs": [],
   "source": [
    "# reading json\n",
    "with open('test2.json','r') as f:\n",
    "    data1 = json.load(f)"
   ]
  },
  {
   "cell_type": "code",
   "execution_count": 32,
   "id": "496e8ea2-9991-4a83-9215-6e522e26b030",
   "metadata": {},
   "outputs": [
    {
     "data": {
      "text/plain": [
       "{'name': 'Utkarsh',\n",
       " 'mail_id': 'test@test.com',\n",
       " 'phone_number': 293021104,\n",
       " 'favourite_subjects': ['calculus',\n",
       "  'Heat Transfer',\n",
       "  'Design of Machine Elements',\n",
       "  'Mechanical Engineering']}"
      ]
     },
     "execution_count": 32,
     "metadata": {},
     "output_type": "execute_result"
    }
   ],
   "source": [
    "data1"
   ]
  },
  {
   "cell_type": "code",
   "execution_count": 33,
   "id": "767ef679-6543-46d6-8cf1-922f34e0cd94",
   "metadata": {},
   "outputs": [
    {
     "data": {
      "text/plain": [
       "'Mechanical Engineering'"
      ]
     },
     "execution_count": 33,
     "metadata": {},
     "output_type": "execute_result"
    }
   ],
   "source": [
    "data1['favourite_subjects'][3]"
   ]
  },
  {
   "cell_type": "code",
   "execution_count": 35,
   "id": "3d137214-3f8b-47e5-ae10-2439f0894b7e",
   "metadata": {},
   "outputs": [],
   "source": [
    "# csv files\n",
    "data = [['name','mail_id','phone_number'],\n",
    "        ['Utkarsh','test@test.com',123124],\n",
    "        ['Sudh','sudh@test.com',123367]]"
   ]
  },
  {
   "cell_type": "code",
   "execution_count": 37,
   "id": "5e3f08ea-8cd4-4b3b-a448-32bb9f4eb2d8",
   "metadata": {},
   "outputs": [],
   "source": [
    "# write to csv file\n",
    "import csv\n",
    "with open('test3.csv','w') as f:\n",
    "    w = csv.writer(f)\n",
    "    for i in data:\n",
    "        w.writerow(i)"
   ]
  },
  {
   "cell_type": "code",
   "execution_count": 38,
   "id": "27207619-c6a1-48b3-8742-ba4cf860c1ca",
   "metadata": {},
   "outputs": [
    {
     "name": "stdout",
     "output_type": "stream",
     "text": [
      "['name', 'mail_id', 'phone_number']\n",
      "['Utkarsh', 'test@test.com', '123124']\n",
      "['Sudh', 'sudh@test.com', '123367']\n"
     ]
    }
   ],
   "source": [
    "# Reading CSV files\n",
    "with open('test3.csv','r') as f:\n",
    "    read = csv.reader(f)\n",
    "    for i in read:\n",
    "        print(i)"
   ]
  },
  {
   "cell_type": "code",
   "execution_count": 40,
   "id": "e60bfc3c-b991-43d1-ab7f-c0332654d674",
   "metadata": {},
   "outputs": [],
   "source": [
    "# Binary files writing\n",
    "with open('test4.bin','wb') as f:\n",
    "    f.write(b\"\\x01\\x02\\x03\\x04\")"
   ]
  },
  {
   "cell_type": "code",
   "execution_count": 41,
   "id": "2181bf73-4af4-435d-8350-930054f0199a",
   "metadata": {},
   "outputs": [
    {
     "name": "stdout",
     "output_type": "stream",
     "text": [
      "b'\\x01\\x02\\x03\\x04'\n"
     ]
    }
   ],
   "source": [
    "# Reading Binary files\n",
    "with open('test4.bin','rb') as f:\n",
    "    print(f.read())"
   ]
  },
  {
   "cell_type": "markdown",
   "id": "c953bfdb-5304-409a-9bf4-0d688422f91e",
   "metadata": {},
   "source": [
    "# 3. Buffered read and Write"
   ]
  },
  {
   "cell_type": "code",
   "execution_count": 42,
   "id": "89d44085-dde1-45d5-934a-bd3e9e83a826",
   "metadata": {},
   "outputs": [],
   "source": [
    "import io"
   ]
  },
  {
   "cell_type": "code",
   "execution_count": 49,
   "id": "8d530797-4421-43be-ab45-2c4e1a2270ae",
   "metadata": {},
   "outputs": [],
   "source": [
    "with open('text5.txt','wb') as f:\n",
    "    file = io.BufferedWriter(f)\n",
    "    file.write(b\"Data Science Masters course is highly curated and uniquely designed according to the latest industry standards. This program instills students the skills essential to knowledge discovery efforts to identify standard, novel, and truly differentiated solutions and decision-making, including skills in managing, querying, analyzing, visualizing, and extracting meaning from extremely large data sets. This trending program provides students with the statistical, mathematical and computational skills needed to meet the large-scale data science challenges of today's professional world. You will learn all the stack required to work in data science industry including cloud infrastructure and real-time industry projects.\\n\")\n",
    "    file.write(b'This is my second line\\n')\n",
    "    file.write(b'This is my line three\\n')\n",
    "    file.flush()"
   ]
  },
  {
   "cell_type": "code",
   "execution_count": 54,
   "id": "3b69e492-b70c-4a9e-b15c-4fc6d4fe04cf",
   "metadata": {},
   "outputs": [
    {
     "name": "stdout",
     "output_type": "stream",
     "text": [
      "b'Data Science Masters course is highly curated and uniquely designed according to the latest industry'\n"
     ]
    }
   ],
   "source": [
    "with open('text5.txt','rb') as f:\n",
    "    file = io.BufferedReader(f)\n",
    "    data = file.read(100)\n",
    "    print(data)"
   ]
  },
  {
   "cell_type": "markdown",
   "id": "b310e1bd-7604-4021-86aa-f00dfdd4ce35",
   "metadata": {},
   "source": [
    "# 4. Logging and debugger"
   ]
  },
  {
   "cell_type": "code",
   "execution_count": 55,
   "id": "8ebe1e2d-ee01-4201-b5bb-87046c90c22b",
   "metadata": {},
   "outputs": [
    {
     "name": "stdout",
     "output_type": "stream",
     "text": [
      "This is my statement\n"
     ]
    }
   ],
   "source": [
    "print('This is my statement')"
   ]
  },
  {
   "cell_type": "code",
   "execution_count": 56,
   "id": "c46d54a4-8ebb-43f9-b3c2-41f6bfc1be6c",
   "metadata": {},
   "outputs": [],
   "source": [
    "import logging"
   ]
  },
  {
   "cell_type": "code",
   "execution_count": 57,
   "id": "d03e23fc-e20d-4ce4-89d2-4217f1395455",
   "metadata": {},
   "outputs": [],
   "source": [
    "logging.basicConfig(filename='test.log',level = logging.INFO)"
   ]
  },
  {
   "cell_type": "code",
   "execution_count": 58,
   "id": "035451d7-976f-4fb2-a5cc-cfd0dd6d51a2",
   "metadata": {},
   "outputs": [],
   "source": [
    "logging.info('This is my line of execution')"
   ]
  },
  {
   "cell_type": "code",
   "execution_count": 59,
   "id": "39600058-7762-41a1-9a2d-5fd83d7b50c4",
   "metadata": {},
   "outputs": [],
   "source": [
    "logging.error('This is my error')"
   ]
  },
  {
   "cell_type": "code",
   "execution_count": 62,
   "id": "855a2150-4a73-4345-a95a-ef5e8b78890c",
   "metadata": {},
   "outputs": [],
   "source": [
    "logging.critical('This is my critical')"
   ]
  },
  {
   "cell_type": "code",
   "execution_count": 63,
   "id": "84b759a7-0c99-492d-919f-6e2e227a8554",
   "metadata": {},
   "outputs": [],
   "source": [
    "logging.warning('This is my warning')"
   ]
  },
  {
   "cell_type": "code",
   "execution_count": 64,
   "id": "9f81cc11-96f2-4f90-94e3-97e0412095d1",
   "metadata": {},
   "outputs": [],
   "source": [
    "logging.debug('This is debug')"
   ]
  },
  {
   "cell_type": "code",
   "execution_count": 65,
   "id": "d49c05d1-24d1-4176-9247-63c4c14a63b2",
   "metadata": {},
   "outputs": [],
   "source": [
    "logging.shutdown()"
   ]
  },
  {
   "cell_type": "markdown",
   "id": "dc0ba7e5-6abe-49ce-b88d-ceda073288c6",
   "metadata": {},
   "source": [
    "#### Logging hierarchy\n",
    "1. NOSET\n",
    "2. Debug\n",
    "3. Info\n",
    "4. Warning\n",
    "5. Error\n",
    "6. Critical\n",
    "\n",
    "#### Above log will log everything below info"
   ]
  },
  {
   "cell_type": "code",
   "execution_count": 1,
   "id": "068d8e38-c24e-4cac-a752-fc2a2cf029d7",
   "metadata": {},
   "outputs": [],
   "source": [
    "import logging\n",
    "logging.basicConfig(filename='test1.log',level=logging.DEBUG, format= '%(asctime)s %(message)s')"
   ]
  },
  {
   "cell_type": "code",
   "execution_count": 2,
   "id": "7a8933d5-1ff3-4a21-8f3a-47c4a70a16ca",
   "metadata": {},
   "outputs": [],
   "source": [
    "logging.info(\"This is my info\")"
   ]
  },
  {
   "cell_type": "code",
   "execution_count": 3,
   "id": "81493ab2-5e07-4be8-9d6a-be804a800542",
   "metadata": {},
   "outputs": [],
   "source": [
    "logging.debug(\"This is my debug\")"
   ]
  },
  {
   "cell_type": "code",
   "execution_count": 4,
   "id": "c7bc9f8b-5a25-421e-9699-c2c69ee5829b",
   "metadata": {},
   "outputs": [],
   "source": [
    "logging.warning('This is my warning')"
   ]
  },
  {
   "cell_type": "code",
   "execution_count": 5,
   "id": "c2f553fd-63a8-41fc-b0ed-5c530f0121b1",
   "metadata": {},
   "outputs": [],
   "source": [
    "logging.shutdown()"
   ]
  },
  {
   "cell_type": "code",
   "execution_count": 1,
   "id": "e2de378d-9f4b-4f64-900a-2edf09e7371b",
   "metadata": {},
   "outputs": [],
   "source": [
    "# Use logging custom format\n",
    "import logging\n",
    "logging.basicConfig(filename='test3.log',level=logging.DEBUG,format= '%(asctime)s %(name)s %(levelname)s %(message)s')"
   ]
  },
  {
   "cell_type": "code",
   "execution_count": 2,
   "id": "cb6b9582-e982-4255-bc5a-073665c35233",
   "metadata": {},
   "outputs": [],
   "source": [
    "logging.info('This is my info')"
   ]
  },
  {
   "cell_type": "code",
   "execution_count": 3,
   "id": "8198f545-6f4e-4c94-814e-1fc7ebf5392a",
   "metadata": {},
   "outputs": [],
   "source": [
    "logging.debug('This is my debug Log')"
   ]
  },
  {
   "cell_type": "code",
   "execution_count": 4,
   "id": "597bc819-4d46-4587-8263-7748a3ee3c08",
   "metadata": {},
   "outputs": [],
   "source": [
    "logging.warning('This is my warning log')"
   ]
  },
  {
   "cell_type": "code",
   "execution_count": 9,
   "id": "5f949ba8-afd9-4905-af2b-436819c96abf",
   "metadata": {},
   "outputs": [],
   "source": [
    "l = [1,2,3,4,5,[6,7,8,9],'sudh','krish']"
   ]
  },
  {
   "cell_type": "code",
   "execution_count": 18,
   "id": "dff5f201-ef82-42c9-9896-71162bf1fb16",
   "metadata": {},
   "outputs": [],
   "source": [
    "l1_int = []\n",
    "l2_str = []\n",
    "for i in l:\n",
    "    logging.info(f\"This is iteration {i}. My list is {l}\")  \n",
    "    if type(i)==list:\n",
    "        logging.info(f'List {i} detected') \n",
    "        for j in i:\n",
    "            if type(j)==int:\n",
    "                l1_int.append(j)\n",
    "                logging.info(f'l1_int updated inside list : {l1_int}')\n",
    "    elif type(i)==int:\n",
    "        l1_int.append(i)\n",
    "        logging.info(f'l1_int updated int : {l1_int}')\n",
    "    elif type(i)==str:\n",
    "        l2_str.append(i)\n",
    "        logging.info(f'l1_str updated str : {l2_str}')\n",
    "logging.info(f'This is my final outputs {l1_int}, {l2_str}')"
   ]
  },
  {
   "cell_type": "code",
   "execution_count": 13,
   "id": "ba9c3844-8dd5-42b2-bcad-1ee7e76a7608",
   "metadata": {},
   "outputs": [
    {
     "data": {
      "text/plain": [
       "[1, 2, 3, 4, 5, 6, 7, 8, 9]"
      ]
     },
     "execution_count": 13,
     "metadata": {},
     "output_type": "execute_result"
    }
   ],
   "source": [
    "l1_int"
   ]
  },
  {
   "cell_type": "code",
   "execution_count": 15,
   "id": "86417fb0-64d1-448f-a18a-93f8bdc18cb6",
   "metadata": {},
   "outputs": [
    {
     "data": {
      "text/plain": [
       "['sudh', 'krish']"
      ]
     },
     "execution_count": 15,
     "metadata": {},
     "output_type": "execute_result"
    }
   ],
   "source": [
    "l2_str"
   ]
  },
  {
   "cell_type": "code",
   "execution_count": null,
   "id": "a4d9f967-ee5a-4373-9a1d-7991ea65e20d",
   "metadata": {},
   "outputs": [],
   "source": []
  }
 ],
 "metadata": {
  "kernelspec": {
   "display_name": "Python 3 (ipykernel)",
   "language": "python",
   "name": "python3"
  },
  "language_info": {
   "codemirror_mode": {
    "name": "ipython",
    "version": 3
   },
   "file_extension": ".py",
   "mimetype": "text/x-python",
   "name": "python",
   "nbconvert_exporter": "python",
   "pygments_lexer": "ipython3",
   "version": "3.10.8"
  }
 },
 "nbformat": 4,
 "nbformat_minor": 5
}
