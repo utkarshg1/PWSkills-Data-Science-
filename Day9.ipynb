{
 "cells": [
  {
   "cell_type": "markdown",
   "id": "42591a84-1682-41e7-a2c0-13e3733d1f61",
   "metadata": {},
   "source": [
    "# OOPS Concepts - Polymorphism , Encapsulation and Inheritance - Utkarsh Gaikwad"
   ]
  },
  {
   "cell_type": "markdown",
   "id": "261e133b-6c75-40e5-a4e9-f20b439bc8d5",
   "metadata": {},
   "source": [
    "# 1. Polymorphism"
   ]
  },
  {
   "cell_type": "code",
   "execution_count": 5,
   "id": "31fe70cb-a565-4a7b-9ba6-9fa252ca4e8c",
   "metadata": {},
   "outputs": [],
   "source": [
    "def test(a,b):\n",
    "    return a+b"
   ]
  },
  {
   "cell_type": "code",
   "execution_count": 6,
   "id": "8b4c26b7-146c-409c-aa75-f878b2ba7f9c",
   "metadata": {},
   "outputs": [
    {
     "data": {
      "text/plain": [
       "9"
      ]
     },
     "execution_count": 6,
     "metadata": {},
     "output_type": "execute_result"
    }
   ],
   "source": [
    "test(4,5)"
   ]
  },
  {
   "cell_type": "code",
   "execution_count": 7,
   "id": "e3de1c54-2a4a-4656-b0b9-51c0eaf491e0",
   "metadata": {},
   "outputs": [
    {
     "data": {
      "text/plain": [
       "'utkarsh'"
      ]
     },
     "execution_count": 7,
     "metadata": {},
     "output_type": "execute_result"
    }
   ],
   "source": [
    "test('utk','arsh')"
   ]
  },
  {
   "cell_type": "code",
   "execution_count": 8,
   "id": "a7f4ae33-381e-45ac-b94c-2b36abf56683",
   "metadata": {},
   "outputs": [
    {
     "data": {
      "text/plain": [
       "[1, 2, 3, 4, 5, True]"
      ]
     },
     "execution_count": 8,
     "metadata": {},
     "output_type": "execute_result"
    }
   ],
   "source": [
    "test([1,2,3],[4,5,True])"
   ]
  },
  {
   "cell_type": "code",
   "execution_count": 16,
   "id": "2cd707e6-9ce7-4676-bdfc-168eaabe5b74",
   "metadata": {},
   "outputs": [],
   "source": [
    "class data_science:\n",
    "    def syllabus(self):\n",
    "        print('This is my syllabus for data science')"
   ]
  },
  {
   "cell_type": "code",
   "execution_count": 17,
   "id": "84e6a96f-3b33-4169-a4c7-27413717dabe",
   "metadata": {},
   "outputs": [],
   "source": [
    "class web_dev:\n",
    "    def syllabus(self):\n",
    "        print('This is my syllabus for web developement')"
   ]
  },
  {
   "cell_type": "code",
   "execution_count": 18,
   "id": "5ddee023-b5b6-4270-82d6-ba0b55029540",
   "metadata": {},
   "outputs": [],
   "source": [
    "def class_parser(class_obj):\n",
    "    for i in class_obj:\n",
    "        i.syllabus()"
   ]
  },
  {
   "cell_type": "code",
   "execution_count": 19,
   "id": "d30dd9ca-5da1-49ff-9ebf-84994dc090cc",
   "metadata": {},
   "outputs": [],
   "source": [
    "obj_data_science = data_science()"
   ]
  },
  {
   "cell_type": "code",
   "execution_count": 20,
   "id": "3db28de1-5e15-4095-8fd1-4fb0030fe44e",
   "metadata": {},
   "outputs": [],
   "source": [
    "obj_web_dev = web_dev()"
   ]
  },
  {
   "cell_type": "code",
   "execution_count": 21,
   "id": "1e5652de-e51f-41b1-a207-23386bd0c4c5",
   "metadata": {},
   "outputs": [],
   "source": [
    "class_obj = [obj_data_science,obj_web_dev]"
   ]
  },
  {
   "cell_type": "code",
   "execution_count": 22,
   "id": "0dcb8d96-1ce7-402d-8dd3-e74a7e724cad",
   "metadata": {},
   "outputs": [
    {
     "name": "stdout",
     "output_type": "stream",
     "text": [
      "This is my syllabus for data science\n",
      "This is my syllabus for web developement\n"
     ]
    }
   ],
   "source": [
    "class_parser(class_obj)"
   ]
  },
  {
   "cell_type": "markdown",
   "id": "4ca04aac-bd6d-443d-8336-032298ab0a46",
   "metadata": {},
   "source": [
    "# 2. Encapsulation"
   ]
  },
  {
   "cell_type": "code",
   "execution_count": 23,
   "id": "8284563e-89f1-4e33-a37a-593fc12c1b85",
   "metadata": {},
   "outputs": [],
   "source": [
    "class test1:\n",
    "    \n",
    "    def __init__(self,a,b):\n",
    "        self.a = a\n",
    "        self.b = b    "
   ]
  },
  {
   "cell_type": "code",
   "execution_count": 24,
   "id": "9ddbb59a-bd13-4576-bffd-3d0c81b9f3e3",
   "metadata": {},
   "outputs": [],
   "source": [
    "t = test1(3,4)"
   ]
  },
  {
   "cell_type": "code",
   "execution_count": 25,
   "id": "1b58bac0-0fab-43ea-85c2-ea6506baeae8",
   "metadata": {},
   "outputs": [
    {
     "data": {
      "text/plain": [
       "3"
      ]
     },
     "execution_count": 25,
     "metadata": {},
     "output_type": "execute_result"
    }
   ],
   "source": [
    "t.a"
   ]
  },
  {
   "cell_type": "code",
   "execution_count": 26,
   "id": "8d57be4a-db72-43eb-a308-69f4dd4863fd",
   "metadata": {},
   "outputs": [
    {
     "data": {
      "text/plain": [
       "4"
      ]
     },
     "execution_count": 26,
     "metadata": {},
     "output_type": "execute_result"
    }
   ],
   "source": [
    "t.b"
   ]
  },
  {
   "cell_type": "code",
   "execution_count": 27,
   "id": "f64f17e9-1da0-42b5-a275-de7ad190968c",
   "metadata": {},
   "outputs": [],
   "source": [
    "t.a = 123"
   ]
  },
  {
   "cell_type": "code",
   "execution_count": 28,
   "id": "66e65d43-984c-436d-9581-02e9a603f8a5",
   "metadata": {},
   "outputs": [
    {
     "data": {
      "text/plain": [
       "123"
      ]
     },
     "execution_count": 28,
     "metadata": {},
     "output_type": "execute_result"
    }
   ],
   "source": [
    "t.a"
   ]
  },
  {
   "cell_type": "code",
   "execution_count": 19,
   "id": "baa4dad6-6ada-41a6-94dc-ce16e5cd39b7",
   "metadata": {},
   "outputs": [],
   "source": [
    "class car:\n",
    "    \n",
    "    def __init__(self, year, make, model, speed):\n",
    "        self.__year = year\n",
    "        self.__make = make\n",
    "        self.__model = model\n",
    "        self.__speed = 0\n",
    "    \n",
    "    def set_speed(self,speed):\n",
    "        self.__speed = 0 if speed < 0 else speed\n",
    "    \n",
    "    def get_speed(self):\n",
    "        return self.__speed"
   ]
  },
  {
   "cell_type": "code",
   "execution_count": 21,
   "id": "763ff44f-5bbf-41f7-b799-27322c175ee7",
   "metadata": {},
   "outputs": [],
   "source": [
    "obj_car = car(2021,'Toyota','Innova',12)"
   ]
  },
  {
   "cell_type": "code",
   "execution_count": 22,
   "id": "1baf3c82-9612-4963-baf3-7c1e78f8871a",
   "metadata": {},
   "outputs": [
    {
     "data": {
      "text/plain": [
       "2021"
      ]
     },
     "execution_count": 22,
     "metadata": {},
     "output_type": "execute_result"
    }
   ],
   "source": [
    "obj_car._car__year"
   ]
  },
  {
   "cell_type": "code",
   "execution_count": 23,
   "id": "8764f090-70b8-4561-8abc-9aa699c0667e",
   "metadata": {},
   "outputs": [],
   "source": [
    "obj_car._car__year = 2023"
   ]
  },
  {
   "cell_type": "code",
   "execution_count": 24,
   "id": "3b0420bb-b9c2-4fb9-9b13-edacd7c3c5c2",
   "metadata": {},
   "outputs": [
    {
     "data": {
      "text/plain": [
       "2023"
      ]
     },
     "execution_count": 24,
     "metadata": {},
     "output_type": "execute_result"
    }
   ],
   "source": [
    "obj_car._car__year"
   ]
  },
  {
   "cell_type": "code",
   "execution_count": 25,
   "id": "dfbcec36-71ea-4e41-9170-f6ac891eb965",
   "metadata": {},
   "outputs": [],
   "source": [
    "obj_car.set_speed(-21)"
   ]
  },
  {
   "cell_type": "code",
   "execution_count": 26,
   "id": "0f4cbfe3-2300-4073-ab10-dc2c6274be8d",
   "metadata": {},
   "outputs": [
    {
     "data": {
      "text/plain": [
       "0"
      ]
     },
     "execution_count": 26,
     "metadata": {},
     "output_type": "execute_result"
    }
   ],
   "source": [
    "obj_car._car__speed"
   ]
  },
  {
   "cell_type": "code",
   "execution_count": 27,
   "id": "1dea2cf8-82c0-4aaf-8df2-3e3db280ed68",
   "metadata": {},
   "outputs": [],
   "source": [
    "obj_car.set_speed(80)"
   ]
  },
  {
   "cell_type": "code",
   "execution_count": 28,
   "id": "a6eb71a1-d6f8-4404-a243-f648eb8e80dc",
   "metadata": {},
   "outputs": [
    {
     "data": {
      "text/plain": [
       "80"
      ]
     },
     "execution_count": 28,
     "metadata": {},
     "output_type": "execute_result"
    }
   ],
   "source": [
    "obj_car._car__speed"
   ]
  },
  {
   "cell_type": "code",
   "execution_count": 29,
   "id": "7905ddd9-b427-4b38-b6f8-2eb467a5fbdf",
   "metadata": {},
   "outputs": [
    {
     "data": {
      "text/plain": [
       "80"
      ]
     },
     "execution_count": 29,
     "metadata": {},
     "output_type": "execute_result"
    }
   ],
   "source": [
    "obj_car.get_speed()"
   ]
  },
  {
   "cell_type": "code",
   "execution_count": 30,
   "id": "73d3428c-f578-477b-8c9b-63004b6c4c14",
   "metadata": {},
   "outputs": [],
   "source": [
    "obj_car.set_speed(100)"
   ]
  },
  {
   "cell_type": "code",
   "execution_count": 31,
   "id": "8717d6bf-d378-4dea-b535-e15b9486b531",
   "metadata": {},
   "outputs": [
    {
     "data": {
      "text/plain": [
       "100"
      ]
     },
     "execution_count": 31,
     "metadata": {},
     "output_type": "execute_result"
    }
   ],
   "source": [
    "obj_car.get_speed()"
   ]
  },
  {
   "cell_type": "code",
   "execution_count": 32,
   "id": "eeac692c-ec55-4274-be2a-291224ff9796",
   "metadata": {},
   "outputs": [],
   "source": [
    "class bank_account:\n",
    "    \n",
    "    def __init__(self, balance):\n",
    "        self.__balance = balance\n",
    "    \n",
    "    def deposit(self, amount):\n",
    "        self.__balance = self.__balance + amount\n",
    "    \n",
    "    def withdraw(self, amount):\n",
    "        if self.__balance >= amount :\n",
    "            self.__balance = self.__balance - amount\n",
    "        else:\n",
    "            print('Insufficient balance')\n",
    "            \n",
    "    def get_balance(self):\n",
    "        return self.__balance"
   ]
  },
  {
   "cell_type": "code",
   "execution_count": 33,
   "id": "d9937ec4-ff9e-4d53-8a15-be3bb7d30e47",
   "metadata": {},
   "outputs": [],
   "source": [
    "obj_bank = bank_account(5000)"
   ]
  },
  {
   "cell_type": "code",
   "execution_count": 35,
   "id": "49193bf7-8a6e-4898-b471-5b5d35a3d54f",
   "metadata": {},
   "outputs": [
    {
     "data": {
      "text/plain": [
       "5000"
      ]
     },
     "execution_count": 35,
     "metadata": {},
     "output_type": "execute_result"
    }
   ],
   "source": [
    "obj_bank._bank_account__balance"
   ]
  },
  {
   "cell_type": "code",
   "execution_count": 36,
   "id": "8b976ebd-0c2f-4522-a873-161e83f04129",
   "metadata": {},
   "outputs": [],
   "source": [
    "obj_bank.deposit(1000)"
   ]
  },
  {
   "cell_type": "code",
   "execution_count": 37,
   "id": "fb65932e-9a13-47e2-a686-347c853a4207",
   "metadata": {},
   "outputs": [
    {
     "data": {
      "text/plain": [
       "6000"
      ]
     },
     "execution_count": 37,
     "metadata": {},
     "output_type": "execute_result"
    }
   ],
   "source": [
    "obj_bank.get_balance()"
   ]
  },
  {
   "cell_type": "code",
   "execution_count": 39,
   "id": "a769d4f6-e847-4564-b818-d7a716db6fc0",
   "metadata": {},
   "outputs": [
    {
     "name": "stdout",
     "output_type": "stream",
     "text": [
      "Insufficient balance\n"
     ]
    }
   ],
   "source": [
    "obj_bank.withdraw(10000)"
   ]
  },
  {
   "cell_type": "code",
   "execution_count": 40,
   "id": "e8353759-f9cd-46ee-a9c0-0304c9f6d008",
   "metadata": {},
   "outputs": [
    {
     "data": {
      "text/plain": [
       "6000"
      ]
     },
     "execution_count": 40,
     "metadata": {},
     "output_type": "execute_result"
    }
   ],
   "source": [
    "obj_bank.get_balance()"
   ]
  },
  {
   "cell_type": "code",
   "execution_count": 41,
   "id": "f93b62d1-b7b3-4806-a231-f4064458b6a6",
   "metadata": {},
   "outputs": [],
   "source": [
    "obj_bank.withdraw(3000)"
   ]
  },
  {
   "cell_type": "code",
   "execution_count": 42,
   "id": "96facd2d-cde9-4501-96ea-439bbc69ee2a",
   "metadata": {},
   "outputs": [
    {
     "data": {
      "text/plain": [
       "3000"
      ]
     },
     "execution_count": 42,
     "metadata": {},
     "output_type": "execute_result"
    }
   ],
   "source": [
    "obj_bank.get_balance()"
   ]
  },
  {
   "cell_type": "markdown",
   "id": "58915a52-39dc-4285-932a-641bd12c859c",
   "metadata": {},
   "source": [
    "# 2. Inheritance"
   ]
  },
  {
   "cell_type": "code",
   "execution_count": 43,
   "id": "92c37488-d832-4bfa-8bed-18a46afd9e2e",
   "metadata": {},
   "outputs": [],
   "source": [
    "class parent:\n",
    "    def test2(self):\n",
    "        print('This is Parent class')    "
   ]
  },
  {
   "cell_type": "code",
   "execution_count": 44,
   "id": "3aed646d-3a46-4dae-9536-39cf4e508918",
   "metadata": {},
   "outputs": [],
   "source": [
    "class child(parent):\n",
    "    pass"
   ]
  },
  {
   "cell_type": "code",
   "execution_count": 49,
   "id": "6eb2dfda-87dc-4e23-8b1f-5e5ca6361012",
   "metadata": {},
   "outputs": [],
   "source": [
    "child_obj = child()"
   ]
  },
  {
   "cell_type": "code",
   "execution_count": 50,
   "id": "dceed5d6-2448-4faa-934f-e75c2542fd8f",
   "metadata": {},
   "outputs": [
    {
     "name": "stdout",
     "output_type": "stream",
     "text": [
      "This is Parent class\n"
     ]
    }
   ],
   "source": [
    "child_obj.test2()"
   ]
  },
  {
   "cell_type": "code",
   "execution_count": 51,
   "id": "227fbf0b-43c3-4f1d-a4c3-04d3c11b2ec9",
   "metadata": {},
   "outputs": [
    {
     "name": "stdout",
     "output_type": "stream",
     "text": [
      "This is Parent class\n"
     ]
    }
   ],
   "source": [
    "child_obj.test2()"
   ]
  },
  {
   "cell_type": "code",
   "execution_count": 58,
   "id": "a9447737-7418-4331-a632-5cb8c62dbefb",
   "metadata": {},
   "outputs": [],
   "source": [
    "# Multi Level Inheritance\n",
    "class class1:\n",
    "    def test_class1(self):\n",
    "        print('This is my class 1')\n",
    "\n",
    "class class2(class1):\n",
    "    def test_class2(self):\n",
    "        print('This is my class 2')\n",
    "\n",
    "class class3(class2):\n",
    "    def test_class3(self):\n",
    "        print('This is my class 3')"
   ]
  },
  {
   "cell_type": "code",
   "execution_count": 59,
   "id": "11252eab-76b3-4c44-a7ec-21f4159006ef",
   "metadata": {},
   "outputs": [],
   "source": [
    "obj_class3  = class3()"
   ]
  },
  {
   "cell_type": "code",
   "execution_count": 60,
   "id": "ac77f60f-883a-4e87-9cac-d7a256d32ec3",
   "metadata": {},
   "outputs": [
    {
     "name": "stdout",
     "output_type": "stream",
     "text": [
      "This is my class 3\n"
     ]
    }
   ],
   "source": [
    "obj_class3.test_class3()"
   ]
  },
  {
   "cell_type": "code",
   "execution_count": 61,
   "id": "a15012c8-4588-4be5-a0c3-b562fa638936",
   "metadata": {},
   "outputs": [
    {
     "name": "stdout",
     "output_type": "stream",
     "text": [
      "This is my class 2\n"
     ]
    }
   ],
   "source": [
    "obj_class3.test_class2()"
   ]
  },
  {
   "cell_type": "code",
   "execution_count": 62,
   "id": "6c593e55-01cb-4098-95ff-a0db7d003593",
   "metadata": {},
   "outputs": [
    {
     "name": "stdout",
     "output_type": "stream",
     "text": [
      "This is my class 1\n"
     ]
    }
   ],
   "source": [
    "obj_class3.test_class1()"
   ]
  },
  {
   "cell_type": "code",
   "execution_count": 64,
   "id": "fe206e9e-13d8-45d0-a4ef-c69d78f46e11",
   "metadata": {},
   "outputs": [],
   "source": [
    "# Multiple inheritance\n",
    "class class1:\n",
    "    def test_class1(self):\n",
    "        print('This is class 1')\n",
    "\n",
    "class class2:\n",
    "    def test_class2(self):\n",
    "        print('This is my class 2')\n",
    "\n",
    "class class3(class1, class2):\n",
    "    pass       "
   ]
  },
  {
   "cell_type": "code",
   "execution_count": 65,
   "id": "458941ba-1717-45c2-a9d5-581be63c642c",
   "metadata": {},
   "outputs": [],
   "source": [
    "obj_class3 = class3()"
   ]
  },
  {
   "cell_type": "code",
   "execution_count": 66,
   "id": "528d7fd4-647a-4868-9ceb-97f6fecf0357",
   "metadata": {},
   "outputs": [
    {
     "name": "stdout",
     "output_type": "stream",
     "text": [
      "This is my class 2\n"
     ]
    }
   ],
   "source": [
    "obj_class3.test_class2()"
   ]
  },
  {
   "cell_type": "code",
   "execution_count": 67,
   "id": "74b194ca-834b-44df-858d-b7b5c96650de",
   "metadata": {},
   "outputs": [
    {
     "name": "stdout",
     "output_type": "stream",
     "text": [
      "This is class 1\n"
     ]
    }
   ],
   "source": [
    "obj_class3.test_class1()"
   ]
  }
 ],
 "metadata": {
  "kernelspec": {
   "display_name": "Python 3 (ipykernel)",
   "language": "python",
   "name": "python3"
  },
  "language_info": {
   "codemirror_mode": {
    "name": "ipython",
    "version": 3
   },
   "file_extension": ".py",
   "mimetype": "text/x-python",
   "name": "python",
   "nbconvert_exporter": "python",
   "pygments_lexer": "ipython3",
   "version": "3.10.8"
  }
 },
 "nbformat": 4,
 "nbformat_minor": 5
}
