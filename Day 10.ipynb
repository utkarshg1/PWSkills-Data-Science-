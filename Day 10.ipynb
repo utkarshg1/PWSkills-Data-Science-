{
 "cells": [
  {
   "cell_type": "markdown",
   "id": "60d466e2-0c9b-411d-a96f-a0c194cd190f",
   "metadata": {},
   "source": [
    "# Day 10 - OOPS Concept - Utkarsh Gaikwad"
   ]
  },
  {
   "cell_type": "markdown",
   "id": "39d97ad8-2c69-4105-a040-df2b36113cc3",
   "metadata": {},
   "source": [
    "## 1. Decorators"
   ]
  },
  {
   "cell_type": "code",
   "execution_count": 1,
   "id": "74144361-0cdc-42e7-82fc-01f162d5a2a7",
   "metadata": {},
   "outputs": [],
   "source": [
    "def test():\n",
    "    print('This is start of my function')\n",
    "    print(4+5)\n",
    "    print('This is end of the function')"
   ]
  },
  {
   "cell_type": "code",
   "execution_count": 2,
   "id": "c80387f5-e8c0-4c10-894b-9073e43b9724",
   "metadata": {},
   "outputs": [
    {
     "name": "stdout",
     "output_type": "stream",
     "text": [
      "This is start of my function\n",
      "9\n",
      "This is end of the function\n"
     ]
    }
   ],
   "source": [
    "test()"
   ]
  },
  {
   "cell_type": "code",
   "execution_count": 6,
   "id": "fc89aab0-7e58-4691-9d25-eec40d59a62e",
   "metadata": {},
   "outputs": [],
   "source": [
    "def deco(func):\n",
    "    def inner_deco():\n",
    "        print('This is start of my function')\n",
    "        func()\n",
    "        print('This is end of the function')\n",
    "    return inner_deco"
   ]
  },
  {
   "cell_type": "code",
   "execution_count": 9,
   "id": "1eadeff4-3d36-4e6c-8987-1571b680705c",
   "metadata": {},
   "outputs": [],
   "source": [
    "@deco\n",
    "def test1():\n",
    "    print(9*8)"
   ]
  },
  {
   "cell_type": "code",
   "execution_count": 10,
   "id": "fef98a71-aef5-4b3f-9ed0-ac7ac27c461b",
   "metadata": {},
   "outputs": [
    {
     "name": "stdout",
     "output_type": "stream",
     "text": [
      "This is start of my function\n",
      "72\n",
      "This is end of the function\n"
     ]
    }
   ],
   "source": [
    "test1()"
   ]
  },
  {
   "cell_type": "code",
   "execution_count": 17,
   "id": "0943b18a-5740-4ff2-bb0b-72497646851b",
   "metadata": {},
   "outputs": [],
   "source": [
    "import time \n",
    "def timer_test(func):\n",
    "    def inner_timer():\n",
    "        start = time.time()\n",
    "        func()\n",
    "        end = time.time()\n",
    "        print(end-start)\n",
    "    return inner_timer"
   ]
  },
  {
   "cell_type": "code",
   "execution_count": 18,
   "id": "82f08552-596b-419d-b39d-36394ba34d84",
   "metadata": {},
   "outputs": [],
   "source": [
    "@timer_test\n",
    "def test2():\n",
    "    print(7*9)"
   ]
  },
  {
   "cell_type": "code",
   "execution_count": 19,
   "id": "e4b72e15-2f72-45c5-a8a9-63dd3a570def",
   "metadata": {},
   "outputs": [
    {
     "name": "stdout",
     "output_type": "stream",
     "text": [
      "63\n",
      "4.649162292480469e-05\n"
     ]
    }
   ],
   "source": [
    "test2()"
   ]
  },
  {
   "cell_type": "code",
   "execution_count": 22,
   "id": "050cf77f-7ea3-4c82-9bbe-550b3301dd70",
   "metadata": {},
   "outputs": [],
   "source": [
    "@timer_test\n",
    "def test3():\n",
    "    for i in range(100000000):\n",
    "        pass"
   ]
  },
  {
   "cell_type": "code",
   "execution_count": 23,
   "id": "d07e53b4-bbd0-4b16-96ce-9a3a48aea350",
   "metadata": {},
   "outputs": [
    {
     "name": "stdout",
     "output_type": "stream",
     "text": [
      "2.6537249088287354\n"
     ]
    }
   ],
   "source": [
    "test3()"
   ]
  },
  {
   "cell_type": "markdown",
   "id": "8f90dd3c-80d1-4174-a9b7-326722e65385",
   "metadata": {},
   "source": [
    "## 2. Class Methods"
   ]
  },
  {
   "cell_type": "code",
   "execution_count": 24,
   "id": "af74ed89-61be-4445-9b09-1aeba4ce0b29",
   "metadata": {},
   "outputs": [],
   "source": [
    "class pwskills:\n",
    "    \n",
    "    def __init__(self,name,email):\n",
    "        self.name = name\n",
    "        self.email = email\n",
    "    \n",
    "    def student_details(self):\n",
    "        print(self.name,self.email)"
   ]
  },
  {
   "cell_type": "code",
   "execution_count": 25,
   "id": "56029d49-3aa9-4306-ab14-afc2cb6ad619",
   "metadata": {},
   "outputs": [],
   "source": [
    "obj_student = pwskills('Utkarsh','test@test.com')"
   ]
  },
  {
   "cell_type": "code",
   "execution_count": 26,
   "id": "b3f79d36-8189-4021-a208-defe891ea58e",
   "metadata": {},
   "outputs": [
    {
     "name": "stdout",
     "output_type": "stream",
     "text": [
      "Utkarsh test@test.com\n"
     ]
    }
   ],
   "source": [
    "obj_student.student_details()"
   ]
  },
  {
   "cell_type": "code",
   "execution_count": 27,
   "id": "d2bd847e-32fd-4006-8a26-eff32d5652c8",
   "metadata": {},
   "outputs": [
    {
     "data": {
      "text/plain": [
       "'Utkarsh'"
      ]
     },
     "execution_count": 27,
     "metadata": {},
     "output_type": "execute_result"
    }
   ],
   "source": [
    "obj_student.name"
   ]
  },
  {
   "cell_type": "code",
   "execution_count": 28,
   "id": "42293577-a9a2-4d89-a57d-9d70c7566344",
   "metadata": {},
   "outputs": [
    {
     "data": {
      "text/plain": [
       "'test@test.com'"
      ]
     },
     "execution_count": 28,
     "metadata": {},
     "output_type": "execute_result"
    }
   ],
   "source": [
    "obj_student.email"
   ]
  },
  {
   "cell_type": "code",
   "execution_count": 36,
   "id": "d37f51bc-8cd6-4194-82d3-4d50cce9d8c3",
   "metadata": {},
   "outputs": [],
   "source": [
    "class pwskills1:\n",
    "    \n",
    "    def __init__(self,name,email):\n",
    "        self.name = name\n",
    "        self.email = email\n",
    "        \n",
    "    @classmethod\n",
    "    def details(cls,name1,email1):\n",
    "        return cls(name1,email1)\n",
    "    \n",
    "    def student_details(self):\n",
    "        print(self.name,self.email)"
   ]
  },
  {
   "cell_type": "code",
   "execution_count": 37,
   "id": "c8e368f7-a95a-475c-b194-6b754fc0b902",
   "metadata": {},
   "outputs": [
    {
     "data": {
      "text/plain": [
       "<__main__.pwskills1 at 0x7f2736125900>"
      ]
     },
     "execution_count": 37,
     "metadata": {},
     "output_type": "execute_result"
    }
   ],
   "source": [
    "pw1 = pwskills1.details('example','test@test.com')\n",
    "pw1"
   ]
  },
  {
   "cell_type": "code",
   "execution_count": 38,
   "id": "98e7fe3f-b4e2-43e1-bbaf-b73097c457dc",
   "metadata": {},
   "outputs": [
    {
     "data": {
      "text/plain": [
       "'example'"
      ]
     },
     "execution_count": 38,
     "metadata": {},
     "output_type": "execute_result"
    }
   ],
   "source": [
    "pw1.name"
   ]
  },
  {
   "cell_type": "code",
   "execution_count": 39,
   "id": "5c6ee3fb-c163-4f0b-a503-022662082db5",
   "metadata": {},
   "outputs": [
    {
     "data": {
      "text/plain": [
       "'test@test.com'"
      ]
     },
     "execution_count": 39,
     "metadata": {},
     "output_type": "execute_result"
    }
   ],
   "source": [
    "pw1.email"
   ]
  },
  {
   "cell_type": "code",
   "execution_count": 40,
   "id": "99149072-dfab-47b5-ae33-8994c7a88397",
   "metadata": {},
   "outputs": [
    {
     "name": "stdout",
     "output_type": "stream",
     "text": [
      "example test@test.com\n"
     ]
    }
   ],
   "source": [
    "pw1.student_details()"
   ]
  },
  {
   "cell_type": "code",
   "execution_count": 45,
   "id": "61a2a4f7-84e1-4409-b79f-e419b68474fe",
   "metadata": {},
   "outputs": [],
   "source": [
    "class pwskills2:\n",
    "    \n",
    "    mob_number = 123245\n",
    "    \n",
    "    def __init__(self,name,email):\n",
    "        self.name = name\n",
    "        self.email = email\n",
    "    \n",
    "    @classmethod\n",
    "    def change_number(cls,mobile):\n",
    "        pwskills2.mob_number = mobile\n",
    "        \n",
    "    @classmethod\n",
    "    def details(cls,name1,email1):\n",
    "        return cls(name1,email1)\n",
    "    \n",
    "    def student_details(self):\n",
    "        print(self.name,self.email,pwskills2.mob_number)"
   ]
  },
  {
   "cell_type": "code",
   "execution_count": 42,
   "id": "c2c68700-394a-454d-ae4a-79935a90b2e1",
   "metadata": {},
   "outputs": [
    {
     "data": {
      "text/plain": [
       "123245"
      ]
     },
     "execution_count": 42,
     "metadata": {},
     "output_type": "execute_result"
    }
   ],
   "source": [
    "pwskills2.mob_number"
   ]
  },
  {
   "cell_type": "code",
   "execution_count": 43,
   "id": "941a99b7-a8b6-45fc-8f18-0091f5baf5b9",
   "metadata": {},
   "outputs": [],
   "source": [
    "pw2 = pwskills2('test','meow@test.com')"
   ]
  },
  {
   "cell_type": "code",
   "execution_count": 44,
   "id": "f79e8958-c5d0-409e-8598-6c1b21927492",
   "metadata": {},
   "outputs": [
    {
     "name": "stdout",
     "output_type": "stream",
     "text": [
      "test meow@test.com\n"
     ]
    }
   ],
   "source": [
    "pw2.student_details()"
   ]
  },
  {
   "cell_type": "code",
   "execution_count": 46,
   "id": "e6d25a1c-4b2a-4907-b9bf-baeee00e79c8",
   "metadata": {},
   "outputs": [],
   "source": [
    "pw3 = pwskills2('example2','test@email.com')"
   ]
  },
  {
   "cell_type": "code",
   "execution_count": 47,
   "id": "d5c9013a-2e19-49c9-a5a8-f28d31db40b4",
   "metadata": {},
   "outputs": [
    {
     "name": "stdout",
     "output_type": "stream",
     "text": [
      "example2 test@email.com 123245\n"
     ]
    }
   ],
   "source": [
    "pw3.student_details()"
   ]
  },
  {
   "cell_type": "code",
   "execution_count": 48,
   "id": "055cb272-2e16-4088-83db-7406eec0c285",
   "metadata": {},
   "outputs": [],
   "source": [
    "pw3.change_number(12312455234)"
   ]
  },
  {
   "cell_type": "code",
   "execution_count": 49,
   "id": "29ed1315-ebdc-474b-b0a5-9aa0de3bc45a",
   "metadata": {},
   "outputs": [
    {
     "name": "stdout",
     "output_type": "stream",
     "text": [
      "example2 test@email.com 12312455234\n"
     ]
    }
   ],
   "source": [
    "pw3.student_details()"
   ]
  },
  {
   "cell_type": "code",
   "execution_count": 52,
   "id": "4d77a607-1f52-44fb-8013-0de128258c19",
   "metadata": {},
   "outputs": [
    {
     "data": {
      "text/plain": [
       "12312455234"
      ]
     },
     "execution_count": 52,
     "metadata": {},
     "output_type": "execute_result"
    }
   ],
   "source": [
    "pwskills2.mob_number"
   ]
  },
  {
   "cell_type": "code",
   "execution_count": 53,
   "id": "478179a0-f131-435d-adc8-37d27c145147",
   "metadata": {},
   "outputs": [],
   "source": [
    "pw2_obj = pwskills2('Utkarsh','sample@gmail.com')"
   ]
  },
  {
   "cell_type": "code",
   "execution_count": 54,
   "id": "90d9d3df-20f2-455b-927f-3b7c1d016651",
   "metadata": {},
   "outputs": [
    {
     "data": {
      "text/plain": [
       "<__main__.pwskills2 at 0x7f27361b6aa0>"
      ]
     },
     "execution_count": 54,
     "metadata": {},
     "output_type": "execute_result"
    }
   ],
   "source": [
    "pw2_obj.details('example','test@test.com')"
   ]
  },
  {
   "cell_type": "code",
   "execution_count": 55,
   "id": "f49662c9-bcf1-410a-a7d1-1f4be52c6c39",
   "metadata": {},
   "outputs": [
    {
     "name": "stdout",
     "output_type": "stream",
     "text": [
      "Utkarsh sample@gmail.com 12312455234\n"
     ]
    }
   ],
   "source": [
    "pw2_obj.student_details()"
   ]
  },
  {
   "cell_type": "code",
   "execution_count": 56,
   "id": "9e113bc0-3dc3-45b2-976c-8ce3d49eb138",
   "metadata": {},
   "outputs": [],
   "source": [
    "pw2_obj.change_number(123)"
   ]
  },
  {
   "cell_type": "code",
   "execution_count": 57,
   "id": "d1975675-736e-4133-b8be-7e66ae54b0fe",
   "metadata": {},
   "outputs": [
    {
     "data": {
      "text/plain": [
       "123"
      ]
     },
     "execution_count": 57,
     "metadata": {},
     "output_type": "execute_result"
    }
   ],
   "source": [
    "pw2_obj.mob_number"
   ]
  },
  {
   "cell_type": "code",
   "execution_count": 58,
   "id": "1a649eb0-4ef0-4aa2-a407-3dc0191f68a0",
   "metadata": {},
   "outputs": [
    {
     "name": "stdout",
     "output_type": "stream",
     "text": [
      "Utkarsh sample@gmail.com 123\n"
     ]
    }
   ],
   "source": [
    "pw2_obj.student_details()"
   ]
  },
  {
   "cell_type": "code",
   "execution_count": 59,
   "id": "ce2d8ce5-5b32-447c-b6e3-dd3ed4a2a083",
   "metadata": {},
   "outputs": [],
   "source": [
    "class pwskills3:\n",
    "    \n",
    "    mob_number = 123245\n",
    "    \n",
    "    def __init__(self,name,email):\n",
    "        self.name = name\n",
    "        self.email = email\n",
    "    \n",
    "    @classmethod\n",
    "    def change_number(cls,mobile):\n",
    "        pwskills2.mob_number = mobile\n",
    "        \n",
    "    @classmethod\n",
    "    def details(cls,name1,email1):\n",
    "        return cls(name1,email1)\n",
    "    \n",
    "    def student_details(self):\n",
    "        print(self.name,self.email,pwskills2.mob_number)"
   ]
  },
  {
   "cell_type": "code",
   "execution_count": 60,
   "id": "79b1d511-326a-448f-bfb0-e0b0f385649d",
   "metadata": {},
   "outputs": [],
   "source": [
    "def course_details(cls, course_name):\n",
    "    print('Course Details : ',course_name)"
   ]
  },
  {
   "cell_type": "code",
   "execution_count": 62,
   "id": "82307a25-dd78-44e0-9930-d8e4c4627b5e",
   "metadata": {},
   "outputs": [],
   "source": [
    "pwskills3.course_details = classmethod(course_details)"
   ]
  },
  {
   "cell_type": "code",
   "execution_count": 64,
   "id": "b30bdc3f-8b11-4d7c-a2b6-c3d426afc034",
   "metadata": {},
   "outputs": [
    {
     "name": "stdout",
     "output_type": "stream",
     "text": [
      "Course Details :  Web Dev\n"
     ]
    }
   ],
   "source": [
    "pwskills3.course_details('Web Dev')"
   ]
  },
  {
   "cell_type": "code",
   "execution_count": 67,
   "id": "081e0bbc-d770-4e60-bd08-60f103fa2244",
   "metadata": {},
   "outputs": [],
   "source": [
    "pw3 = pwskills3('Utkarsh','example@gmail.com')"
   ]
  },
  {
   "cell_type": "code",
   "execution_count": 68,
   "id": "38db89a8-39b7-42dd-ab60-0142f143eb93",
   "metadata": {},
   "outputs": [
    {
     "name": "stdout",
     "output_type": "stream",
     "text": [
      "Course Details :  Full Stack Developer\n"
     ]
    }
   ],
   "source": [
    "pw3.course_details('Full Stack Developer')"
   ]
  },
  {
   "cell_type": "code",
   "execution_count": 69,
   "id": "62fb5334-add2-4fff-a945-2e9d65c33093",
   "metadata": {},
   "outputs": [],
   "source": [
    "class pwskills4:\n",
    "    \n",
    "    mob_number = 123245\n",
    "    \n",
    "    def __init__(self,name,email):\n",
    "        self.name = name\n",
    "        self.email = email\n",
    "    \n",
    "    @classmethod\n",
    "    def change_number(cls,mobile):\n",
    "        pwskills2.mob_number = mobile\n",
    "        \n",
    "    @classmethod\n",
    "    def details(cls,name1,email1):\n",
    "        return cls(name1,email1)\n",
    "    \n",
    "    def student_details(self):\n",
    "        print(self.name,self.email,pwskills2.mob_number)"
   ]
  },
  {
   "cell_type": "code",
   "execution_count": 70,
   "id": "fff35423-158c-4ea5-a297-c2c64e771d50",
   "metadata": {},
   "outputs": [],
   "source": [
    "del pwskills4.change_number"
   ]
  },
  {
   "cell_type": "code",
   "execution_count": 71,
   "id": "1b7ea595-ba61-48e8-bb3b-d3986fba63b1",
   "metadata": {},
   "outputs": [
    {
     "ename": "AttributeError",
     "evalue": "type object 'pwskills4' has no attribute 'change_number'",
     "output_type": "error",
     "traceback": [
      "\u001b[0;31m---------------------------------------------------------------------------\u001b[0m",
      "\u001b[0;31mAttributeError\u001b[0m                            Traceback (most recent call last)",
      "Cell \u001b[0;32mIn[71], line 1\u001b[0m\n\u001b[0;32m----> 1\u001b[0m \u001b[43mpwskills4\u001b[49m\u001b[38;5;241;43m.\u001b[39;49m\u001b[43mchange_number\u001b[49m(\u001b[38;5;241m12312\u001b[39m)\n",
      "\u001b[0;31mAttributeError\u001b[0m: type object 'pwskills4' has no attribute 'change_number'"
     ]
    }
   ],
   "source": [
    "pwskills4.change_number(12312)"
   ]
  },
  {
   "cell_type": "code",
   "execution_count": 72,
   "id": "efb55ef5-95f8-449b-a895-c0b0ccab3632",
   "metadata": {},
   "outputs": [],
   "source": [
    "delattr(pwskills4,'student_details')"
   ]
  },
  {
   "cell_type": "code",
   "execution_count": 74,
   "id": "8ecbc0af-8f6b-41f5-a756-42ae1be0dea1",
   "metadata": {},
   "outputs": [
    {
     "ename": "AttributeError",
     "evalue": "type object 'pwskills4' has no attribute 'student_details'",
     "output_type": "error",
     "traceback": [
      "\u001b[0;31m---------------------------------------------------------------------------\u001b[0m",
      "\u001b[0;31mAttributeError\u001b[0m                            Traceback (most recent call last)",
      "Cell \u001b[0;32mIn[74], line 1\u001b[0m\n\u001b[0;32m----> 1\u001b[0m \u001b[43mpwskills4\u001b[49m\u001b[38;5;241;43m.\u001b[39;49m\u001b[43mstudent_details\u001b[49m()\n",
      "\u001b[0;31mAttributeError\u001b[0m: type object 'pwskills4' has no attribute 'student_details'"
     ]
    }
   ],
   "source": [
    "pwskills4.student_details()"
   ]
  },
  {
   "cell_type": "code",
   "execution_count": 75,
   "id": "6458ae50-81fb-413c-9f48-67a489f3f269",
   "metadata": {},
   "outputs": [
    {
     "data": {
      "text/plain": [
       "123245"
      ]
     },
     "execution_count": 75,
     "metadata": {},
     "output_type": "execute_result"
    }
   ],
   "source": [
    "pwskills4.mob_number"
   ]
  },
  {
   "cell_type": "code",
   "execution_count": 76,
   "id": "50999930-5210-4c63-89e0-16c3a1f8225e",
   "metadata": {},
   "outputs": [],
   "source": [
    "delattr(pwskills4,'mob_number')"
   ]
  },
  {
   "cell_type": "code",
   "execution_count": 77,
   "id": "606917ef-ee91-48e6-8265-40e1dde0075b",
   "metadata": {},
   "outputs": [
    {
     "ename": "AttributeError",
     "evalue": "type object 'pwskills4' has no attribute 'mob_number'",
     "output_type": "error",
     "traceback": [
      "\u001b[0;31m---------------------------------------------------------------------------\u001b[0m",
      "\u001b[0;31mAttributeError\u001b[0m                            Traceback (most recent call last)",
      "Cell \u001b[0;32mIn[77], line 1\u001b[0m\n\u001b[0;32m----> 1\u001b[0m \u001b[43mpwskills4\u001b[49m\u001b[38;5;241;43m.\u001b[39;49m\u001b[43mmob_number\u001b[49m\n",
      "\u001b[0;31mAttributeError\u001b[0m: type object 'pwskills4' has no attribute 'mob_number'"
     ]
    }
   ],
   "source": [
    "pwskills4.mob_number"
   ]
  },
  {
   "cell_type": "markdown",
   "id": "6d342317-51cd-4dd4-a3b7-6b3e34cb7b60",
   "metadata": {},
   "source": [
    "## 3. Static Method"
   ]
  },
  {
   "cell_type": "code",
   "execution_count": 1,
   "id": "3dae57e3-805c-4e95-9a78-111eac625080",
   "metadata": {},
   "outputs": [],
   "source": [
    "class pwskills:\n",
    "    def student_details(self, name,email_id,mob):\n",
    "        print(name, email_id,mob)"
   ]
  },
  {
   "cell_type": "code",
   "execution_count": 2,
   "id": "83dca74d-b963-421c-9241-dd215c94c67a",
   "metadata": {},
   "outputs": [
    {
     "name": "stdout",
     "output_type": "stream",
     "text": [
      "Utkarsh example@test.com 12345\n"
     ]
    }
   ],
   "source": [
    "obj = pwskills()\n",
    "obj.student_details('Utkarsh','example@test.com',12345)"
   ]
  },
  {
   "cell_type": "code",
   "execution_count": 14,
   "id": "c6a1c41f-19a0-4157-ae55-6991f2237a5b",
   "metadata": {},
   "outputs": [],
   "source": [
    "class pwskills1:\n",
    "    \n",
    "    def student_details(self, name,email_id,mob):\n",
    "        print(name, email_id,mob)\n",
    "        \n",
    "    @staticmethod\n",
    "    def mentor_list(list_mentor):\n",
    "        print(list_mentor) \n",
    "    \n",
    "    def mentor(self, list_mentor):\n",
    "        print(list_mentor)"
   ]
  },
  {
   "cell_type": "code",
   "execution_count": 15,
   "id": "187d4468-dda0-47ef-a946-196078a8d2ba",
   "metadata": {},
   "outputs": [
    {
     "name": "stdout",
     "output_type": "stream",
     "text": [
      "['Sudhanshu Kumar', 'Krish Naik']\n"
     ]
    }
   ],
   "source": [
    "pwskills1.mentor_list(['Sudhanshu Kumar','Krish Naik'])"
   ]
  },
  {
   "cell_type": "code",
   "execution_count": 18,
   "id": "e941203d-3ea1-4f31-9802-8e550b0210bb",
   "metadata": {},
   "outputs": [],
   "source": [
    "pw1 = pwskills1()"
   ]
  },
  {
   "cell_type": "code",
   "execution_count": 19,
   "id": "e387ffef-3b50-42c1-bd2a-404f962b0551",
   "metadata": {},
   "outputs": [
    {
     "name": "stdout",
     "output_type": "stream",
     "text": [
      "['Sudhanshu Kumar', 'Krish Naik']\n"
     ]
    }
   ],
   "source": [
    "pw1.mentor(['Sudhanshu Kumar','Krish Naik'])"
   ]
  },
  {
   "cell_type": "code",
   "execution_count": 20,
   "id": "ec428be2-d5e3-4817-9782-a842809e86ee",
   "metadata": {},
   "outputs": [
    {
     "name": "stdout",
     "output_type": "stream",
     "text": [
      "['sudh', 'krish']\n"
     ]
    }
   ],
   "source": [
    "pw1.mentor_list(['sudh','krish'])"
   ]
  },
  {
   "cell_type": "code",
   "execution_count": 22,
   "id": "2f3f6a1b-557d-4737-ad12-822f46affa81",
   "metadata": {},
   "outputs": [],
   "source": [
    "class pwskills2:\n",
    "    \n",
    "    def student_details(self, name,email_id,mob):\n",
    "        print(name, email_id,mob)\n",
    "        \n",
    "    @staticmethod\n",
    "    def mentor_mail_id(mail_id):\n",
    "        print(mail_id)\n",
    "                \n",
    "    @staticmethod\n",
    "    def mentor_list(list_mentor):\n",
    "        print(list_mentor)\n",
    "        pwskills2.mentor_mail_id(['sudh@gmail.com','krish@gmail.com'])\n",
    "        \n",
    "    @classmethod\n",
    "    def class_name(cls, class_name):\n",
    "        cls.mentor_list(['Sudh','Krish'])\n",
    "    \n",
    "    def mentor(self, list_mentor):\n",
    "        print(list_mentor)\n",
    "        self.mentor_list(['Sudh','Krish'])"
   ]
  },
  {
   "cell_type": "code",
   "execution_count": 24,
   "id": "350f7a97-4d21-4e2f-8c44-1d17da3be4c6",
   "metadata": {},
   "outputs": [],
   "source": [
    "pw2 = pwskills2()"
   ]
  },
  {
   "cell_type": "code",
   "execution_count": 25,
   "id": "2eec8a62-f6d2-44ba-86d5-fd8ba786df28",
   "metadata": {},
   "outputs": [
    {
     "name": "stdout",
     "output_type": "stream",
     "text": [
      "Utkarsh test@test.com 21214\n"
     ]
    }
   ],
   "source": [
    "pw2.student_details('Utkarsh','test@test.com',21214)"
   ]
  },
  {
   "cell_type": "code",
   "execution_count": 26,
   "id": "95df2c6a-c544-459c-a486-a973a073b1bc",
   "metadata": {},
   "outputs": [
    {
     "name": "stdout",
     "output_type": "stream",
     "text": [
      "['sudh@gmail.com', 'krish@gmail.com']\n"
     ]
    }
   ],
   "source": [
    "pw2.mentor_mail_id(['sudh@gmail.com','krish@gmail.com'])"
   ]
  },
  {
   "cell_type": "code",
   "execution_count": 27,
   "id": "c0fb1fcd-2ce4-4ba7-9e5b-3a4cff2debe9",
   "metadata": {},
   "outputs": [
    {
     "name": "stdout",
     "output_type": "stream",
     "text": [
      "['sudh', 'krish']\n",
      "['sudh@gmail.com', 'krish@gmail.com']\n"
     ]
    }
   ],
   "source": [
    "pw2.mentor_list(['sudh','krish'])"
   ]
  },
  {
   "cell_type": "code",
   "execution_count": 29,
   "id": "167bc70b-9928-40b1-8cd8-6441fc4bc9e4",
   "metadata": {},
   "outputs": [
    {
     "name": "stdout",
     "output_type": "stream",
     "text": [
      "['Sudh', 'Krish']\n",
      "['sudh@gmail.com', 'krish@gmail.com']\n"
     ]
    }
   ],
   "source": [
    "pw2.class_name('DS Masters')"
   ]
  },
  {
   "cell_type": "code",
   "execution_count": 30,
   "id": "477bd0ba-ec64-4740-ad11-d1d435747863",
   "metadata": {},
   "outputs": [
    {
     "name": "stdout",
     "output_type": "stream",
     "text": [
      "['sudh@gmail.com', 'krish@gmail.com']\n"
     ]
    }
   ],
   "source": [
    "pwskills2.mentor_mail_id(['sudh@gmail.com','krish@gmail.com'])"
   ]
  },
  {
   "cell_type": "markdown",
   "id": "36ac91c3-e2a7-4da5-a517-c4ae0a6d8c1f",
   "metadata": {},
   "source": [
    "## 4. Special (Magic/Dunder) Methods"
   ]
  },
  {
   "cell_type": "code",
   "execution_count": 31,
   "id": "12e6bd77-af24-482d-b11e-370803103d93",
   "metadata": {},
   "outputs": [
    {
     "data": {
      "text/plain": [
       "['__abs__',\n",
       " '__add__',\n",
       " '__and__',\n",
       " '__bool__',\n",
       " '__ceil__',\n",
       " '__class__',\n",
       " '__delattr__',\n",
       " '__dir__',\n",
       " '__divmod__',\n",
       " '__doc__',\n",
       " '__eq__',\n",
       " '__float__',\n",
       " '__floor__',\n",
       " '__floordiv__',\n",
       " '__format__',\n",
       " '__ge__',\n",
       " '__getattribute__',\n",
       " '__getnewargs__',\n",
       " '__gt__',\n",
       " '__hash__',\n",
       " '__index__',\n",
       " '__init__',\n",
       " '__init_subclass__',\n",
       " '__int__',\n",
       " '__invert__',\n",
       " '__le__',\n",
       " '__lshift__',\n",
       " '__lt__',\n",
       " '__mod__',\n",
       " '__mul__',\n",
       " '__ne__',\n",
       " '__neg__',\n",
       " '__new__',\n",
       " '__or__',\n",
       " '__pos__',\n",
       " '__pow__',\n",
       " '__radd__',\n",
       " '__rand__',\n",
       " '__rdivmod__',\n",
       " '__reduce__',\n",
       " '__reduce_ex__',\n",
       " '__repr__',\n",
       " '__rfloordiv__',\n",
       " '__rlshift__',\n",
       " '__rmod__',\n",
       " '__rmul__',\n",
       " '__ror__',\n",
       " '__round__',\n",
       " '__rpow__',\n",
       " '__rrshift__',\n",
       " '__rshift__',\n",
       " '__rsub__',\n",
       " '__rtruediv__',\n",
       " '__rxor__',\n",
       " '__setattr__',\n",
       " '__sizeof__',\n",
       " '__str__',\n",
       " '__sub__',\n",
       " '__subclasshook__',\n",
       " '__truediv__',\n",
       " '__trunc__',\n",
       " '__xor__',\n",
       " 'as_integer_ratio',\n",
       " 'bit_count',\n",
       " 'bit_length',\n",
       " 'conjugate',\n",
       " 'denominator',\n",
       " 'from_bytes',\n",
       " 'imag',\n",
       " 'numerator',\n",
       " 'real',\n",
       " 'to_bytes']"
      ]
     },
     "execution_count": 31,
     "metadata": {},
     "output_type": "execute_result"
    }
   ],
   "source": [
    "dir(int)"
   ]
  },
  {
   "cell_type": "code",
   "execution_count": 32,
   "id": "5a5230e9-6b83-4b52-bd5b-c3b6b93bcaab",
   "metadata": {},
   "outputs": [],
   "source": [
    "a = 11"
   ]
  },
  {
   "cell_type": "code",
   "execution_count": 33,
   "id": "429538ee-5468-4eb1-853f-fddd700e2ea5",
   "metadata": {},
   "outputs": [
    {
     "data": {
      "text/plain": [
       "23"
      ]
     },
     "execution_count": 33,
     "metadata": {},
     "output_type": "execute_result"
    }
   ],
   "source": [
    "a + 12"
   ]
  },
  {
   "cell_type": "code",
   "execution_count": 35,
   "id": "d566b979-dd23-4101-bebe-dde72bdcafa9",
   "metadata": {},
   "outputs": [
    {
     "data": {
      "text/plain": [
       "23"
      ]
     },
     "execution_count": 35,
     "metadata": {},
     "output_type": "execute_result"
    }
   ],
   "source": [
    "a.__add__(12)"
   ]
  },
  {
   "cell_type": "code",
   "execution_count": 36,
   "id": "d2681b8d-ec92-43f1-b702-76fdb6193f71",
   "metadata": {},
   "outputs": [
    {
     "data": {
      "text/plain": [
       "['__add__',\n",
       " '__class__',\n",
       " '__contains__',\n",
       " '__delattr__',\n",
       " '__dir__',\n",
       " '__doc__',\n",
       " '__eq__',\n",
       " '__format__',\n",
       " '__ge__',\n",
       " '__getattribute__',\n",
       " '__getitem__',\n",
       " '__getnewargs__',\n",
       " '__gt__',\n",
       " '__hash__',\n",
       " '__init__',\n",
       " '__init_subclass__',\n",
       " '__iter__',\n",
       " '__le__',\n",
       " '__len__',\n",
       " '__lt__',\n",
       " '__mod__',\n",
       " '__mul__',\n",
       " '__ne__',\n",
       " '__new__',\n",
       " '__reduce__',\n",
       " '__reduce_ex__',\n",
       " '__repr__',\n",
       " '__rmod__',\n",
       " '__rmul__',\n",
       " '__setattr__',\n",
       " '__sizeof__',\n",
       " '__str__',\n",
       " '__subclasshook__',\n",
       " 'capitalize',\n",
       " 'casefold',\n",
       " 'center',\n",
       " 'count',\n",
       " 'encode',\n",
       " 'endswith',\n",
       " 'expandtabs',\n",
       " 'find',\n",
       " 'format',\n",
       " 'format_map',\n",
       " 'index',\n",
       " 'isalnum',\n",
       " 'isalpha',\n",
       " 'isascii',\n",
       " 'isdecimal',\n",
       " 'isdigit',\n",
       " 'isidentifier',\n",
       " 'islower',\n",
       " 'isnumeric',\n",
       " 'isprintable',\n",
       " 'isspace',\n",
       " 'istitle',\n",
       " 'isupper',\n",
       " 'join',\n",
       " 'ljust',\n",
       " 'lower',\n",
       " 'lstrip',\n",
       " 'maketrans',\n",
       " 'partition',\n",
       " 'removeprefix',\n",
       " 'removesuffix',\n",
       " 'replace',\n",
       " 'rfind',\n",
       " 'rindex',\n",
       " 'rjust',\n",
       " 'rpartition',\n",
       " 'rsplit',\n",
       " 'rstrip',\n",
       " 'split',\n",
       " 'splitlines',\n",
       " 'startswith',\n",
       " 'strip',\n",
       " 'swapcase',\n",
       " 'title',\n",
       " 'translate',\n",
       " 'upper',\n",
       " 'zfill']"
      ]
     },
     "execution_count": 36,
     "metadata": {},
     "output_type": "execute_result"
    }
   ],
   "source": [
    "dir(str)"
   ]
  },
  {
   "cell_type": "code",
   "execution_count": 39,
   "id": "8b87308e-c6d3-4293-8fac-791d463c4e60",
   "metadata": {},
   "outputs": [],
   "source": [
    "class pwskills:\n",
    "    \n",
    "    def __new__(cls):\n",
    "        print('This is my New')\n",
    "    \n",
    "    def __init__(self):\n",
    "        print('This is my Init')"
   ]
  },
  {
   "cell_type": "code",
   "execution_count": 40,
   "id": "e8c920d6-3fac-4137-bcbf-ce1c82fcbbae",
   "metadata": {},
   "outputs": [
    {
     "name": "stdout",
     "output_type": "stream",
     "text": [
      "This is my New\n"
     ]
    }
   ],
   "source": [
    "pw1 = pwskills()"
   ]
  },
  {
   "cell_type": "code",
   "execution_count": 50,
   "id": "9183e54c-8b0b-4891-ab3e-ba53ea155dbc",
   "metadata": {},
   "outputs": [],
   "source": [
    "class pwskills1:\n",
    "    \n",
    "    def __init__(self):\n",
    "        self.mobile_number = 121434\n",
    "        \n",
    "    def __str__(self):\n",
    "        return (\"This is a magic method which will print details of object\")"
   ]
  },
  {
   "cell_type": "code",
   "execution_count": 51,
   "id": "b896ac9a-380d-4861-90de-a4d10c119b54",
   "metadata": {},
   "outputs": [],
   "source": [
    "pw2 = pwskills1()"
   ]
  },
  {
   "cell_type": "code",
   "execution_count": 52,
   "id": "3ed65527-768d-4ec4-9d88-7a41847aec74",
   "metadata": {},
   "outputs": [
    {
     "data": {
      "text/plain": [
       "<__main__.pwskills1 at 0x7f5a06442e60>"
      ]
     },
     "execution_count": 52,
     "metadata": {},
     "output_type": "execute_result"
    }
   ],
   "source": [
    "pw2"
   ]
  },
  {
   "cell_type": "code",
   "execution_count": 53,
   "id": "a575b91a-ca6f-44a7-b16f-b416a570fde6",
   "metadata": {},
   "outputs": [
    {
     "name": "stdout",
     "output_type": "stream",
     "text": [
      "This is a magic method which will print details of object\n"
     ]
    }
   ],
   "source": [
    "print(pw2)"
   ]
  },
  {
   "cell_type": "code",
   "execution_count": 54,
   "id": "1f19e8f3-9e2d-4f7e-a4c3-d80edeef5bca",
   "metadata": {},
   "outputs": [
    {
     "data": {
      "text/plain": [
       "['__class__',\n",
       " '__class_getitem__',\n",
       " '__contains__',\n",
       " '__delattr__',\n",
       " '__delitem__',\n",
       " '__dir__',\n",
       " '__doc__',\n",
       " '__eq__',\n",
       " '__format__',\n",
       " '__ge__',\n",
       " '__getattribute__',\n",
       " '__getitem__',\n",
       " '__gt__',\n",
       " '__hash__',\n",
       " '__init__',\n",
       " '__init_subclass__',\n",
       " '__ior__',\n",
       " '__iter__',\n",
       " '__le__',\n",
       " '__len__',\n",
       " '__lt__',\n",
       " '__ne__',\n",
       " '__new__',\n",
       " '__or__',\n",
       " '__reduce__',\n",
       " '__reduce_ex__',\n",
       " '__repr__',\n",
       " '__reversed__',\n",
       " '__ror__',\n",
       " '__setattr__',\n",
       " '__setitem__',\n",
       " '__sizeof__',\n",
       " '__str__',\n",
       " '__subclasshook__',\n",
       " 'clear',\n",
       " 'copy',\n",
       " 'fromkeys',\n",
       " 'get',\n",
       " 'items',\n",
       " 'keys',\n",
       " 'pop',\n",
       " 'popitem',\n",
       " 'setdefault',\n",
       " 'update',\n",
       " 'values']"
      ]
     },
     "execution_count": 54,
     "metadata": {},
     "output_type": "execute_result"
    }
   ],
   "source": [
    "dir(dict)"
   ]
  },
  {
   "cell_type": "code",
   "execution_count": 55,
   "id": "b9d92695-9339-4970-beb8-ae76f1ae4973",
   "metadata": {},
   "outputs": [
    {
     "data": {
      "text/plain": [
       "['__add__',\n",
       " '__class__',\n",
       " '__class_getitem__',\n",
       " '__contains__',\n",
       " '__delattr__',\n",
       " '__dir__',\n",
       " '__doc__',\n",
       " '__eq__',\n",
       " '__format__',\n",
       " '__ge__',\n",
       " '__getattribute__',\n",
       " '__getitem__',\n",
       " '__getnewargs__',\n",
       " '__gt__',\n",
       " '__hash__',\n",
       " '__init__',\n",
       " '__init_subclass__',\n",
       " '__iter__',\n",
       " '__le__',\n",
       " '__len__',\n",
       " '__lt__',\n",
       " '__mul__',\n",
       " '__ne__',\n",
       " '__new__',\n",
       " '__reduce__',\n",
       " '__reduce_ex__',\n",
       " '__repr__',\n",
       " '__rmul__',\n",
       " '__setattr__',\n",
       " '__sizeof__',\n",
       " '__str__',\n",
       " '__subclasshook__',\n",
       " 'count',\n",
       " 'index']"
      ]
     },
     "execution_count": 55,
     "metadata": {},
     "output_type": "execute_result"
    }
   ],
   "source": [
    "dir(tuple)"
   ]
  },
  {
   "cell_type": "markdown",
   "id": "787b33c5-0271-4971-9d3b-8a873d0550c9",
   "metadata": {},
   "source": [
    "## 5. Property Decorators getters and setters"
   ]
  },
  {
   "cell_type": "code",
   "execution_count": 108,
   "id": "1b047b78-d3f9-4d22-a8bd-98dd717681b4",
   "metadata": {},
   "outputs": [],
   "source": [
    "class pwskills:\n",
    "    \n",
    "    def __init__(self,course_price,course_name):\n",
    "        self.__course_price = course_price\n",
    "        self.course_name = course_name\n",
    "        \n",
    "    @property\n",
    "    def course_price_access(self):\n",
    "        return self.__course_price\n",
    "    \n",
    "    @course_price_access.setter\n",
    "    def course_price_set(self,price):\n",
    "        if price <= 3500 :\n",
    "            pass\n",
    "        else:\n",
    "            self.__course_price = price\n",
    "    \n",
    "    @course_price_access.deleter\n",
    "    def course_price_del(self):\n",
    "        del self.__course_price    "
   ]
  },
  {
   "cell_type": "code",
   "execution_count": 109,
   "id": "5963a80b-71e4-4b91-a9b0-5ab989bcd1ba",
   "metadata": {},
   "outputs": [],
   "source": [
    "pw = pwskills(3500,'Data Science Masters')"
   ]
  },
  {
   "cell_type": "code",
   "execution_count": 110,
   "id": "bd25a199-fd46-4c4d-bb76-4aef8fb32d8b",
   "metadata": {},
   "outputs": [
    {
     "data": {
      "text/plain": [
       "'Data Science Masters'"
      ]
     },
     "execution_count": 110,
     "metadata": {},
     "output_type": "execute_result"
    }
   ],
   "source": [
    "pw.course_name"
   ]
  },
  {
   "cell_type": "code",
   "execution_count": 111,
   "id": "90d329a4-79af-4432-9417-399f8a5942ab",
   "metadata": {},
   "outputs": [
    {
     "ename": "AttributeError",
     "evalue": "'pwskills' object has no attribute 'course_price'",
     "output_type": "error",
     "traceback": [
      "\u001b[0;31m---------------------------------------------------------------------------\u001b[0m",
      "\u001b[0;31mAttributeError\u001b[0m                            Traceback (most recent call last)",
      "Cell \u001b[0;32mIn[111], line 1\u001b[0m\n\u001b[0;32m----> 1\u001b[0m \u001b[43mpw\u001b[49m\u001b[38;5;241;43m.\u001b[39;49m\u001b[43mcourse_price\u001b[49m\n",
      "\u001b[0;31mAttributeError\u001b[0m: 'pwskills' object has no attribute 'course_price'"
     ]
    }
   ],
   "source": [
    "pw.course_price"
   ]
  },
  {
   "cell_type": "code",
   "execution_count": 112,
   "id": "36b06bff-ad7a-4c46-8f18-36a4f4d1db7b",
   "metadata": {},
   "outputs": [
    {
     "data": {
      "text/plain": [
       "3500"
      ]
     },
     "execution_count": 112,
     "metadata": {},
     "output_type": "execute_result"
    }
   ],
   "source": [
    "pw._pwskills__course_price"
   ]
  },
  {
   "cell_type": "code",
   "execution_count": 113,
   "id": "40d60030-05b7-46d9-9593-7de5fbb59f64",
   "metadata": {},
   "outputs": [
    {
     "data": {
      "text/plain": [
       "3500"
      ]
     },
     "execution_count": 113,
     "metadata": {},
     "output_type": "execute_result"
    }
   ],
   "source": [
    "pw.course_price_access"
   ]
  },
  {
   "cell_type": "code",
   "execution_count": 114,
   "id": "c0f7cbf2-30ab-4fb0-a80d-bd244efcbdc4",
   "metadata": {},
   "outputs": [],
   "source": [
    "pw.course_price_set=2300"
   ]
  },
  {
   "cell_type": "code",
   "execution_count": 115,
   "id": "bde88468-2a84-47c4-8e09-fab7e343d48e",
   "metadata": {},
   "outputs": [
    {
     "data": {
      "text/plain": [
       "3500"
      ]
     },
     "execution_count": 115,
     "metadata": {},
     "output_type": "execute_result"
    }
   ],
   "source": [
    "pw.course_price_access"
   ]
  },
  {
   "cell_type": "code",
   "execution_count": 116,
   "id": "e4f290c9-e5d6-482d-8e0f-858e2dab9923",
   "metadata": {},
   "outputs": [],
   "source": [
    "pw.course_price_set = 3700"
   ]
  },
  {
   "cell_type": "code",
   "execution_count": 117,
   "id": "20f9ebaa-bc19-414e-9a66-7fe6fd33c078",
   "metadata": {},
   "outputs": [
    {
     "data": {
      "text/plain": [
       "3700"
      ]
     },
     "execution_count": 117,
     "metadata": {},
     "output_type": "execute_result"
    }
   ],
   "source": [
    "pw.course_price_access"
   ]
  },
  {
   "cell_type": "code",
   "execution_count": 118,
   "id": "e1827320-e03a-4506-be43-86159d903a10",
   "metadata": {},
   "outputs": [],
   "source": [
    "del pw.course_price_del"
   ]
  },
  {
   "cell_type": "code",
   "execution_count": 119,
   "id": "0c3e511d-f232-4240-b882-575f0d4f8b67",
   "metadata": {},
   "outputs": [
    {
     "ename": "AttributeError",
     "evalue": "'pwskills' object has no attribute '_pwskills__course_price'",
     "output_type": "error",
     "traceback": [
      "\u001b[0;31m---------------------------------------------------------------------------\u001b[0m",
      "\u001b[0;31mAttributeError\u001b[0m                            Traceback (most recent call last)",
      "Cell \u001b[0;32mIn[119], line 1\u001b[0m\n\u001b[0;32m----> 1\u001b[0m \u001b[43mpw\u001b[49m\u001b[38;5;241;43m.\u001b[39;49m\u001b[43mcourse_price_access\u001b[49m\n",
      "Cell \u001b[0;32mIn[108], line 9\u001b[0m, in \u001b[0;36mpwskills.course_price_access\u001b[0;34m(self)\u001b[0m\n\u001b[1;32m      7\u001b[0m \u001b[38;5;129m@property\u001b[39m\n\u001b[1;32m      8\u001b[0m \u001b[38;5;28;01mdef\u001b[39;00m \u001b[38;5;21mcourse_price_access\u001b[39m(\u001b[38;5;28mself\u001b[39m):\n\u001b[0;32m----> 9\u001b[0m     \u001b[38;5;28;01mreturn\u001b[39;00m \u001b[38;5;28;43mself\u001b[39;49m\u001b[38;5;241;43m.\u001b[39;49m\u001b[43m__course_price\u001b[49m\n",
      "\u001b[0;31mAttributeError\u001b[0m: 'pwskills' object has no attribute '_pwskills__course_price'"
     ]
    }
   ],
   "source": [
    "pw.course_price_access"
   ]
  }
 ],
 "metadata": {
  "kernelspec": {
   "display_name": "Python 3 (ipykernel)",
   "language": "python",
   "name": "python3"
  },
  "language_info": {
   "codemirror_mode": {
    "name": "ipython",
    "version": 3
   },
   "file_extension": ".py",
   "mimetype": "text/x-python",
   "name": "python",
   "nbconvert_exporter": "python",
   "pygments_lexer": "ipython3",
   "version": "3.10.8"
  }
 },
 "nbformat": 4,
 "nbformat_minor": 5
}
