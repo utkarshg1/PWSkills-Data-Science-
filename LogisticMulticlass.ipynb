{
 "cells": [
  {
   "cell_type": "markdown",
   "id": "ac1c2b01-d25f-4ee6-8e4c-fd27deb3e1c7",
   "metadata": {},
   "source": [
    "# Logistic Regression Multiclass"
   ]
  },
  {
   "cell_type": "code",
   "execution_count": 3,
   "id": "d29991f1-8ba9-4719-b208-a61d0761701d",
   "metadata": {},
   "outputs": [],
   "source": [
    "# Create synthetic Dataset\n",
    "from sklearn.datasets import make_classification\n",
    "X, Y = make_classification(n_samples=1000,\n",
    "                           n_features=10,\n",
    "                           n_informative=5,\n",
    "                           n_redundant=5,\n",
    "                           n_classes=3,\n",
    "                           random_state=1)"
   ]
  },
  {
   "cell_type": "code",
   "execution_count": 6,
   "id": "1e95a68d-43f8-471f-afdd-bb30c28f3d20",
   "metadata": {},
   "outputs": [
    {
     "data": {
      "text/plain": [
       "array([0, 1, 2])"
      ]
     },
     "execution_count": 6,
     "metadata": {},
     "output_type": "execute_result"
    }
   ],
   "source": [
    "import numpy as np\n",
    "np.unique(Y)"
   ]
  },
  {
   "cell_type": "markdown",
   "id": "805e027d-96bf-422e-ab50-63f6ba22012f",
   "metadata": {},
   "source": [
    "## Train Test Split"
   ]
  },
  {
   "cell_type": "code",
   "execution_count": 7,
   "id": "f244a282-7f0a-46bd-be19-bd62cfe8907d",
   "metadata": {},
   "outputs": [],
   "source": [
    "from sklearn.model_selection import train_test_split\n",
    "xtrain, xtest, ytrain, ytest = train_test_split(X,Y,test_size=0.2, random_state=42)"
   ]
  },
  {
   "cell_type": "markdown",
   "id": "8b76cbec-a712-4924-9685-146b63685c82",
   "metadata": {},
   "source": [
    "## Logistic Regression Training"
   ]
  },
  {
   "cell_type": "code",
   "execution_count": 9,
   "id": "609f8eae-e20c-45d9-8f69-9da993da1e78",
   "metadata": {},
   "outputs": [
    {
     "data": {
      "text/html": [
       "<style>#sk-container-id-1 {color: black;background-color: white;}#sk-container-id-1 pre{padding: 0;}#sk-container-id-1 div.sk-toggleable {background-color: white;}#sk-container-id-1 label.sk-toggleable__label {cursor: pointer;display: block;width: 100%;margin-bottom: 0;padding: 0.3em;box-sizing: border-box;text-align: center;}#sk-container-id-1 label.sk-toggleable__label-arrow:before {content: \"▸\";float: left;margin-right: 0.25em;color: #696969;}#sk-container-id-1 label.sk-toggleable__label-arrow:hover:before {color: black;}#sk-container-id-1 div.sk-estimator:hover label.sk-toggleable__label-arrow:before {color: black;}#sk-container-id-1 div.sk-toggleable__content {max-height: 0;max-width: 0;overflow: hidden;text-align: left;background-color: #f0f8ff;}#sk-container-id-1 div.sk-toggleable__content pre {margin: 0.2em;color: black;border-radius: 0.25em;background-color: #f0f8ff;}#sk-container-id-1 input.sk-toggleable__control:checked~div.sk-toggleable__content {max-height: 200px;max-width: 100%;overflow: auto;}#sk-container-id-1 input.sk-toggleable__control:checked~label.sk-toggleable__label-arrow:before {content: \"▾\";}#sk-container-id-1 div.sk-estimator input.sk-toggleable__control:checked~label.sk-toggleable__label {background-color: #d4ebff;}#sk-container-id-1 div.sk-label input.sk-toggleable__control:checked~label.sk-toggleable__label {background-color: #d4ebff;}#sk-container-id-1 input.sk-hidden--visually {border: 0;clip: rect(1px 1px 1px 1px);clip: rect(1px, 1px, 1px, 1px);height: 1px;margin: -1px;overflow: hidden;padding: 0;position: absolute;width: 1px;}#sk-container-id-1 div.sk-estimator {font-family: monospace;background-color: #f0f8ff;border: 1px dotted black;border-radius: 0.25em;box-sizing: border-box;margin-bottom: 0.5em;}#sk-container-id-1 div.sk-estimator:hover {background-color: #d4ebff;}#sk-container-id-1 div.sk-parallel-item::after {content: \"\";width: 100%;border-bottom: 1px solid gray;flex-grow: 1;}#sk-container-id-1 div.sk-label:hover label.sk-toggleable__label {background-color: #d4ebff;}#sk-container-id-1 div.sk-serial::before {content: \"\";position: absolute;border-left: 1px solid gray;box-sizing: border-box;top: 0;bottom: 0;left: 50%;z-index: 0;}#sk-container-id-1 div.sk-serial {display: flex;flex-direction: column;align-items: center;background-color: white;padding-right: 0.2em;padding-left: 0.2em;position: relative;}#sk-container-id-1 div.sk-item {position: relative;z-index: 1;}#sk-container-id-1 div.sk-parallel {display: flex;align-items: stretch;justify-content: center;background-color: white;position: relative;}#sk-container-id-1 div.sk-item::before, #sk-container-id-1 div.sk-parallel-item::before {content: \"\";position: absolute;border-left: 1px solid gray;box-sizing: border-box;top: 0;bottom: 0;left: 50%;z-index: -1;}#sk-container-id-1 div.sk-parallel-item {display: flex;flex-direction: column;z-index: 1;position: relative;background-color: white;}#sk-container-id-1 div.sk-parallel-item:first-child::after {align-self: flex-end;width: 50%;}#sk-container-id-1 div.sk-parallel-item:last-child::after {align-self: flex-start;width: 50%;}#sk-container-id-1 div.sk-parallel-item:only-child::after {width: 0;}#sk-container-id-1 div.sk-dashed-wrapped {border: 1px dashed gray;margin: 0 0.4em 0.5em 0.4em;box-sizing: border-box;padding-bottom: 0.4em;background-color: white;}#sk-container-id-1 div.sk-label label {font-family: monospace;font-weight: bold;display: inline-block;line-height: 1.2em;}#sk-container-id-1 div.sk-label-container {text-align: center;}#sk-container-id-1 div.sk-container {/* jupyter's `normalize.less` sets `[hidden] { display: none; }` but bootstrap.min.css set `[hidden] { display: none !important; }` so we also need the `!important` here to be able to override the default hidden behavior on the sphinx rendered scikit-learn.org. See: https://github.com/scikit-learn/scikit-learn/issues/21755 */display: inline-block !important;position: relative;}#sk-container-id-1 div.sk-text-repr-fallback {display: none;}</style><div id=\"sk-container-id-1\" class=\"sk-top-container\"><div class=\"sk-text-repr-fallback\"><pre>LogisticRegression(max_iter=1000, multi_class=&#x27;ovr&#x27;)</pre><b>In a Jupyter environment, please rerun this cell to show the HTML representation or trust the notebook. <br />On GitHub, the HTML representation is unable to render, please try loading this page with nbviewer.org.</b></div><div class=\"sk-container\" hidden><div class=\"sk-item\"><div class=\"sk-estimator sk-toggleable\"><input class=\"sk-toggleable__control sk-hidden--visually\" id=\"sk-estimator-id-1\" type=\"checkbox\" checked><label for=\"sk-estimator-id-1\" class=\"sk-toggleable__label sk-toggleable__label-arrow\">LogisticRegression</label><div class=\"sk-toggleable__content\"><pre>LogisticRegression(max_iter=1000, multi_class=&#x27;ovr&#x27;)</pre></div></div></div></div></div>"
      ],
      "text/plain": [
       "LogisticRegression(max_iter=1000, multi_class='ovr')"
      ]
     },
     "execution_count": 9,
     "metadata": {},
     "output_type": "execute_result"
    }
   ],
   "source": [
    "from sklearn.linear_model import LogisticRegression\n",
    "model = LogisticRegression(multi_class='ovr',solver='lbfgs',max_iter=1000)\n",
    "model.fit(xtrain,ytrain)"
   ]
  },
  {
   "cell_type": "code",
   "execution_count": 11,
   "id": "a9b265c8-5509-4477-a5b6-18a245a4e8e0",
   "metadata": {},
   "outputs": [],
   "source": [
    "ytest_pred = model.predict(xtest)"
   ]
  },
  {
   "cell_type": "code",
   "execution_count": 12,
   "id": "56457684-4e32-45f5-a948-7fe1b3d7a82d",
   "metadata": {},
   "outputs": [
    {
     "data": {
      "text/plain": [
       "array([1, 1, 0, 2, 1, 2, 2, 2, 0, 0, 2, 0, 0, 1, 1, 0, 1, 2, 0, 0, 1, 0,\n",
       "       2, 1, 0, 1, 1, 0, 2, 2, 0, 1, 0, 1, 0, 2, 0, 2, 1, 0, 0, 0, 1, 0,\n",
       "       1, 1, 0, 0, 0, 2, 1, 2, 0, 2, 2, 2, 0, 1, 1, 0, 0, 2, 0, 2, 0, 1,\n",
       "       2, 1, 0, 0, 2, 2, 2, 1, 1, 2, 2, 2, 2, 2, 0, 1, 0, 1, 2, 0, 2, 2,\n",
       "       1, 1, 2, 0, 0, 0, 1, 0, 0, 0, 1, 0, 0, 1, 0, 1, 0, 0, 1, 0, 2, 1,\n",
       "       0, 1, 1, 2, 2, 2, 1, 2, 0, 0, 2, 1, 0, 1, 1, 1, 0, 0, 0, 0, 0, 0,\n",
       "       2, 2, 2, 2, 2, 2, 0, 2, 1, 1, 0, 1, 2, 0, 1, 0, 2, 0, 0, 1, 1, 0,\n",
       "       2, 0, 1, 0, 2, 1, 2, 0, 1, 1, 0, 1, 2, 1, 0, 2, 0, 1, 1, 2, 1, 0,\n",
       "       2, 1, 1, 0, 1, 0, 1, 0, 2, 0, 0, 0, 0, 0, 1, 0, 0, 1, 1, 0, 0, 0,\n",
       "       1, 0])"
      ]
     },
     "execution_count": 12,
     "metadata": {},
     "output_type": "execute_result"
    }
   ],
   "source": [
    "ytest_pred"
   ]
  },
  {
   "cell_type": "code",
   "execution_count": 13,
   "id": "b1f7cbb9-210e-46c2-8298-3b445b0e6638",
   "metadata": {},
   "outputs": [
    {
     "data": {
      "text/plain": [
       "<AxesSubplot: >"
      ]
     },
     "execution_count": 13,
     "metadata": {},
     "output_type": "execute_result"
    },
    {
     "data": {
      "image/png": "[encoded data removed]",
      "text/plain": [
       "<Figure size 640x480 with 2 Axes>"
      ]
     },
     "metadata": {},
     "output_type": "display_data"
    }
   ],
   "source": [
    "from sklearn.metrics import confusion_matrix\n",
    "import seaborn as sns\n",
    "cf = confusion_matrix(ytest, ytest_pred)\n",
    "sns.heatmap(cf,annot=True)"
   ]
  },
  {
   "cell_type": "code",
   "execution_count": 14,
   "id": "59bdbe87-9acb-4a8e-9f43-7d67cca74e66",
   "metadata": {},
   "outputs": [
    {
     "name": "stdout",
     "output_type": "stream",
     "text": [
      "              precision    recall  f1-score   support\n",
      "\n",
      "           0       0.67      0.75      0.71        75\n",
      "           1       0.65      0.64      0.65        64\n",
      "           2       0.70      0.62      0.66        61\n",
      "\n",
      "    accuracy                           0.68       200\n",
      "   macro avg       0.68      0.67      0.67       200\n",
      "weighted avg       0.68      0.68      0.67       200\n",
      "\n"
     ]
    }
   ],
   "source": [
    "from sklearn.metrics import classification_report\n",
    "print(classification_report(ytest, ytest_pred))"
   ]
  },
  {
   "cell_type": "code",
   "execution_count": 15,
   "id": "91608726-b378-40b6-b142-6c9c46333e80",
   "metadata": {},
   "outputs": [
    {
     "data": {
      "text/plain": [
       "array([[9.10622335e-02, 5.88916888e-01, 3.20020878e-01],\n",
       "       [7.74864218e-02, 8.83936419e-01, 3.85771592e-02],\n",
       "       [6.84414416e-01, 2.03496841e-01, 1.12088744e-01],\n",
       "       [1.43095699e-02, 9.01488946e-02, 8.95541536e-01],\n",
       "       [6.87497205e-02, 8.36642893e-01, 9.46073865e-02],\n",
       "       [1.09007702e-01, 3.07621844e-01, 5.83370453e-01],\n",
       "       [3.78594000e-01, 2.08265604e-01, 4.13140396e-01],\n",
       "       [3.14084906e-01, 1.75940674e-01, 5.09974420e-01],\n",
       "       [5.14671931e-01, 1.90311178e-01, 2.95016891e-01],\n",
       "       [5.97817613e-01, 3.02410459e-01, 9.97719283e-02],\n",
       "       [4.20115939e-02, 3.31570100e-01, 6.26418306e-01],\n",
       "       [4.86740270e-01, 1.04804858e-01, 4.08454873e-01],\n",
       "       [8.01115911e-01, 3.37497449e-02, 1.65134344e-01],\n",
       "       [8.98140961e-02, 6.97976196e-01, 2.12209707e-01],\n",
       "       [7.29023255e-02, 8.39105805e-01, 8.79918698e-02],\n",
       "       [5.10619176e-01, 2.09225440e-01, 2.80155384e-01],\n",
       "       [1.24309039e-01, 7.90819633e-01, 8.48713286e-02],\n",
       "       [3.42847759e-03, 3.71703093e-01, 6.24868429e-01],\n",
       "       [6.26581443e-01, 4.39043343e-02, 3.29514222e-01],\n",
       "       [6.49563084e-01, 8.84542905e-02, 2.61982626e-01],\n",
       "       [1.16767688e-02, 7.95935769e-01, 1.92387462e-01],\n",
       "       [4.53777395e-01, 2.50611909e-01, 2.95610696e-01],\n",
       "       [2.40753935e-01, 2.05761283e-01, 5.53484783e-01],\n",
       "       [6.39589313e-03, 7.31480382e-01, 2.62123725e-01],\n",
       "       [6.76678217e-01, 2.84368516e-01, 3.89532674e-02],\n",
       "       [3.71144629e-01, 6.05465992e-01, 2.33893796e-02],\n",
       "       [3.18813142e-01, 4.52639647e-01, 2.28547211e-01],\n",
       "       [6.83244693e-01, 2.38493541e-01, 7.82617662e-02],\n",
       "       [2.74203907e-02, 1.43220881e-01, 8.29358728e-01],\n",
       "       [3.13453132e-02, 2.67360990e-01, 7.01293697e-01],\n",
       "       [6.36362405e-01, 4.70448486e-03, 3.58933110e-01],\n",
       "       [1.11799721e-01, 8.56581124e-01, 3.16191547e-02],\n",
       "       [5.54943145e-01, 8.55020092e-02, 3.59554846e-01],\n",
       "       [4.30083852e-01, 4.61209131e-01, 1.08707017e-01],\n",
       "       [6.10376172e-01, 2.19537737e-02, 3.67670055e-01],\n",
       "       [3.65214793e-01, 2.54965161e-01, 3.79820046e-01],\n",
       "       [5.17863315e-01, 1.22604790e-01, 3.59531896e-01],\n",
       "       [3.71352074e-01, 1.87646632e-01, 4.41001294e-01],\n",
       "       [1.85282225e-01, 7.85600153e-01, 2.91176218e-02],\n",
       "       [6.31443197e-01, 9.51978334e-02, 2.73358970e-01],\n",
       "       [5.28098566e-01, 1.94450574e-01, 2.77450860e-01],\n",
       "       [6.63574790e-01, 3.11069991e-01, 2.53552196e-02],\n",
       "       [1.40129433e-01, 7.20524399e-01, 1.39346168e-01],\n",
       "       [3.69186516e-01, 3.55908963e-01, 2.74904522e-01],\n",
       "       [1.49831309e-01, 8.30003915e-01, 2.01647764e-02],\n",
       "       [1.41605348e-01, 7.84016984e-01, 7.43776686e-02],\n",
       "       [5.90750656e-01, 6.80892471e-02, 3.41160097e-01],\n",
       "       [5.83675457e-01, 3.42831031e-02, 3.82041440e-01],\n",
       "       [4.39607846e-01, 3.16608749e-01, 2.43783405e-01],\n",
       "       [1.20975894e-01, 2.00264222e-01, 6.78759884e-01],\n",
       "       [5.26405923e-02, 8.90741131e-01, 5.66182768e-02],\n",
       "       [3.58708079e-01, 2.12027887e-01, 4.29264034e-01],\n",
       "       [4.96415374e-01, 3.10647413e-01, 1.92937213e-01],\n",
       "       [1.35499109e-02, 4.50637904e-01, 5.35812185e-01],\n",
       "       [8.09176456e-02, 2.47967422e-01, 6.71114933e-01],\n",
       "       [6.22235387e-02, 2.05684246e-01, 7.32092216e-01],\n",
       "       [5.14164878e-01, 1.33257283e-01, 3.52577839e-01],\n",
       "       [3.05518218e-01, 6.26025271e-01, 6.84565112e-02],\n",
       "       [3.65365207e-01, 5.22684584e-01, 1.11950209e-01],\n",
       "       [5.71077017e-01, 6.20385399e-02, 3.66884443e-01],\n",
       "       [5.36082234e-01, 6.55359378e-02, 3.98381829e-01],\n",
       "       [9.59824669e-02, 4.03215726e-01, 5.00801807e-01],\n",
       "       [8.87691162e-01, 3.15977004e-02, 8.07111381e-02],\n",
       "       [2.03425706e-01, 1.14972672e-01, 6.81601623e-01],\n",
       "       [5.57528996e-01, 1.33785541e-02, 4.29092450e-01],\n",
       "       [4.58837340e-01, 4.82103754e-01, 5.90589062e-02],\n",
       "       [4.81245190e-02, 3.21607763e-02, 9.19714705e-01],\n",
       "       [3.25727105e-01, 4.77990633e-01, 1.96282263e-01],\n",
       "       [5.40258785e-01, 1.16425375e-01, 3.43315840e-01],\n",
       "       [5.36381766e-01, 3.85670551e-01, 7.79476834e-02],\n",
       "       [2.21630739e-02, 3.46671630e-01, 6.31165296e-01],\n",
       "       [4.28634574e-01, 1.21524859e-02, 5.59212940e-01],\n",
       "       [4.71906371e-01, 8.47974161e-03, 5.19613887e-01],\n",
       "       [1.17969729e-01, 8.13613864e-01, 6.84164071e-02],\n",
       "       [3.96322487e-01, 5.02477466e-01, 1.01200046e-01],\n",
       "       [8.68042080e-02, 2.72586792e-01, 6.40609000e-01],\n",
       "       [5.81712785e-02, 2.47426784e-01, 6.94401937e-01],\n",
       "       [1.97969897e-01, 1.42289264e-01, 6.59740839e-01],\n",
       "       [8.02402992e-02, 3.82841555e-01, 5.36918146e-01],\n",
       "       [3.11412798e-01, 1.26400165e-01, 5.62187037e-01],\n",
       "       [8.48688254e-01, 8.97967946e-03, 1.42332067e-01],\n",
       "       [4.57160024e-02, 6.01115670e-01, 3.53168328e-01],\n",
       "       [8.08903177e-01, 6.94162866e-02, 1.21680537e-01],\n",
       "       [2.11293559e-01, 6.26724991e-01, 1.61981450e-01],\n",
       "       [7.14773989e-02, 7.11749389e-02, 8.57347662e-01],\n",
       "       [5.40245841e-01, 1.08354558e-01, 3.51399601e-01],\n",
       "       [6.12569195e-02, 2.40240005e-01, 6.98503075e-01],\n",
       "       [3.31346022e-02, 3.56755982e-01, 6.10109416e-01],\n",
       "       [3.16493415e-01, 4.74029013e-01, 2.09477571e-01],\n",
       "       [2.53102449e-01, 6.29991966e-01, 1.16905585e-01],\n",
       "       [3.70178879e-01, 1.75948074e-01, 4.53873047e-01],\n",
       "       [6.86798110e-01, 2.99391087e-01, 1.38108032e-02],\n",
       "       [6.57624184e-01, 2.63659576e-01, 7.87162400e-02],\n",
       "       [6.12796630e-01, 1.67584056e-01, 2.19619314e-01],\n",
       "       [1.40038755e-01, 7.28881089e-01, 1.31080156e-01],\n",
       "       [7.67453256e-01, 6.26081708e-02, 1.69938573e-01],\n",
       "       [6.40579484e-01, 3.37022011e-01, 2.23985058e-02],\n",
       "       [5.54824666e-01, 1.92111395e-02, 4.25964195e-01],\n",
       "       [1.50721031e-02, 8.33235902e-01, 1.51691994e-01],\n",
       "       [4.92408601e-01, 2.50225319e-01, 2.57366081e-01],\n",
       "       [6.57075250e-01, 4.74873231e-03, 3.38176018e-01],\n",
       "       [2.39504243e-01, 6.57814209e-01, 1.02681548e-01],\n",
       "       [5.66811247e-01, 7.64489914e-03, 4.25543854e-01],\n",
       "       [1.97561926e-01, 5.76599324e-01, 2.25838751e-01],\n",
       "       [5.48631675e-01, 7.53205178e-02, 3.76047808e-01],\n",
       "       [5.99998071e-01, 9.33386396e-02, 3.06663290e-01],\n",
       "       [1.70405250e-01, 7.05329649e-01, 1.24265101e-01],\n",
       "       [5.89895524e-01, 4.56374424e-02, 3.64467034e-01],\n",
       "       [3.00681882e-02, 8.97197778e-02, 8.80212034e-01],\n",
       "       [3.09707320e-01, 5.65473703e-01, 1.24818977e-01],\n",
       "       [7.87337029e-01, 8.45494273e-02, 1.28113543e-01],\n",
       "       [1.22482545e-01, 6.02424006e-01, 2.75093448e-01],\n",
       "       [2.87116580e-02, 8.92057234e-01, 7.92311079e-02],\n",
       "       [2.97772067e-01, 7.82382335e-02, 6.23989699e-01],\n",
       "       [2.01046538e-01, 1.40210175e-01, 6.58743288e-01],\n",
       "       [3.27182212e-01, 3.03165645e-01, 3.69652143e-01],\n",
       "       [1.85270884e-01, 7.50463697e-01, 6.42654184e-02],\n",
       "       [2.67629110e-01, 1.78857189e-01, 5.53513700e-01],\n",
       "       [7.60742658e-01, 1.28016718e-01, 1.11240624e-01],\n",
       "       [4.71126800e-01, 2.67506843e-01, 2.61366357e-01],\n",
       "       [4.34795523e-02, 2.68703514e-01, 6.87816934e-01],\n",
       "       [3.53855776e-01, 4.93263467e-01, 1.52880757e-01],\n",
       "       [5.79981100e-01, 1.14408922e-01, 3.05609978e-01],\n",
       "       [4.35746553e-02, 5.37535267e-01, 4.18890078e-01],\n",
       "       [3.82484181e-01, 6.12545067e-01, 4.97075159e-03],\n",
       "       [3.31702917e-01, 4.71800755e-01, 1.96496328e-01],\n",
       "       [4.92495553e-01, 1.53942860e-01, 3.53561587e-01],\n",
       "       [7.10129801e-01, 2.63336570e-01, 2.65336283e-02],\n",
       "       [5.18450823e-01, 2.16780058e-01, 2.64769119e-01],\n",
       "       [5.86238594e-01, 5.97569777e-02, 3.54004429e-01],\n",
       "       [5.61017786e-01, 4.20242853e-01, 1.87393608e-02],\n",
       "       [6.87496673e-01, 6.31466171e-02, 2.49356710e-01],\n",
       "       [5.78459116e-02, 2.98213162e-01, 6.43940926e-01],\n",
       "       [1.54929449e-01, 4.34947617e-02, 8.01575790e-01],\n",
       "       [6.30620677e-02, 4.36592344e-01, 5.00345588e-01],\n",
       "       [1.50058412e-01, 1.34663859e-01, 7.15277729e-01],\n",
       "       [3.04644535e-01, 1.20655511e-01, 5.74699954e-01],\n",
       "       [2.11087278e-01, 1.11774333e-01, 6.77138389e-01],\n",
       "       [6.91814625e-01, 5.94877015e-02, 2.48697674e-01],\n",
       "       [3.95764106e-02, 4.72653519e-01, 4.87770071e-01],\n",
       "       [4.64464611e-01, 4.85425030e-01, 5.01103591e-02],\n",
       "       [3.07752753e-01, 6.83607436e-01, 8.63981140e-03],\n",
       "       [4.28094031e-01, 3.86747980e-01, 1.85157989e-01],\n",
       "       [2.10664779e-01, 7.52123991e-01, 3.72112296e-02],\n",
       "       [2.23969850e-01, 9.70829765e-02, 6.78947173e-01],\n",
       "       [5.73366035e-01, 1.10925187e-01, 3.15708778e-01],\n",
       "       [2.67075629e-01, 4.47897405e-01, 2.85026966e-01],\n",
       "       [5.23029302e-01, 1.13181531e-01, 3.63789167e-01],\n",
       "       [2.95410899e-01, 6.01583999e-02, 6.44430701e-01],\n",
       "       [6.00835494e-01, 9.11244082e-02, 3.08040097e-01],\n",
       "       [5.55153768e-01, 5.44772543e-02, 3.90368977e-01],\n",
       "       [3.23644464e-01, 5.57555186e-01, 1.18800350e-01],\n",
       "       [1.08190704e-01, 5.09250894e-01, 3.82558402e-01],\n",
       "       [4.63471821e-01, 1.82663074e-01, 3.53865105e-01],\n",
       "       [1.48740695e-01, 8.19371621e-02, 7.69322143e-01],\n",
       "       [4.99810443e-01, 4.32988212e-01, 6.72013450e-02],\n",
       "       [3.51254436e-01, 4.09190136e-01, 2.39555428e-01],\n",
       "       [5.55994941e-01, 2.10565993e-01, 2.33439065e-01],\n",
       "       [2.63987489e-01, 1.33509082e-02, 7.22661602e-01],\n",
       "       [8.67742662e-02, 8.08162757e-01, 1.05062977e-01],\n",
       "       [2.47774218e-01, 2.57074443e-01, 4.95151339e-01],\n",
       "       [5.44508158e-01, 1.21331705e-01, 3.34160138e-01],\n",
       "       [1.95777117e-02, 7.52180950e-01, 2.28241338e-01],\n",
       "       [4.29429954e-01, 4.33401795e-01, 1.37168251e-01],\n",
       "       [5.81117251e-01, 8.04401403e-02, 3.38442609e-01],\n",
       "       [2.41535498e-01, 7.41302378e-01, 1.71621239e-02],\n",
       "       [2.74865287e-01, 7.47605615e-02, 6.50374152e-01],\n",
       "       [2.58073060e-01, 6.06895646e-01, 1.35031294e-01],\n",
       "       [5.65177540e-01, 2.41455161e-01, 1.93367300e-01],\n",
       "       [1.62649464e-01, 9.50362008e-02, 7.42314335e-01],\n",
       "       [4.95815034e-01, 1.09856688e-01, 3.94328277e-01],\n",
       "       [3.85408650e-02, 8.89315730e-01, 7.21434046e-02],\n",
       "       [6.80696097e-02, 8.90239603e-01, 4.16907871e-02],\n",
       "       [4.08639241e-01, 1.79413834e-01, 4.11946925e-01],\n",
       "       [2.31796340e-01, 5.15446138e-01, 2.52757521e-01],\n",
       "       [5.95232079e-01, 3.68041275e-01, 3.67266454e-02],\n",
       "       [2.44253344e-02, 2.12304426e-01, 7.63270240e-01],\n",
       "       [3.41142825e-01, 6.41717307e-01, 1.71398673e-02],\n",
       "       [2.09164984e-01, 7.79452291e-01, 1.13827250e-02],\n",
       "       [4.14537723e-01, 2.90408104e-01, 2.95054173e-01],\n",
       "       [2.59669737e-04, 5.63075449e-01, 4.36664882e-01],\n",
       "       [4.97852282e-01, 2.55045468e-01, 2.47102251e-01],\n",
       "       [2.65814831e-03, 6.37765236e-01, 3.59576616e-01],\n",
       "       [4.97576682e-01, 4.55793929e-01, 4.66293889e-02],\n",
       "       [1.27632344e-02, 4.62427447e-01, 5.24809318e-01],\n",
       "       [5.76446060e-01, 1.41054478e-02, 4.09448492e-01],\n",
       "       [5.91684162e-01, 3.62078832e-01, 4.62370060e-02],\n",
       "       [5.34032738e-01, 3.09569362e-02, 4.35010326e-01],\n",
       "       [6.02739479e-01, 3.19529673e-01, 7.77308481e-02],\n",
       "       [4.48960195e-01, 1.58681496e-01, 3.92358308e-01],\n",
       "       [1.56731252e-02, 8.96228515e-01, 8.80983595e-02],\n",
       "       [7.15731915e-01, 5.75461947e-02, 2.26721890e-01],\n",
       "       [5.55463666e-01, 2.80560905e-02, 4.16480244e-01],\n",
       "       [2.62769416e-02, 9.02329421e-01, 7.13936373e-02],\n",
       "       [4.36386267e-01, 5.19008196e-01, 4.46055366e-02],\n",
       "       [7.18567005e-01, 5.74886506e-02, 2.23944345e-01],\n",
       "       [7.64487631e-01, 7.90372250e-02, 1.56475144e-01],\n",
       "       [4.40105268e-01, 1.28831604e-01, 4.31063127e-01],\n",
       "       [1.76705592e-01, 6.03845030e-01, 2.19449378e-01],\n",
       "       [6.70538963e-01, 1.07176120e-02, 3.18743425e-01]])"
      ]
     },
     "execution_count": 15,
     "metadata": {},
     "output_type": "execute_result"
    }
   ],
   "source": [
    "model.predict_proba(xtest)"
   ]
  },
  {
   "cell_type": "code",
   "execution_count": null,
   "id": "842543f3-a9fb-4287-9895-4a9863f3abfc",
   "metadata": {},
   "outputs": [],
   "source": []
  }
 ],
 "metadata": {
  "kernelspec": {
   "display_name": "Python 3 (ipykernel)",
   "language": "python",
   "name": "python3"
  },
  "language_info": {
   "codemirror_mode": {
    "name": "ipython",
    "version": 3
   },
   "file_extension": ".py",
   "mimetype": "text/x-python",
   "name": "python",
   "nbconvert_exporter": "python",
   "pygments_lexer": "ipython3",
   "version": "3.10.8"
  }
 },
 "nbformat": 4,
 "nbformat_minor": 5
}
