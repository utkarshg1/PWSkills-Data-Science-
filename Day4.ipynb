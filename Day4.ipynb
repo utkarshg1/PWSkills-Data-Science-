{
 "cells": [
  {
   "cell_type": "markdown",
   "id": "1169dd49-3160-490c-9e0c-1c99749355e7",
   "metadata": {},
   "source": [
    "# Day 4- Utkarsh Gaikwad"
   ]
  },
  {
   "cell_type": "code",
   "execution_count": 1,
   "id": "cc950eac-6c81-420a-8ec6-c44fd9ebb55a",
   "metadata": {},
   "outputs": [],
   "source": [
    "name = 'Utkarsh Gaikwad'"
   ]
  },
  {
   "cell_type": "code",
   "execution_count": 2,
   "id": "033d8af0-bca0-433f-8576-ce2f9af37172",
   "metadata": {},
   "outputs": [
    {
     "data": {
      "text/plain": [
       "'uTKARSH gAIKWAD'"
      ]
     },
     "execution_count": 2,
     "metadata": {},
     "output_type": "execute_result"
    }
   ],
   "source": [
    "name.swapcase()"
   ]
  },
  {
   "cell_type": "code",
   "execution_count": 3,
   "id": "997bb472-4984-466e-a761-027377a6a87d",
   "metadata": {},
   "outputs": [
    {
     "data": {
      "text/plain": [
       "'Utkarsh Gaikwad'"
      ]
     },
     "execution_count": 3,
     "metadata": {},
     "output_type": "execute_result"
    }
   ],
   "source": [
    "name.title()"
   ]
  },
  {
   "cell_type": "code",
   "execution_count": 5,
   "id": "dcd5cf16-5f1d-47cd-b742-11271a499ca7",
   "metadata": {},
   "outputs": [
    {
     "data": {
      "text/plain": [
       "'utkarsh gaikwad'"
      ]
     },
     "execution_count": 5,
     "metadata": {},
     "output_type": "execute_result"
    }
   ],
   "source": [
    "name.lower()"
   ]
  },
  {
   "cell_type": "code",
   "execution_count": 6,
   "id": "658a026b-1536-47ad-927d-82d28403659c",
   "metadata": {},
   "outputs": [
    {
     "data": {
      "text/plain": [
       "'UTKARSH GAIKWAD'"
      ]
     },
     "execution_count": 6,
     "metadata": {},
     "output_type": "execute_result"
    }
   ],
   "source": [
    "name.upper()"
   ]
  },
  {
   "cell_type": "code",
   "execution_count": 7,
   "id": "32b13278-ff22-4797-a8cb-441e65cdf2e8",
   "metadata": {},
   "outputs": [
    {
     "data": {
      "text/plain": [
       "'Utkarsh gaikwad'"
      ]
     },
     "execution_count": 7,
     "metadata": {},
     "output_type": "execute_result"
    }
   ],
   "source": [
    "name.capitalize()"
   ]
  },
  {
   "cell_type": "code",
   "execution_count": 8,
   "id": "ac4f9968-1c85-4d06-b289-1b7121c9d7b7",
   "metadata": {},
   "outputs": [
    {
     "data": {
      "text/plain": [
       "'dawkiaG hsraktU'"
      ]
     },
     "execution_count": 8,
     "metadata": {},
     "output_type": "execute_result"
    }
   ],
   "source": [
    "name[::-1]"
   ]
  },
  {
   "cell_type": "code",
   "execution_count": 13,
   "id": "28436571-53cd-4417-9441-f3d412e6d822",
   "metadata": {},
   "outputs": [
    {
     "data": {
      "text/plain": [
       "'U t k a r s h'"
      ]
     },
     "execution_count": 13,
     "metadata": {},
     "output_type": "execute_result"
    }
   ],
   "source": [
    "\" \".join(\"Utkarsh\")"
   ]
  },
  {
   "cell_type": "code",
   "execution_count": 9,
   "id": "2fa19911-8abc-4b3f-bc37-e40334debdad",
   "metadata": {},
   "outputs": [
    {
     "data": {
      "text/plain": [
       "<reversed at 0x7f0b64305c60>"
      ]
     },
     "execution_count": 9,
     "metadata": {},
     "output_type": "execute_result"
    }
   ],
   "source": [
    "reversed(name)"
   ]
  },
  {
   "cell_type": "code",
   "execution_count": 10,
   "id": "1432a4ca-739a-45e9-a1ef-937bc65f3762",
   "metadata": {},
   "outputs": [
    {
     "data": {
      "text/plain": [
       "'dawkiaG hsraktU'"
      ]
     },
     "execution_count": 10,
     "metadata": {},
     "output_type": "execute_result"
    }
   ],
   "source": [
    "''.join(reversed(name))"
   ]
  },
  {
   "cell_type": "code",
   "execution_count": 14,
   "id": "7366f60b-a0c7-4cde-92f0-087d3e54a9ed",
   "metadata": {},
   "outputs": [
    {
     "data": {
      "text/plain": [
       "'d a w k i a G   h s r a k t U'"
      ]
     },
     "execution_count": 14,
     "metadata": {},
     "output_type": "execute_result"
    }
   ],
   "source": [
    "' '.join(reversed(name))"
   ]
  },
  {
   "cell_type": "code",
   "execution_count": 15,
   "id": "760fe445-860c-417b-8b5d-00194e027504",
   "metadata": {},
   "outputs": [
    {
     "data": {
      "text/plain": [
       "['d', 'a', 'w', 'k', 'i', 'a', 'G', ' ', 'h', 's', 'r', 'a', 'k', 't', 'U']"
      ]
     },
     "execution_count": 15,
     "metadata": {},
     "output_type": "execute_result"
    }
   ],
   "source": [
    "list(reversed(name))"
   ]
  },
  {
   "cell_type": "code",
   "execution_count": 16,
   "id": "c4e44d25-18f2-4008-b5d8-d1a738935c40",
   "metadata": {},
   "outputs": [
    {
     "name": "stdout",
     "output_type": "stream",
     "text": [
      "dawkiaG hsraktU"
     ]
    }
   ],
   "source": [
    "for i in list(reversed(name)):\n",
    "    print(i,end='')"
   ]
  },
  {
   "cell_type": "code",
   "execution_count": 17,
   "id": "c35bd1de-7129-4998-903e-2f8bd3255d18",
   "metadata": {},
   "outputs": [],
   "source": [
    "string_a = \" Bibtya \""
   ]
  },
  {
   "cell_type": "code",
   "execution_count": 19,
   "id": "18c322c4-3744-45ba-bb7a-1a6ea8ecf0db",
   "metadata": {},
   "outputs": [
    {
     "data": {
      "text/plain": [
       "'Bibtya'"
      ]
     },
     "execution_count": 19,
     "metadata": {},
     "output_type": "execute_result"
    }
   ],
   "source": [
    "string_a.strip(\" \")"
   ]
  },
  {
   "cell_type": "code",
   "execution_count": 21,
   "id": "6fc30662-9a44-4375-a706-99d2fcf6a34e",
   "metadata": {},
   "outputs": [
    {
     "data": {
      "text/plain": [
       "'Bibtya '"
      ]
     },
     "execution_count": 21,
     "metadata": {},
     "output_type": "execute_result"
    }
   ],
   "source": [
    "string_a.lstrip(\" \")"
   ]
  },
  {
   "cell_type": "code",
   "execution_count": 22,
   "id": "c30ba0ac-8f38-4331-ad22-3c29751b7964",
   "metadata": {},
   "outputs": [
    {
     "data": {
      "text/plain": [
       "' Bibtya'"
      ]
     },
     "execution_count": 22,
     "metadata": {},
     "output_type": "execute_result"
    }
   ],
   "source": [
    "string_a.rstrip(\" \")"
   ]
  },
  {
   "cell_type": "code",
   "execution_count": 24,
   "id": "56c12fce-3b7f-4676-80d3-89172489af00",
   "metadata": {},
   "outputs": [
    {
     "data": {
      "text/plain": [
       "'Welcome from PWSkills'"
      ]
     },
     "execution_count": 24,
     "metadata": {},
     "output_type": "execute_result"
    }
   ],
   "source": [
    "string_n = \"Welcome to PWSkills\"\n",
    "string_n.replace(\"to\",\"from\")"
   ]
  },
  {
   "cell_type": "code",
   "execution_count": 25,
   "id": "b1a0207a-0e7d-4708-86c4-80b276d233c1",
   "metadata": {},
   "outputs": [
    {
     "data": {
      "text/plain": [
       "'Weucome to PWSkiuus'"
      ]
     },
     "execution_count": 25,
     "metadata": {},
     "output_type": "execute_result"
    }
   ],
   "source": [
    "string_m = \"Welcome to PWSkills\"\n",
    "string_m.replace(\"l\",\"u\")"
   ]
  },
  {
   "cell_type": "code",
   "execution_count": 26,
   "id": "a7d78fa9-553f-43d5-9ebb-89f87864ea92",
   "metadata": {},
   "outputs": [
    {
     "data": {
      "text/plain": [
       "'hello   world'"
      ]
     },
     "execution_count": 26,
     "metadata": {},
     "output_type": "execute_result"
    }
   ],
   "source": [
    "'hello \\tworld'.expandtabs()"
   ]
  },
  {
   "cell_type": "code",
   "execution_count": 29,
   "id": "8dc7686e-11db-4067-a762-bed2b6097225",
   "metadata": {},
   "outputs": [],
   "source": [
    "str1 = 'Welcome to PWSkills. Dat cience course'"
   ]
  },
  {
   "cell_type": "code",
   "execution_count": 30,
   "id": "90fed5e0-5dc7-464c-b288-7a4a945cc602",
   "metadata": {},
   "outputs": [
    {
     "data": {
      "text/plain": [
       "'Welcome to PWSkills. Data Science course'"
      ]
     },
     "execution_count": 30,
     "metadata": {},
     "output_type": "execute_result"
    }
   ],
   "source": [
    "str1.replace('Dat','Data').replace('cience','Science')"
   ]
  },
  {
   "cell_type": "code",
   "execution_count": 32,
   "id": "dc2154a2-d458-479c-9060-5e67468c5de5",
   "metadata": {},
   "outputs": [
    {
     "data": {
      "text/plain": [
       "True"
      ]
     },
     "execution_count": 32,
     "metadata": {},
     "output_type": "execute_result"
    }
   ],
   "source": [
    "'    '.isspace()"
   ]
  },
  {
   "cell_type": "code",
   "execution_count": 34,
   "id": "efc20be9-0d84-4b1f-94cb-6aa79546d54a",
   "metadata": {},
   "outputs": [
    {
     "name": "stdin",
     "output_type": "stream",
     "text": [
      "Enter the string: \n"
     ]
    },
    {
     "name": "stdout",
     "output_type": "stream",
     "text": [
      "Input entered is  \n"
     ]
    }
   ],
   "source": [
    "str1 = input('Enter the string:')\n",
    "if str1.isspace()==True:\n",
    "    print('No input entered by user')\n",
    "else:\n",
    "    print('Input entered is ',str1)"
   ]
  },
  {
   "cell_type": "code",
   "execution_count": 36,
   "id": "cad85c88-cd98-483d-b764-1c684ae4121b",
   "metadata": {},
   "outputs": [
    {
     "name": "stdout",
     "output_type": "stream",
     "text": [
      "14 = d\n",
      "13 = a\n",
      "12 = w\n",
      "11 = k\n",
      "10 = i\n",
      "9 = a\n",
      "8 = G\n",
      "7 =  \n",
      "6 = h\n",
      "5 = s\n",
      "4 = r\n",
      "3 = a\n",
      "2 = k\n",
      "1 = t\n",
      "0 = U\n"
     ]
    }
   ],
   "source": [
    "string2 = 'Utkarsh Gaikwad'\n",
    "\n",
    "for i in range(len(string2)-1,-1,-1):\n",
    "    print(i,'=',string2[i])\n",
    "    "
   ]
  },
  {
   "cell_type": "code",
   "execution_count": 37,
   "id": "958047b1-b74b-406b-aa1f-6f49534fe858",
   "metadata": {},
   "outputs": [
    {
     "name": "stdout",
     "output_type": "stream",
     "text": [
      "14 = d\n",
      "13 = a\n",
      "12 = w\n",
      "11 = k\n",
      "10 = i\n",
      "9 = a\n",
      "8 = G\n",
      "7 =  \n",
      "6 = h\n",
      "5 = s\n",
      "4 = r\n",
      "3 = a\n",
      "2 = k\n",
      "1 = t\n",
      "0 = U\n"
     ]
    }
   ],
   "source": [
    "ch = len(string2)-1\n",
    "while ch>=0:\n",
    "    print(ch,'=',string2[ch])\n",
    "    ch = ch - 1"
   ]
  },
  {
   "cell_type": "code",
   "execution_count": 41,
   "id": "47ea3a3d-709a-4381-bc5f-d9b9e982e399",
   "metadata": {},
   "outputs": [
    {
     "name": "stdout",
     "output_type": "stream",
     "text": [
      "Vowel Found A at index 0 of string Aditya\n",
      "Vowel Found a at index 5 of string Aditya\n",
      "Vowel Found i at index 2 of string Aditya\n",
      "Number of vowels in Aditya is 3\n"
     ]
    }
   ],
   "source": [
    "name = 'Aditya'\n",
    "vowels = 'AaEeIiOoUu'\n",
    "vwcount = 0\n",
    "for i in vowels:\n",
    "    if name.find(i) >=0:\n",
    "        vwcount = vwcount + 1\n",
    "        print('Vowel Found',i,'at index',name.find(i),'of string',name)\n",
    "print('Number of vowels in',name,'is',vwcount)"
   ]
  },
  {
   "cell_type": "code",
   "execution_count": 48,
   "id": "ff7f6e21-ebae-4c46-968b-3dc4492d7044",
   "metadata": {},
   "outputs": [
    {
     "name": "stdout",
     "output_type": "stream",
     "text": [
      "Science\n"
     ]
    }
   ],
   "source": [
    "lst1 = ['Data', 'Science']\n",
    "for i in lst1:\n",
    "    if i=='Science':\n",
    "        print(i)\n",
    "        break"
   ]
  },
  {
   "cell_type": "code",
   "execution_count": 52,
   "id": "ccde8dd6-5168-4c7e-8560-ff881b8f5a23",
   "metadata": {},
   "outputs": [
    {
     "name": "stdout",
     "output_type": "stream",
     "text": [
      "Present\n"
     ]
    }
   ],
   "source": [
    "if 'Science' in lst1:\n",
    "    print('Present')"
   ]
  },
  {
   "cell_type": "code",
   "execution_count": 53,
   "id": "51c827d7-1f3d-4615-a0f4-daaa91bd3bd6",
   "metadata": {},
   "outputs": [
    {
     "data": {
      "text/plain": [
       "False"
      ]
     },
     "execution_count": 53,
     "metadata": {},
     "output_type": "execute_result"
    }
   ],
   "source": [
    "'sc' in lst1"
   ]
  },
  {
   "cell_type": "code",
   "execution_count": 54,
   "id": "4b6d38bf-e746-4bb8-9331-4d6772410e8c",
   "metadata": {},
   "outputs": [
    {
     "data": {
      "text/plain": [
       "[0, 1, 2, 3, 4, 5, 6, 7, 8, 9, 10, 11, 12, 13, 14, 15, 16, 17, 18, 19]"
      ]
     },
     "execution_count": 54,
     "metadata": {},
     "output_type": "execute_result"
    }
   ],
   "source": [
    "[i for i in range(20)]"
   ]
  },
  {
   "cell_type": "code",
   "execution_count": 69,
   "id": "510ffc60-6be8-41c5-a136-e3fb8b768a88",
   "metadata": {},
   "outputs": [
    {
     "ename": "SyntaxError",
     "evalue": "invalid syntax (1174018323.py, line 1)",
     "output_type": "error",
     "traceback": [
      "\u001b[0;36m  Cell \u001b[0;32mIn[69], line 1\u001b[0;36m\u001b[0m\n\u001b[0;31m    [i for i in range(20) if i%2==0 else 'Odd']\u001b[0m\n\u001b[0m                                    ^\u001b[0m\n\u001b[0;31mSyntaxError\u001b[0m\u001b[0;31m:\u001b[0m invalid syntax\n"
     ]
    }
   ],
   "source": [
    "[i for i in range(20) if i%2==0 else 'Odd']"
   ]
  },
  {
   "cell_type": "code",
   "execution_count": 56,
   "id": "ca129f00-3775-4274-9149-ad697f641497",
   "metadata": {},
   "outputs": [],
   "source": [
    "lst = [1,2,3,4,5,6]\n",
    "sum_odd = 0\n",
    "sum_even = 0\n",
    "for i in lst:\n",
    "    if i%2==0:\n",
    "        sum_even = sum_even+i\n",
    "    else:\n",
    "        sum_odd = sum_odd+i"
   ]
  },
  {
   "cell_type": "code",
   "execution_count": 57,
   "id": "bd63e4be-6771-4558-8d9a-4985355afcc5",
   "metadata": {},
   "outputs": [
    {
     "data": {
      "text/plain": [
       "[1, 2, 3, 4, 5, 6]"
      ]
     },
     "execution_count": 57,
     "metadata": {},
     "output_type": "execute_result"
    }
   ],
   "source": [
    "[num for num in lst]"
   ]
  },
  {
   "cell_type": "code",
   "execution_count": 59,
   "id": "b9da459a-c044-47b4-ae6e-d02ccaab3dab",
   "metadata": {},
   "outputs": [
    {
     "data": {
      "text/plain": [
       "[2, 4, 6]"
      ]
     },
     "execution_count": 59,
     "metadata": {},
     "output_type": "execute_result"
    }
   ],
   "source": [
    "[num for num in lst if num%2==0]"
   ]
  },
  {
   "cell_type": "code",
   "execution_count": 60,
   "id": "178a3e95-b0fd-4e87-a995-ded3046372c3",
   "metadata": {},
   "outputs": [
    {
     "data": {
      "text/plain": [
       "12"
      ]
     },
     "execution_count": 60,
     "metadata": {},
     "output_type": "execute_result"
    }
   ],
   "source": [
    "sum([num for num in lst if num%2==0])"
   ]
  },
  {
   "cell_type": "code",
   "execution_count": 61,
   "id": "a31fb428-9017-4ef7-9b15-d5d43661c503",
   "metadata": {},
   "outputs": [
    {
     "data": {
      "text/plain": [
       "[[1, 2, 3], [4, 5, 6], [7, 8, 9]]"
      ]
     },
     "execution_count": 61,
     "metadata": {},
     "output_type": "execute_result"
    }
   ],
   "source": [
    "lst = [[1,2,3],[4,5,6],[7,8,9]]\n",
    "[i for i in lst] "
   ]
  },
  {
   "cell_type": "code",
   "execution_count": 62,
   "id": "0fc8f36a-167a-43a8-86ac-8a267564a08d",
   "metadata": {},
   "outputs": [
    {
     "data": {
      "text/plain": [
       "[1, 4, 7]"
      ]
     },
     "execution_count": 62,
     "metadata": {},
     "output_type": "execute_result"
    }
   ],
   "source": [
    "[i for i"
   ]
  },
  {
   "cell_type": "code",
   "execution_count": 64,
   "id": "0acf9bcd-0946-41be-b634-934b3cb965da",
   "metadata": {},
   "outputs": [],
   "source": [
    "# Prime numbers calculate numbers \n",
    "numbers = [1,2,3,4,5,6,7,8,9,10]"
   ]
  },
  {
   "cell_type": "code",
   "execution_count": null,
   "id": "72e46307-31bc-45e5-8aed-cce4852a1343",
   "metadata": {},
   "outputs": [],
   "source": [
    "# Create a combination of 2 element list from \n",
    "numbers=[1,2,3,4,5]"
   ]
  },
  {
   "cell_type": "code",
   "execution_count": 70,
   "id": "9ca47321-7af7-43c3-b205-b00ef82bdf1e",
   "metadata": {},
   "outputs": [
    {
     "data": {
      "text/plain": [
       "False"
      ]
     },
     "execution_count": 70,
     "metadata": {},
     "output_type": "execute_result"
    }
   ],
   "source": [
    "False"
   ]
  },
  {
   "cell_type": "code",
   "execution_count": 71,
   "id": "72e56423-0001-456c-bd24-f86252da48ad",
   "metadata": {},
   "outputs": [
    {
     "data": {
      "text/plain": [
       "True"
      ]
     },
     "execution_count": 71,
     "metadata": {},
     "output_type": "execute_result"
    }
   ],
   "source": [
    "True"
   ]
  },
  {
   "cell_type": "code",
   "execution_count": 72,
   "id": "e17901b2-569f-4ed2-866a-31bc1bdeb99c",
   "metadata": {},
   "outputs": [],
   "source": [
    "None"
   ]
  },
  {
   "cell_type": "code",
   "execution_count": 73,
   "id": "e3724fea-214d-4c9d-92fe-bed9bdf0501b",
   "metadata": {},
   "outputs": [
    {
     "ename": "NameError",
     "evalue": "name 'generator' is not defined",
     "output_type": "error",
     "traceback": [
      "\u001b[0;31m---------------------------------------------------------------------------\u001b[0m",
      "\u001b[0;31mNameError\u001b[0m                                 Traceback (most recent call last)",
      "Cell \u001b[0;32mIn[73], line 1\u001b[0m\n\u001b[0;32m----> 1\u001b[0m \u001b[43mgenerator\u001b[49m\n",
      "\u001b[0;31mNameError\u001b[0m: name 'generator' is not defined"
     ]
    }
   ],
   "source": [
    "generator"
   ]
  },
  {
   "cell_type": "code",
   "execution_count": 74,
   "id": "2cb4222f-48a5-480c-891f-629405cea8b7",
   "metadata": {},
   "outputs": [
    {
     "ename": "ZeroDivisionError",
     "evalue": "division by zero",
     "output_type": "error",
     "traceback": [
      "\u001b[0;31m---------------------------------------------------------------------------\u001b[0m",
      "\u001b[0;31mZeroDivisionError\u001b[0m                         Traceback (most recent call last)",
      "Cell \u001b[0;32mIn[74], line 1\u001b[0m\n\u001b[0;32m----> 1\u001b[0m \u001b[38;5;241;43m1\u001b[39;49m\u001b[38;5;241;43m/\u001b[39;49m\u001b[38;5;28;43;01mFalse\u001b[39;49;00m\n",
      "\u001b[0;31mZeroDivisionError\u001b[0m: division by zero"
     ]
    }
   ],
   "source": [
    "1/False"
   ]
  },
  {
   "cell_type": "code",
   "execution_count": 75,
   "id": "1155dfc9-d972-45dd-a0e3-dae0a9558ef6",
   "metadata": {},
   "outputs": [
    {
     "data": {
      "text/plain": [
       "(-1+3j)"
      ]
     },
     "execution_count": 75,
     "metadata": {},
     "output_type": "execute_result"
    }
   ],
   "source": [
    "num1= 23\n",
    "\n",
    "num2= 44\n",
    "\n",
    "num2= 2+3j\n",
    "\n",
    "num1= num2.imag\n",
    "\n",
    "num2-num1"
   ]
  },
  {
   "cell_type": "code",
   "execution_count": 77,
   "id": "838d03da-41c6-4767-aea1-49c3eaa5bdcc",
   "metadata": {},
   "outputs": [
    {
     "name": "stdout",
     "output_type": "stream",
     "text": [
      " Check \n"
     ]
    }
   ],
   "source": [
    "print(''' Check ''')"
   ]
  },
  {
   "cell_type": "code",
   "execution_count": 79,
   "id": "7aa10fc3-d2cb-4745-a22b-b20351cd9073",
   "metadata": {},
   "outputs": [
    {
     "name": "stdout",
     "output_type": "stream",
     "text": [
      "Check\n"
     ]
    }
   ],
   "source": [
    "print(\"\"\"Check\"\"\")"
   ]
  },
  {
   "cell_type": "code",
   "execution_count": 82,
   "id": "bb9e32fd-9f7f-4af9-9ade-b89dfb504773",
   "metadata": {},
   "outputs": [
    {
     "data": {
      "text/plain": [
       "'\\ncheck\\ntry\\n'"
      ]
     },
     "execution_count": 82,
     "metadata": {},
     "output_type": "execute_result"
    }
   ],
   "source": [
    "'''\n",
    "check\n",
    "try\n",
    "'''"
   ]
  },
  {
   "cell_type": "code",
   "execution_count": 83,
   "id": "5dddfd2c-1bb6-4dfd-8091-3d3d061e57b1",
   "metadata": {},
   "outputs": [
    {
     "data": {
      "text/plain": [
       "'\\ncheck\\nexample\\n'"
      ]
     },
     "execution_count": 83,
     "metadata": {},
     "output_type": "execute_result"
    }
   ],
   "source": [
    "\"\"\"\n",
    "check\n",
    "example\n",
    "\"\"\""
   ]
  },
  {
   "cell_type": "code",
   "execution_count": 85,
   "id": "03838538-06cc-4872-937e-613763e70a68",
   "metadata": {},
   "outputs": [
    {
     "data": {
      "text/plain": [
       "True"
      ]
     },
     "execution_count": 85,
     "metadata": {},
     "output_type": "execute_result"
    }
   ],
   "source": [
    "\"pwskills\".upper().lower().isalnum()"
   ]
  },
  {
   "cell_type": "code",
   "execution_count": 89,
   "id": "7d744873-6503-461a-915c-f46cb271e845",
   "metadata": {},
   "outputs": [
    {
     "data": {
      "text/plain": [
       "True"
      ]
     },
     "execution_count": 89,
     "metadata": {},
     "output_type": "execute_result"
    }
   ],
   "source": [
    "\"a\".isalnum()"
   ]
  },
  {
   "cell_type": "code",
   "execution_count": 93,
   "id": "4dc6d4ab-1d14-4da6-97e2-727b25223792",
   "metadata": {},
   "outputs": [
    {
     "data": {
      "text/plain": [
       "True"
      ]
     },
     "execution_count": 93,
     "metadata": {},
     "output_type": "execute_result"
    }
   ],
   "source": [
    "\"pwskills\".isalnum()"
   ]
  },
  {
   "cell_type": "code",
   "execution_count": 94,
   "id": "0e60a839-a8e0-464e-844a-5f4087ae8bfc",
   "metadata": {},
   "outputs": [
    {
     "name": "stdout",
     "output_type": "stream",
     "text": [
      "True\n"
     ]
    }
   ],
   "source": [
    "txt = 'pwskills'\n",
    "x = txt.isalnum()\n",
    "print(x)"
   ]
  },
  {
   "cell_type": "code",
   "execution_count": null,
   "id": "fd4df56d-5573-4949-8154-6ba87f38ec0b",
   "metadata": {},
   "outputs": [],
   "source": []
  }
 ],
 "metadata": {
  "kernelspec": {
   "display_name": "Python 3 (ipykernel)",
   "language": "python",
   "name": "python3"
  },
  "language_info": {
   "codemirror_mode": {
    "name": "ipython",
    "version": 3
   },
   "file_extension": ".py",
   "mimetype": "text/x-python",
   "name": "python",
   "nbconvert_exporter": "python",
   "pygments_lexer": "ipython3",
   "version": "3.10.8"
  }
 },
 "nbformat": 4,
 "nbformat_minor": 5
}
