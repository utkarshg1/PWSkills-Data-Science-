{
 "cells": [
  {
   "cell_type": "markdown",
   "id": "f8bd37f8-3ee5-4629-ac91-74195d46845d",
   "metadata": {},
   "source": [
    "# Day 6 - Definitions - Utarsh Gaikwad"
   ]
  },
  {
   "cell_type": "markdown",
   "id": "18e55022-6a52-4218-8da8-257128f60f60",
   "metadata": {},
   "source": [
    "# Function Part 1"
   ]
  },
  {
   "cell_type": "code",
   "execution_count": 1,
   "id": "9f3be23b-448a-4717-b7ad-b43ee5c61885",
   "metadata": {},
   "outputs": [
    {
     "name": "stdout",
     "output_type": "stream",
     "text": [
      "Hello World\n"
     ]
    }
   ],
   "source": [
    "# inbuilt functions\n",
    "print('Hello World')"
   ]
  },
  {
   "cell_type": "code",
   "execution_count": 2,
   "id": "82798971-f287-4ce7-aefe-abc7189d1430",
   "metadata": {},
   "outputs": [
    {
     "data": {
      "text/plain": [
       "5"
      ]
     },
     "execution_count": 2,
     "metadata": {},
     "output_type": "execute_result"
    }
   ],
   "source": [
    "l = [1,2,3,4,5]\n",
    "len(l)"
   ]
  },
  {
   "cell_type": "code",
   "execution_count": 4,
   "id": "6bd84e26-eec4-46c1-aa1b-6d8862b4c3fb",
   "metadata": {},
   "outputs": [],
   "source": [
    "def test():\n",
    "    pass"
   ]
  },
  {
   "cell_type": "code",
   "execution_count": 9,
   "id": "6c8ce4b3-cddd-497f-9fc1-e1238f29230d",
   "metadata": {},
   "outputs": [],
   "source": [
    "def test1():\n",
    "    \"\"\"\n",
    "    This function prints the custom statement\n",
    "    \"\"\"\n",
    "    print('This is my first function')"
   ]
  },
  {
   "cell_type": "code",
   "execution_count": 10,
   "id": "8e06db6f-43f4-4177-8bc2-2e93a8977775",
   "metadata": {},
   "outputs": [
    {
     "name": "stdout",
     "output_type": "stream",
     "text": [
      "This is my first function\n"
     ]
    }
   ],
   "source": [
    "test1()"
   ]
  },
  {
   "cell_type": "code",
   "execution_count": 11,
   "id": "18447ac6-dce2-485b-9008-b55cb560de0f",
   "metadata": {},
   "outputs": [
    {
     "name": "stdout",
     "output_type": "stream",
     "text": [
      "Help on function test1 in module __main__:\n",
      "\n",
      "test1()\n",
      "    This function prints the custom statement\n",
      "\n"
     ]
    }
   ],
   "source": [
    "help(test1)"
   ]
  },
  {
   "cell_type": "code",
   "execution_count": 12,
   "id": "b82ad98f-1933-4f4f-a101-32b8bf96d2a0",
   "metadata": {},
   "outputs": [
    {
     "name": "stdout",
     "output_type": "stream",
     "text": [
      "This is my first function\n"
     ]
    },
    {
     "ename": "TypeError",
     "evalue": "unsupported operand type(s) for +: 'NoneType' and 'str'",
     "output_type": "error",
     "traceback": [
      "\u001b[0;31m---------------------------------------------------------------------------\u001b[0m",
      "\u001b[0;31mTypeError\u001b[0m                                 Traceback (most recent call last)",
      "Cell \u001b[0;32mIn[12], line 1\u001b[0m\n\u001b[0;32m----> 1\u001b[0m \u001b[43mtest1\u001b[49m\u001b[43m(\u001b[49m\u001b[43m)\u001b[49m\u001b[38;5;241;43m+\u001b[39;49m\u001b[38;5;124;43m'\u001b[39;49m\u001b[38;5;124;43mutkarsh\u001b[39;49m\u001b[38;5;124;43m'\u001b[39;49m\n",
      "\u001b[0;31mTypeError\u001b[0m: unsupported operand type(s) for +: 'NoneType' and 'str'"
     ]
    }
   ],
   "source": [
    "test1()+'utkarsh'"
   ]
  },
  {
   "cell_type": "code",
   "execution_count": 13,
   "id": "8eaa1e8a-f211-4fc0-8dc7-d90e7ad1cdd1",
   "metadata": {},
   "outputs": [],
   "source": [
    "def test2():\n",
    "    return \"This is my test 2\""
   ]
  },
  {
   "cell_type": "code",
   "execution_count": 14,
   "id": "b2f207ea-77ee-4e7c-99f7-f9eaf4664829",
   "metadata": {},
   "outputs": [
    {
     "data": {
      "text/plain": [
       "'This is my test 2'"
      ]
     },
     "execution_count": 14,
     "metadata": {},
     "output_type": "execute_result"
    }
   ],
   "source": [
    "test2()"
   ]
  },
  {
   "cell_type": "code",
   "execution_count": 16,
   "id": "f5440156-5c14-432f-9fd3-2a6ed5afba9d",
   "metadata": {},
   "outputs": [
    {
     "data": {
      "text/plain": [
       "'This is my test 2 Bibtya'"
      ]
     },
     "execution_count": 16,
     "metadata": {},
     "output_type": "execute_result"
    }
   ],
   "source": [
    "test2() + ' Bibtya'"
   ]
  },
  {
   "cell_type": "code",
   "execution_count": 17,
   "id": "b62ea160-1a0b-4600-beda-5523d0da28f5",
   "metadata": {},
   "outputs": [],
   "source": [
    "def test3():\n",
    "    return 1,2,5,'Utkarsh',34.6,True"
   ]
  },
  {
   "cell_type": "code",
   "execution_count": 18,
   "id": "ec58b5b2-4950-4d79-8c2e-e293618b142f",
   "metadata": {},
   "outputs": [
    {
     "data": {
      "text/plain": [
       "(1, 2, 5, 'Utkarsh', 34.6, True)"
      ]
     },
     "execution_count": 18,
     "metadata": {},
     "output_type": "execute_result"
    }
   ],
   "source": [
    "test3()"
   ]
  },
  {
   "cell_type": "code",
   "execution_count": 19,
   "id": "baccb33a-d24e-433d-ad39-f7942b2ca751",
   "metadata": {},
   "outputs": [
    {
     "data": {
      "text/plain": [
       "(1, 2, 3, 4, 5)"
      ]
     },
     "execution_count": 19,
     "metadata": {},
     "output_type": "execute_result"
    }
   ],
   "source": [
    "a = 1,2,3,4,5\n",
    "a"
   ]
  },
  {
   "cell_type": "code",
   "execution_count": 20,
   "id": "918cb205-0778-468d-b63a-f1b31a096911",
   "metadata": {},
   "outputs": [],
   "source": [
    "a,b,c,d=1,2,3.5,False"
   ]
  },
  {
   "cell_type": "code",
   "execution_count": 21,
   "id": "38e9ec09-4213-406e-94bc-2dad2d58e93b",
   "metadata": {},
   "outputs": [
    {
     "data": {
      "text/plain": [
       "1"
      ]
     },
     "execution_count": 21,
     "metadata": {},
     "output_type": "execute_result"
    }
   ],
   "source": [
    "a"
   ]
  },
  {
   "cell_type": "code",
   "execution_count": 22,
   "id": "a21d73a2-a45c-4fed-bc4a-d6d03c96af01",
   "metadata": {},
   "outputs": [
    {
     "data": {
      "text/plain": [
       "2"
      ]
     },
     "execution_count": 22,
     "metadata": {},
     "output_type": "execute_result"
    }
   ],
   "source": [
    "b"
   ]
  },
  {
   "cell_type": "code",
   "execution_count": 23,
   "id": "a32071d3-9f0c-48d7-8909-7e192693492b",
   "metadata": {},
   "outputs": [
    {
     "data": {
      "text/plain": [
       "3.5"
      ]
     },
     "execution_count": 23,
     "metadata": {},
     "output_type": "execute_result"
    }
   ],
   "source": [
    "c"
   ]
  },
  {
   "cell_type": "code",
   "execution_count": 24,
   "id": "eda090cc-4207-4c86-b2cc-6fcaa6bf1343",
   "metadata": {},
   "outputs": [
    {
     "data": {
      "text/plain": [
       "False"
      ]
     },
     "execution_count": 24,
     "metadata": {},
     "output_type": "execute_result"
    }
   ],
   "source": [
    "d"
   ]
  },
  {
   "cell_type": "code",
   "execution_count": 25,
   "id": "a9271a96-d848-4b0d-a0d9-ef96defd6f3a",
   "metadata": {},
   "outputs": [
    {
     "data": {
      "text/plain": [
       "1"
      ]
     },
     "execution_count": 25,
     "metadata": {},
     "output_type": "execute_result"
    }
   ],
   "source": [
    "test3()[0]"
   ]
  },
  {
   "cell_type": "code",
   "execution_count": 27,
   "id": "dfea426b-eb73-478b-a56c-4f4cc936dede",
   "metadata": {},
   "outputs": [
    {
     "data": {
      "text/plain": [
       "2"
      ]
     },
     "execution_count": 27,
     "metadata": {},
     "output_type": "execute_result"
    }
   ],
   "source": [
    "test3()[1]"
   ]
  },
  {
   "cell_type": "code",
   "execution_count": 28,
   "id": "a87f5e38-25f4-4dba-a453-9e24be056860",
   "metadata": {},
   "outputs": [
    {
     "data": {
      "text/plain": [
       "tuple"
      ]
     },
     "execution_count": 28,
     "metadata": {},
     "output_type": "execute_result"
    }
   ],
   "source": [
    "type(test3())"
   ]
  },
  {
   "cell_type": "code",
   "execution_count": 29,
   "id": "3902c1c8-2671-43bb-8b6c-7f5d17ce1daf",
   "metadata": {},
   "outputs": [
    {
     "data": {
      "text/plain": [
       "True"
      ]
     },
     "execution_count": 29,
     "metadata": {},
     "output_type": "execute_result"
    }
   ],
   "source": [
    "test3()[-1]"
   ]
  },
  {
   "cell_type": "code",
   "execution_count": 30,
   "id": "56b83ba4-3995-48c0-9ab9-1b3a9508c291",
   "metadata": {},
   "outputs": [],
   "source": [
    "a,b,c,d,e,f = test3()"
   ]
  },
  {
   "cell_type": "code",
   "execution_count": 31,
   "id": "8710cd7d-f014-4d93-9aca-7b03921dfe23",
   "metadata": {},
   "outputs": [
    {
     "data": {
      "text/plain": [
       "1"
      ]
     },
     "execution_count": 31,
     "metadata": {},
     "output_type": "execute_result"
    }
   ],
   "source": [
    "a"
   ]
  },
  {
   "cell_type": "code",
   "execution_count": 32,
   "id": "4807efd7-74f3-4b99-9fa1-7e4555f5e427",
   "metadata": {},
   "outputs": [
    {
     "data": {
      "text/plain": [
       "2"
      ]
     },
     "execution_count": 32,
     "metadata": {},
     "output_type": "execute_result"
    }
   ],
   "source": [
    "b"
   ]
  },
  {
   "cell_type": "code",
   "execution_count": 33,
   "id": "7bb81f8e-4fe8-47dd-a1a8-4e68f7095d41",
   "metadata": {},
   "outputs": [
    {
     "data": {
      "text/plain": [
       "5"
      ]
     },
     "execution_count": 33,
     "metadata": {},
     "output_type": "execute_result"
    }
   ],
   "source": [
    "c"
   ]
  },
  {
   "cell_type": "code",
   "execution_count": 34,
   "id": "469907bf-c8f1-46f3-a8d5-8f13898e1d7e",
   "metadata": {},
   "outputs": [
    {
     "data": {
      "text/plain": [
       "'Utkarsh'"
      ]
     },
     "execution_count": 34,
     "metadata": {},
     "output_type": "execute_result"
    }
   ],
   "source": [
    "d"
   ]
  },
  {
   "cell_type": "code",
   "execution_count": 35,
   "id": "981b3be4-9930-4b79-b62c-cd182b058b23",
   "metadata": {},
   "outputs": [
    {
     "data": {
      "text/plain": [
       "34.6"
      ]
     },
     "execution_count": 35,
     "metadata": {},
     "output_type": "execute_result"
    }
   ],
   "source": [
    "e"
   ]
  },
  {
   "cell_type": "code",
   "execution_count": 36,
   "id": "9d0038d6-937d-46e1-85e7-8c3f876d4efd",
   "metadata": {},
   "outputs": [
    {
     "data": {
      "text/plain": [
       "True"
      ]
     },
     "execution_count": 36,
     "metadata": {},
     "output_type": "execute_result"
    }
   ],
   "source": [
    "f"
   ]
  },
  {
   "cell_type": "code",
   "execution_count": 37,
   "id": "6f02e9bf-b9eb-468c-8438-fecb9b999751",
   "metadata": {},
   "outputs": [],
   "source": [
    "def test4():\n",
    "    a = 6*3 + 5\n",
    "    return a"
   ]
  },
  {
   "cell_type": "code",
   "execution_count": 38,
   "id": "829ad427-2d1f-4881-b46a-7fedcacef97e",
   "metadata": {},
   "outputs": [
    {
     "data": {
      "text/plain": [
       "23"
      ]
     },
     "execution_count": 38,
     "metadata": {},
     "output_type": "execute_result"
    }
   ],
   "source": [
    "test4()"
   ]
  },
  {
   "cell_type": "code",
   "execution_count": 39,
   "id": "1fff7c8f-f5ff-4550-8a11-343e43a929ff",
   "metadata": {},
   "outputs": [
    {
     "data": {
      "text/plain": [
       "int"
      ]
     },
     "execution_count": 39,
     "metadata": {},
     "output_type": "execute_result"
    }
   ],
   "source": [
    "type(test4())"
   ]
  },
  {
   "cell_type": "code",
   "execution_count": 43,
   "id": "b9c3caa5-46ce-489e-ba07-1c551155bf13",
   "metadata": {},
   "outputs": [],
   "source": [
    "def test5(a,b):\n",
    "    c = 3*a + 2*b\n",
    "    return c"
   ]
  },
  {
   "cell_type": "code",
   "execution_count": 44,
   "id": "fabfe150-85d7-48f4-9878-afda6226ae61",
   "metadata": {},
   "outputs": [
    {
     "ename": "TypeError",
     "evalue": "test5() missing 2 required positional arguments: 'a' and 'b'",
     "output_type": "error",
     "traceback": [
      "\u001b[0;31m---------------------------------------------------------------------------\u001b[0m",
      "\u001b[0;31mTypeError\u001b[0m                                 Traceback (most recent call last)",
      "Cell \u001b[0;32mIn[44], line 1\u001b[0m\n\u001b[0;32m----> 1\u001b[0m \u001b[43mtest5\u001b[49m\u001b[43m(\u001b[49m\u001b[43m)\u001b[49m\n",
      "\u001b[0;31mTypeError\u001b[0m: test5() missing 2 required positional arguments: 'a' and 'b'"
     ]
    }
   ],
   "source": [
    "test5()"
   ]
  },
  {
   "cell_type": "code",
   "execution_count": 41,
   "id": "eda28d41-c9f6-461d-8353-6f41534cd2fb",
   "metadata": {},
   "outputs": [
    {
     "data": {
      "text/plain": [
       "9"
      ]
     },
     "execution_count": 41,
     "metadata": {},
     "output_type": "execute_result"
    }
   ],
   "source": [
    "test5(1,3)"
   ]
  },
  {
   "cell_type": "code",
   "execution_count": 42,
   "id": "a95cdec2-bf77-4e22-bb82-0fa650b4bd21",
   "metadata": {},
   "outputs": [
    {
     "data": {
      "text/plain": [
       "'aaabb'"
      ]
     },
     "execution_count": 42,
     "metadata": {},
     "output_type": "execute_result"
    }
   ],
   "source": [
    "test5('a','b')"
   ]
  },
  {
   "cell_type": "code",
   "execution_count": 46,
   "id": "3a62266c-617e-486b-92bb-d89fe34e669b",
   "metadata": {},
   "outputs": [
    {
     "data": {
      "text/plain": [
       "[1, 2, 3, 1, 2, 3, 1, 2, 3, 4, 5, 6, 4, 5, 6]"
      ]
     },
     "execution_count": 46,
     "metadata": {},
     "output_type": "execute_result"
    }
   ],
   "source": [
    "test5([1,2,3],[4,5,6])"
   ]
  },
  {
   "cell_type": "code",
   "execution_count": 49,
   "id": "9590402d-8476-4e0d-b4b4-d174a30a6495",
   "metadata": {},
   "outputs": [
    {
     "data": {
      "text/plain": [
       "'yyyxx'"
      ]
     },
     "execution_count": 49,
     "metadata": {},
     "output_type": "execute_result"
    }
   ],
   "source": [
    "test5(b='x',a='y')"
   ]
  },
  {
   "cell_type": "code",
   "execution_count": 62,
   "id": "3356a484-868b-4b0b-80b3-ba992631a098",
   "metadata": {},
   "outputs": [],
   "source": [
    "l = [1,2,3,4,54.6,23.4,True,'pwskills',[1,3,4,5,6],20.2,30]"
   ]
  },
  {
   "cell_type": "code",
   "execution_count": 63,
   "id": "9071a6a4-2613-4f51-9a3c-126392613bf7",
   "metadata": {},
   "outputs": [],
   "source": [
    "def test6(x):\n",
    "    a = []\n",
    "    for i in x:\n",
    "        if type(i)==int or type(i)==float:\n",
    "            a.append(i)\n",
    "    return a"
   ]
  },
  {
   "cell_type": "code",
   "execution_count": 64,
   "id": "1d64350c-a616-46d9-8b1e-3a979446820a",
   "metadata": {},
   "outputs": [
    {
     "data": {
      "text/plain": [
       "[1, 2, 3, 4, 54.6, 23.4, 20.2, 30]"
      ]
     },
     "execution_count": 64,
     "metadata": {},
     "output_type": "execute_result"
    }
   ],
   "source": [
    "test6(l)"
   ]
  },
  {
   "cell_type": "code",
   "execution_count": 68,
   "id": "52057914-4e69-4807-980f-cd560e1cd666",
   "metadata": {},
   "outputs": [],
   "source": [
    "def test7(x):\n",
    "    a = []\n",
    "    for i in x:\n",
    "        if type(i)==int or type(i)==float:\n",
    "            a.append(i)\n",
    "        elif type(i)==list:\n",
    "            ln = len(i)\n",
    "            for j in range(ln):\n",
    "                if type(j)==int or typr(j)==float:\n",
    "                    a.append(i[j])\n",
    "    return a"
   ]
  },
  {
   "cell_type": "code",
   "execution_count": 69,
   "id": "bea4769c-822a-4e23-9796-bbf3f8125da9",
   "metadata": {},
   "outputs": [
    {
     "data": {
      "text/plain": [
       "[1, 2, 3, 4, 54.6, 23.4, 1, 3, 4, 5, 6, 20.2, 30]"
      ]
     },
     "execution_count": 69,
     "metadata": {},
     "output_type": "execute_result"
    }
   ],
   "source": [
    "test7(l)"
   ]
  },
  {
   "cell_type": "code",
   "execution_count": 70,
   "id": "753c4fbd-d09b-4da9-8443-fdc67f2b9308",
   "metadata": {},
   "outputs": [
    {
     "data": {
      "text/plain": [
       "[1, 2, 3, 4, 54.6, 23.4, True, 'pwskills', [1, 3, 4, 5, 6], 20.2, 30]"
      ]
     },
     "execution_count": 70,
     "metadata": {},
     "output_type": "execute_result"
    }
   ],
   "source": [
    "l"
   ]
  },
  {
   "cell_type": "markdown",
   "id": "6eedc8dd-bae0-4fe9-a168-b11ffe434eaa",
   "metadata": {},
   "source": [
    "# Function part 2"
   ]
  },
  {
   "cell_type": "code",
   "execution_count": 71,
   "id": "97503753-c4e2-40a8-b09c-1717d60426f8",
   "metadata": {},
   "outputs": [],
   "source": [
    "def test(a,b,c,d,e):\n",
    "    pass"
   ]
  },
  {
   "cell_type": "code",
   "execution_count": 73,
   "id": "564d1bea-b742-4622-bb49-ce6546e8410a",
   "metadata": {},
   "outputs": [],
   "source": [
    "test(1,2,3,4,5)"
   ]
  },
  {
   "cell_type": "code",
   "execution_count": 74,
   "id": "c867ca1a-f2af-44b0-b8d0-088fde6b60c1",
   "metadata": {},
   "outputs": [
    {
     "ename": "TypeError",
     "evalue": "test() takes 5 positional arguments but 7 were given",
     "output_type": "error",
     "traceback": [
      "\u001b[0;31m---------------------------------------------------------------------------\u001b[0m",
      "\u001b[0;31mTypeError\u001b[0m                                 Traceback (most recent call last)",
      "Cell \u001b[0;32mIn[74], line 1\u001b[0m\n\u001b[0;32m----> 1\u001b[0m \u001b[43mtest\u001b[49m\u001b[43m(\u001b[49m\u001b[38;5;241;43m1\u001b[39;49m\u001b[43m,\u001b[49m\u001b[38;5;241;43m2\u001b[39;49m\u001b[43m,\u001b[49m\u001b[38;5;241;43m3\u001b[39;49m\u001b[43m,\u001b[49m\u001b[38;5;241;43m4\u001b[39;49m\u001b[43m,\u001b[49m\u001b[38;5;241;43m5\u001b[39;49m\u001b[43m,\u001b[49m\u001b[38;5;241;43m6\u001b[39;49m\u001b[43m,\u001b[49m\u001b[38;5;241;43m7\u001b[39;49m\u001b[43m)\u001b[49m\n",
      "\u001b[0;31mTypeError\u001b[0m: test() takes 5 positional arguments but 7 were given"
     ]
    }
   ],
   "source": [
    "test(1,2,3,4,5,6,7)"
   ]
  },
  {
   "cell_type": "code",
   "execution_count": 75,
   "id": "c468f371-5e3c-4957-9e61-37402d9539ed",
   "metadata": {},
   "outputs": [],
   "source": [
    "def test1(*args):\n",
    "    return args"
   ]
  },
  {
   "cell_type": "code",
   "execution_count": 76,
   "id": "28fa598b-6522-41bd-8c00-3da7c3c69513",
   "metadata": {},
   "outputs": [
    {
     "data": {
      "text/plain": [
       "(1,)"
      ]
     },
     "execution_count": 76,
     "metadata": {},
     "output_type": "execute_result"
    }
   ],
   "source": [
    "test1(1)"
   ]
  },
  {
   "cell_type": "code",
   "execution_count": 78,
   "id": "ff891d6c-9ce3-447d-8443-d8e9651599fb",
   "metadata": {},
   "outputs": [
    {
     "data": {
      "text/plain": [
       "(1, True, 'example')"
      ]
     },
     "execution_count": 78,
     "metadata": {},
     "output_type": "execute_result"
    }
   ],
   "source": [
    "test1(1,True,'example')"
   ]
  },
  {
   "cell_type": "code",
   "execution_count": 79,
   "id": "13843a6c-9642-4d1b-bce2-33e23724dabc",
   "metadata": {},
   "outputs": [
    {
     "data": {
      "text/plain": [
       "([1, 22, 231], (1, 2, 3), {1, 2, 3}, 'example', 1, 2.5, False)"
      ]
     },
     "execution_count": 79,
     "metadata": {},
     "output_type": "execute_result"
    }
   ],
   "source": [
    "test1([1,22,231],(1,2,3),{1,2,3},'example',1,2.5,False)"
   ]
  },
  {
   "cell_type": "code",
   "execution_count": 80,
   "id": "228db9fc-2809-4ca1-832c-de8d5756bf31",
   "metadata": {},
   "outputs": [],
   "source": [
    "def test2(*utk):\n",
    "    return utk"
   ]
  },
  {
   "cell_type": "code",
   "execution_count": 81,
   "id": "44102439-d26d-4ca4-b2e7-6328ba82249a",
   "metadata": {},
   "outputs": [
    {
     "data": {
      "text/plain": [
       "(1, 2, 3)"
      ]
     },
     "execution_count": 81,
     "metadata": {},
     "output_type": "execute_result"
    }
   ],
   "source": [
    "test2(1,2,3)"
   ]
  },
  {
   "cell_type": "code",
   "execution_count": 82,
   "id": "50df588f-8fe3-4df0-be61-c21ade6e289c",
   "metadata": {},
   "outputs": [],
   "source": [
    "def test3(*args, a):\n",
    "    return args,a"
   ]
  },
  {
   "cell_type": "code",
   "execution_count": 83,
   "id": "b1570b2e-38f0-4b67-ba71-2b8918fb440c",
   "metadata": {},
   "outputs": [
    {
     "ename": "TypeError",
     "evalue": "test3() missing 1 required keyword-only argument: 'a'",
     "output_type": "error",
     "traceback": [
      "\u001b[0;31m---------------------------------------------------------------------------\u001b[0m",
      "\u001b[0;31mTypeError\u001b[0m                                 Traceback (most recent call last)",
      "Cell \u001b[0;32mIn[83], line 1\u001b[0m\n\u001b[0;32m----> 1\u001b[0m \u001b[43mtest3\u001b[49m\u001b[43m(\u001b[49m\u001b[38;5;241;43m3\u001b[39;49m\u001b[43m)\u001b[49m\n",
      "\u001b[0;31mTypeError\u001b[0m: test3() missing 1 required keyword-only argument: 'a'"
     ]
    }
   ],
   "source": [
    "test3(3)"
   ]
  },
  {
   "cell_type": "code",
   "execution_count": 85,
   "id": "4bfc3df3-9f2e-4e7f-b50c-f07f9b994cae",
   "metadata": {},
   "outputs": [
    {
     "data": {
      "text/plain": [
       "((1, 2, 3, 4), 'Utkarsh')"
      ]
     },
     "execution_count": 85,
     "metadata": {},
     "output_type": "execute_result"
    }
   ],
   "source": [
    "test3(1,2,3,4,a='Utkarsh')"
   ]
  },
  {
   "cell_type": "code",
   "execution_count": 89,
   "id": "e294a20a-579f-497b-9180-6f23d764cf00",
   "metadata": {},
   "outputs": [],
   "source": [
    "def test4(*args):\n",
    "    l = []\n",
    "    for i in args:\n",
    "        if type(i)==list:\n",
    "            l.append(i)\n",
    "    return l"
   ]
  },
  {
   "cell_type": "code",
   "execution_count": 90,
   "id": "1ce5323c-e6c3-4054-b2cf-ad9b0699ca79",
   "metadata": {},
   "outputs": [
    {
     "data": {
      "text/plain": [
       "[[4, 5, 6], [123.21, 213.32, False]]"
      ]
     },
     "execution_count": 90,
     "metadata": {},
     "output_type": "execute_result"
    }
   ],
   "source": [
    "test4(1,2,3,[4,5,6],(7,8,True),{54,45,3},'string',[123.21,213.32,False])"
   ]
  },
  {
   "cell_type": "code",
   "execution_count": 91,
   "id": "239e6349-8a2e-4122-830a-e36192607a8c",
   "metadata": {},
   "outputs": [],
   "source": [
    "def test5(**kwargs):\n",
    "    return kwargs"
   ]
  },
  {
   "cell_type": "code",
   "execution_count": 92,
   "id": "bd823e39-a308-4683-8314-5df4020e0145",
   "metadata": {},
   "outputs": [
    {
     "data": {
      "text/plain": [
       "{}"
      ]
     },
     "execution_count": 92,
     "metadata": {},
     "output_type": "execute_result"
    }
   ],
   "source": [
    "test5()"
   ]
  },
  {
   "cell_type": "code",
   "execution_count": 94,
   "id": "9d5b6fd0-3d9f-4d39-8062-ab733d35874d",
   "metadata": {},
   "outputs": [
    {
     "data": {
      "text/plain": [
       "dict"
      ]
     },
     "execution_count": 94,
     "metadata": {},
     "output_type": "execute_result"
    }
   ],
   "source": [
    "type(test5())"
   ]
  },
  {
   "cell_type": "code",
   "execution_count": 95,
   "id": "426293a6-fc4f-4974-ac0f-8e0311dadf8b",
   "metadata": {},
   "outputs": [
    {
     "data": {
      "text/plain": [
       "{'a': 1, 'b': 3.1428, 'c': [1, 2, True], 'd': ('x', 'y', 'z')}"
      ]
     },
     "execution_count": 95,
     "metadata": {},
     "output_type": "execute_result"
    }
   ],
   "source": [
    "test5(a=1,b=3.1428,c=[1,2,True],d=('x','y','z'))"
   ]
  },
  {
   "cell_type": "code",
   "execution_count": 105,
   "id": "52affc8f-f4c4-4398-95e2-e796d50e0680",
   "metadata": {},
   "outputs": [],
   "source": [
    "def test6(**kwargs):\n",
    "    l = []\n",
    "    for i in kwargs.values():\n",
    "        if type(i)==list:\n",
    "            l.append(i)\n",
    "    return l"
   ]
  },
  {
   "cell_type": "code",
   "execution_count": 106,
   "id": "deee1fe2-f5db-4ec4-b21e-6d012419070e",
   "metadata": {},
   "outputs": [
    {
     "data": {
      "text/plain": [
       "[[1, 2, True], [4, 5, 6]]"
      ]
     },
     "execution_count": 106,
     "metadata": {},
     "output_type": "execute_result"
    }
   ],
   "source": [
    "test6(a=1,b=3.1428,c=[1,2,True],d=('x','y','z'),e=[4,5,6])"
   ]
  },
  {
   "cell_type": "code",
   "execution_count": 113,
   "id": "62d81363-b6fa-42ec-8280-6e0c3ad6ade6",
   "metadata": {},
   "outputs": [],
   "source": [
    "def test7(**kwargs):\n",
    "    for i in kwargs.keys():\n",
    "        if type(kwargs[i]) == list:\n",
    "            return i, kwargs[i]"
   ]
  },
  {
   "cell_type": "code",
   "execution_count": 114,
   "id": "9baccde5-c977-42dc-a332-3e031cca80c1",
   "metadata": {},
   "outputs": [
    {
     "data": {
      "text/plain": [
       "('c', [1, 2, True])"
      ]
     },
     "execution_count": 114,
     "metadata": {},
     "output_type": "execute_result"
    }
   ],
   "source": [
    "test7(a=1,b=3.1428,c=[1,2,True],d=('x','y','z'),e=[4,5,6])"
   ]
  },
  {
   "cell_type": "code",
   "execution_count": 117,
   "id": "9e0b63e3-8ecf-48bc-ab44-647b4f45b23f",
   "metadata": {},
   "outputs": [],
   "source": [
    "# Corrected\n",
    "def test7(**kwargs):\n",
    "    d = {}\n",
    "    for i in kwargs.keys():\n",
    "        if type(kwargs[i])==list:\n",
    "            d[i] = kwargs[i]\n",
    "    return d"
   ]
  },
  {
   "cell_type": "code",
   "execution_count": 118,
   "id": "ef3bcc6b-50ed-45cd-a59d-c65dec1ec4a2",
   "metadata": {},
   "outputs": [
    {
     "data": {
      "text/plain": [
       "{'c': [1, 2, True], 'e': [4, 5, 6]}"
      ]
     },
     "execution_count": 118,
     "metadata": {},
     "output_type": "execute_result"
    }
   ],
   "source": [
    "test7(a=1,b=3.1428,c=[1,2,True],d=('x','y','z'),e=[4,5,6])"
   ]
  },
  {
   "cell_type": "code",
   "execution_count": 119,
   "id": "016c9a18-6b11-4cb9-974f-5c069bf54dda",
   "metadata": {},
   "outputs": [],
   "source": [
    "def test8(*args, **kwargs):\n",
    "    return args, kwargs"
   ]
  },
  {
   "cell_type": "code",
   "execution_count": 120,
   "id": "1efe9eb8-125e-4032-9c14-480e7f78ec65",
   "metadata": {},
   "outputs": [
    {
     "data": {
      "text/plain": [
       "((2, 3, 4, 5), {'a': 34.5, 'b': 66, 'c': True, 'd': [1, 2, 3], 'e': {4, 5, 6}})"
      ]
     },
     "execution_count": 120,
     "metadata": {},
     "output_type": "execute_result"
    }
   ],
   "source": [
    "test8(2,3,4,5,a=34.5,b=66,c=True,d=[1,2,3],e={4,5,6})"
   ]
  },
  {
   "cell_type": "markdown",
   "id": "81f1deec-c6f0-4cbc-865c-2c70ee1cba5a",
   "metadata": {},
   "source": [
    "# Generator"
   ]
  },
  {
   "cell_type": "code",
   "execution_count": 1,
   "id": "03fb418d-4205-4d64-ae82-11d739bd2176",
   "metadata": {},
   "outputs": [
    {
     "data": {
      "text/plain": [
       "range(1, 10)"
      ]
     },
     "execution_count": 1,
     "metadata": {},
     "output_type": "execute_result"
    }
   ],
   "source": [
    "range(1,10)"
   ]
  },
  {
   "cell_type": "code",
   "execution_count": 2,
   "id": "1fb186c0-b63c-4e8b-b341-456e16da77f6",
   "metadata": {},
   "outputs": [
    {
     "name": "stdout",
     "output_type": "stream",
     "text": [
      "1\n",
      "2\n",
      "3\n",
      "4\n",
      "5\n",
      "6\n",
      "7\n",
      "8\n",
      "9\n"
     ]
    }
   ],
   "source": [
    "for i in range(1,10):\n",
    "    print(i)"
   ]
  },
  {
   "cell_type": "code",
   "execution_count": 6,
   "id": "aa1003e8-0d8b-40c4-b577-7466f4e10a23",
   "metadata": {},
   "outputs": [],
   "source": [
    "l = [1,2,3,4,5,6,'Utkarsh',16,'Gaikwad',True,8,9,11,12]"
   ]
  },
  {
   "cell_type": "code",
   "execution_count": 4,
   "id": "24c91138-1279-4a36-8ec3-39956b697e68",
   "metadata": {},
   "outputs": [],
   "source": [
    "def test1(a):\n",
    "    n = []\n",
    "    for i in a:\n",
    "        if type(i)==int:\n",
    "            n.append(i)\n",
    "    return n"
   ]
  },
  {
   "cell_type": "code",
   "execution_count": 7,
   "id": "314c25c5-5be2-4050-82e4-5fe1c33e34dd",
   "metadata": {},
   "outputs": [
    {
     "data": {
      "text/plain": [
       "[1, 2, 3, 4, 5, 6, 16, 8, 9, 11, 12]"
      ]
     },
     "execution_count": 7,
     "metadata": {},
     "output_type": "execute_result"
    }
   ],
   "source": [
    "test1(l)"
   ]
  },
  {
   "cell_type": "code",
   "execution_count": 8,
   "id": "def53a43-054a-444b-b932-0eb43841a2f0",
   "metadata": {},
   "outputs": [],
   "source": [
    "def test_fib(n):\n",
    "    a,b = 0,1\n",
    "    for i in range(n):\n",
    "        yield a\n",
    "        a,b = b, a+b"
   ]
  },
  {
   "cell_type": "code",
   "execution_count": 9,
   "id": "ad9e61ef-a4a6-4e5c-92fa-a6332bf64c40",
   "metadata": {},
   "outputs": [
    {
     "data": {
      "text/plain": [
       "<generator object test_fib at 0x7f4793329c40>"
      ]
     },
     "execution_count": 9,
     "metadata": {},
     "output_type": "execute_result"
    }
   ],
   "source": [
    "test_fib(20)"
   ]
  },
  {
   "cell_type": "code",
   "execution_count": 10,
   "id": "d4211e8c-f631-47de-bc65-9007ea4c7d2b",
   "metadata": {},
   "outputs": [
    {
     "name": "stdout",
     "output_type": "stream",
     "text": [
      "0\n",
      "1\n",
      "1\n",
      "2\n",
      "3\n",
      "5\n",
      "8\n",
      "13\n",
      "21\n",
      "34\n",
      "55\n",
      "89\n",
      "144\n",
      "233\n",
      "377\n",
      "610\n",
      "987\n",
      "1597\n",
      "2584\n",
      "4181\n"
     ]
    }
   ],
   "source": [
    "for i in test_fib(20):\n",
    "    print(i)"
   ]
  },
  {
   "cell_type": "code",
   "execution_count": 14,
   "id": "f4e975fb-6646-490d-9edd-f5090a53916c",
   "metadata": {},
   "outputs": [],
   "source": [
    "def test2(n):\n",
    "    a,b = 0,1\n",
    "    for i in range(n):\n",
    "        yield a\n",
    "        a,b = b, (a**2 + b**2)**(0.5)"
   ]
  },
  {
   "cell_type": "code",
   "execution_count": 15,
   "id": "e008557b-ce57-4206-8ac4-4ac9137b1335",
   "metadata": {},
   "outputs": [
    {
     "data": {
      "text/plain": [
       "<generator object test2 at 0x7f4793329af0>"
      ]
     },
     "execution_count": 15,
     "metadata": {},
     "output_type": "execute_result"
    }
   ],
   "source": [
    "test2(10)"
   ]
  },
  {
   "cell_type": "code",
   "execution_count": 16,
   "id": "ffa41240-99ec-4ee0-8067-008ade24022c",
   "metadata": {},
   "outputs": [
    {
     "name": "stdout",
     "output_type": "stream",
     "text": [
      "0\n",
      "1\n",
      "1.0\n",
      "1.4142135623730951\n",
      "1.7320508075688774\n",
      "2.23606797749979\n",
      "2.8284271247461903\n",
      "3.6055512754639896\n",
      "4.582575694955841\n",
      "5.830951894845301\n"
     ]
    }
   ],
   "source": [
    "for i in test2(10):\n",
    "    print(i)"
   ]
  },
  {
   "cell_type": "code",
   "execution_count": null,
   "id": "b5cce890-00b0-4980-a530-d709ccbeca4f",
   "metadata": {},
   "outputs": [],
   "source": []
  }
 ],
 "metadata": {
  "kernelspec": {
   "display_name": "Python 3 (ipykernel)",
   "language": "python",
   "name": "python3"
  },
  "language_info": {
   "codemirror_mode": {
    "name": "ipython",
    "version": 3
   },
   "file_extension": ".py",
   "mimetype": "text/x-python",
   "name": "python",
   "nbconvert_exporter": "python",
   "pygments_lexer": "ipython3",
   "version": "3.10.8"
  }
 },
 "nbformat": 4,
 "nbformat_minor": 5
}
