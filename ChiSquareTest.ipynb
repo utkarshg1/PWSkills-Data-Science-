{
 "cells": [
  {
   "cell_type": "markdown",
   "id": "b260a232-18a1-40c5-abad-99c38a23987f",
   "metadata": {},
   "source": [
    "## ChiSquare Test - Utkarsh Gaikwad"
   ]
  },
  {
   "cell_type": "code",
   "execution_count": 1,
   "id": "cd5f085a-f6c7-473c-801e-4e3b30f304c0",
   "metadata": {},
   "outputs": [],
   "source": [
    "import scipy.stats as stat\n",
    "import numpy as np"
   ]
  },
  {
   "cell_type": "code",
   "execution_count": 5,
   "id": "03e1c87e-5266-483e-965c-51cd6f6ce0e6",
   "metadata": {},
   "outputs": [],
   "source": [
    "# No of hours students study daily in weekly basis\n",
    "# Monday, Tuesday, Wednesday, Thursday, Friday, Saturday, Sunday\n",
    "expected_data = [8,6,7,9,6,9,7]\n",
    "observed_data = [7,8,6,9,9,6,7]"
   ]
  },
  {
   "cell_type": "code",
   "execution_count": 7,
   "id": "4f580e61-c6c2-4047-be29-7ca885f815a5",
   "metadata": {},
   "outputs": [
    {
     "data": {
      "text/plain": [
       "52"
      ]
     },
     "execution_count": 7,
     "metadata": {},
     "output_type": "execute_result"
    }
   ],
   "source": [
    "sum(expected_data)"
   ]
  },
  {
   "cell_type": "code",
   "execution_count": 8,
   "id": "bc5fac2a-44bf-4c13-8ded-b88d1cb133ba",
   "metadata": {},
   "outputs": [
    {
     "data": {
      "text/plain": [
       "52"
      ]
     },
     "execution_count": 8,
     "metadata": {},
     "output_type": "execute_result"
    }
   ],
   "source": [
    "sum(observed_data)"
   ]
  },
  {
   "cell_type": "code",
   "execution_count": 9,
   "id": "4cfcac8d-4979-486d-96e3-2f6b0b38a5d2",
   "metadata": {},
   "outputs": [],
   "source": [
    "# Chi Square goodness of fit\n",
    "chisquare_test_statistic, p_value = stat.chisquare(observed_data,expected_data)"
   ]
  },
  {
   "cell_type": "code",
   "execution_count": 10,
   "id": "0b45c1b8-977c-4f5c-9cc5-d14406d77a8f",
   "metadata": {},
   "outputs": [
    {
     "name": "stdout",
     "output_type": "stream",
     "text": [
      "Chi Square Statistic : 3.4345238095238093\n",
      "p_value : 0.7526596580922865\n"
     ]
    }
   ],
   "source": [
    "print('Chi Square Statistic :',chisquare_test_statistic)\n",
    "print('p_value :',p_value)"
   ]
  },
  {
   "cell_type": "code",
   "execution_count": 11,
   "id": "318fa0e7-2928-4158-b46e-90d2250fce24",
   "metadata": {},
   "outputs": [
    {
     "name": "stdout",
     "output_type": "stream",
     "text": [
      "Critical Chi Square value is : 12.591587243743977\n"
     ]
    }
   ],
   "source": [
    "# Find the critical value\n",
    "significance = 0.05\n",
    "dof = len(observed_data)-1\n",
    "chi_critical = stat.chi2.ppf(1-significance,dof)\n",
    "print('Critical Chi Square value is :',chi_critical)"
   ]
  },
  {
   "cell_type": "code",
   "execution_count": 13,
   "id": "db965f1a-854b-45ec-be3b-eb0ff92feef9",
   "metadata": {},
   "outputs": [
    {
     "name": "stdout",
     "output_type": "stream",
     "text": [
      "Accept the Null Hypothesis\n"
     ]
    }
   ],
   "source": [
    "if chisquare_test_statistic > chi_critical:\n",
    "    print('Reject the Null Hypothesis')\n",
    "else:\n",
    "    print('Accept the Null Hypothesis')"
   ]
  },
  {
   "cell_type": "code",
   "execution_count": 14,
   "id": "f683d2fb-5800-41ea-81ec-2434fc194cb2",
   "metadata": {},
   "outputs": [
    {
     "name": "stdout",
     "output_type": "stream",
     "text": [
      "The data provided by warden is a good fit\n"
     ]
    }
   ],
   "source": [
    "print('The data provided by warden is a good fit')"
   ]
  },
  {
   "cell_type": "code",
   "execution_count": null,
   "id": "65e9bed1-8b90-4ab8-b853-f153f717ae2a",
   "metadata": {},
   "outputs": [],
   "source": []
  }
 ],
 "metadata": {
  "kernelspec": {
   "display_name": "Python 3 (ipykernel)",
   "language": "python",
   "name": "python3"
  },
  "language_info": {
   "codemirror_mode": {
    "name": "ipython",
    "version": 3
   },
   "file_extension": ".py",
   "mimetype": "text/x-python",
   "name": "python",
   "nbconvert_exporter": "python",
   "pygments_lexer": "ipython3",
   "version": "3.10.8"
  }
 },
 "nbformat": 4,
 "nbformat_minor": 5
}
